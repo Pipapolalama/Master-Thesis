{
  "cells": [
    {
      "cell_type": "code",
      "execution_count": 1,
      "metadata": {
        "colab": {
          "base_uri": "https://localhost:8080/"
        },
        "id": "rptgB743eQSt",
        "outputId": "640bca7e-e118-4c13-b4db-5e6a43293bac"
      },
      "outputs": [
        {
          "name": "stdout",
          "output_type": "stream",
          "text": [
            "Linux 07998b1be9b5 6.1.85+ #1 SMP PREEMPT_DYNAMIC Thu Jun 27 21:05:47 UTC 2024 x86_64 x86_64 x86_64 GNU/Linux\n"
          ]
        }
      ],
      "source": [
        "!uname -a"
      ]
    },
    {
      "cell_type": "code",
      "execution_count": 2,
      "metadata": {
        "colab": {
          "base_uri": "https://localhost:8080/",
          "height": 704
        },
        "id": "i5NI2Jw6-NHt",
        "outputId": "ad110b7f-aae2-4e9e-9daa-521d568d85ec"
      },
      "outputs": [
        {
          "name": "stdout",
          "output_type": "stream",
          "text": [
            "Requirement already satisfied: Cython==0.29.36 in /usr/local/lib/python3.10/dist-packages (0.29.36)\n",
            "Found existing installation: scipy 1.9.0\n",
            "Uninstalling scipy-1.9.0:\n",
            "  Successfully uninstalled scipy-1.9.0\n",
            "Collecting scipy==1.9\n",
            "  Using cached scipy-1.9.0-cp310-cp310-manylinux_2_17_x86_64.manylinux2014_x86_64.whl.metadata (2.2 kB)\n",
            "Requirement already satisfied: numpy<1.25.0,>=1.18.5 in /usr/local/lib/python3.10/dist-packages (from scipy==1.9) (1.24.4)\n",
            "Using cached scipy-1.9.0-cp310-cp310-manylinux_2_17_x86_64.manylinux2014_x86_64.whl (43.9 MB)\n",
            "Installing collected packages: scipy\n",
            "\u001b[31mERROR: pip's dependency resolver does not currently take into account all the packages that are installed. This behaviour is the source of the following dependency conflicts.\n",
            "fastai 2.7.16 requires scikit-learn, which is not installed.\n",
            "imbalanced-learn 0.12.3 requires scikit-learn>=1.0.2, which is not installed.\n",
            "librosa 0.10.2.post1 requires scikit-learn>=0.20.0, which is not installed.\n",
            "mlxtend 0.23.1 requires scikit-learn>=1.0.2, which is not installed.\n",
            "sklearn-pandas 2.2.0 requires scikit-learn>=0.23.0, which is not installed.\n",
            "xgboost 2.1.1 requires nvidia-nccl-cu12; platform_system == \"Linux\" and platform_machine != \"aarch64\", which is not installed.\n",
            "yellowbrick 1.5 requires scikit-learn>=1.0.0, which is not installed.\n",
            "albumentations 1.4.13 requires scipy>=1.10.0, but you have scipy 1.9.0 which is incompatible.\u001b[0m\u001b[31m\n",
            "\u001b[0mSuccessfully installed scipy-1.9.0\n",
            "Found existing installation: pyparsing 2.4.0\n",
            "Uninstalling pyparsing-2.4.0:\n",
            "  Successfully uninstalled pyparsing-2.4.0\n",
            "Collecting pyparsing==2.4\n",
            "  Using cached pyparsing-2.4.0-py2.py3-none-any.whl.metadata (1.1 kB)\n",
            "Using cached pyparsing-2.4.0-py2.py3-none-any.whl (62 kB)\n",
            "Installing collected packages: pyparsing\n",
            "\u001b[31mERROR: pip's dependency resolver does not currently take into account all the packages that are installed. This behaviour is the source of the following dependency conflicts.\n",
            "mlxtend 0.23.1 requires scikit-learn>=1.0.2, which is not installed.\n",
            "yellowbrick 1.5 requires scikit-learn>=1.0.0, which is not installed.\n",
            "httplib2 0.22.0 requires pyparsing!=3.0.0,!=3.0.1,!=3.0.2,!=3.0.3,<4,>=2.4.2; python_version > \"3.0\", but you have pyparsing 2.4.0 which is incompatible.\u001b[0m\u001b[31m\n",
            "\u001b[0mSuccessfully installed pyparsing-2.4.0\n"
          ]
        },
        {
          "data": {
            "application/vnd.colab-display-data+json": {
              "id": "41b58b3e325e446e865f702b2f272ea2",
              "pip_warning": {
                "packages": [
                  "pyparsing"
                ]
              }
            }
          },
          "metadata": {},
          "output_type": "display_data"
        },
        {
          "name": "stdout",
          "output_type": "stream",
          "text": [
            "\u001b[33mWARNING: Skipping scikit_learn as it is not installed.\u001b[0m\u001b[33m\n",
            "\u001b[0m"
          ]
        }
      ],
      "source": [
        "!pip install Cython==0.29.36\n",
        "!pip uninstall scipy -y\n",
        "!pip install scipy==1.9\n",
        "!pip uninstall pyparsing -y\n",
        "!pip install pyparsing==2.4\n",
        "!pip uninstall scikit_learn -y"
      ]
    },
    {
      "cell_type": "code",
      "execution_count": 3,
      "metadata": {
        "colab": {
          "base_uri": "https://localhost:8080/"
        },
        "id": "p0chYBZy_Q6M",
        "outputId": "68a9c11e-55a9-48ca-ee64-bb8323762f51"
      },
      "outputs": [
        {
          "name": "stdout",
          "output_type": "stream",
          "text": [
            "Found existing installation: imbalanced-learn 0.12.3\n",
            "Uninstalling imbalanced-learn-0.12.3:\n",
            "  Successfully uninstalled imbalanced-learn-0.12.3\n",
            "Found existing installation: mlxtend 0.23.1\n",
            "Uninstalling mlxtend-0.23.1:\n",
            "  Successfully uninstalled mlxtend-0.23.1\n",
            "Found existing installation: yellowbrick 1.5\n",
            "Uninstalling yellowbrick-1.5:\n",
            "  Successfully uninstalled yellowbrick-1.5\n"
          ]
        }
      ],
      "source": [
        "!pip uninstall imbalanced-learn -y\n",
        "!pip uninstall mlxtend -y\n",
        "!pip uninstall yellowbrick -y"
      ]
    },
    {
      "cell_type": "code",
      "execution_count": 4,
      "metadata": {
        "colab": {
          "base_uri": "https://localhost:8080/"
        },
        "id": "OZYCuVkU_VHY",
        "outputId": "3885e3b9-e204-4d9a-b64a-1a15687c1e8f"
      },
      "outputs": [
        {
          "name": "stdout",
          "output_type": "stream",
          "text": [
            "Collecting scikit-learn==0.24.2\n",
            "  Downloading scikit-learn-0.24.2.tar.gz (7.5 MB)\n",
            "\u001b[?25l     \u001b[90m━━━━━━━━━━━━━━━━━━━━━━━━━━━━━━━━━━━━━━━━\u001b[0m \u001b[32m0.0/7.5 MB\u001b[0m \u001b[31m?\u001b[0m eta \u001b[36m-:--:--\u001b[0m\r\u001b[2K     \u001b[91m━━━━━━━━━━\u001b[0m\u001b[91m╸\u001b[0m\u001b[90m━━━━━━━━━━━━━━━━━━━━━━━━━━━━━\u001b[0m \u001b[32m2.0/7.5 MB\u001b[0m \u001b[31m51.3 MB/s\u001b[0m eta \u001b[36m0:00:01\u001b[0m\r\u001b[2K     \u001b[91m━━━━━━━━━━━━━━━━━━━━━━━━━━━━━━\u001b[0m\u001b[90m╺\u001b[0m\u001b[90m━━━━━━━━━\u001b[0m \u001b[32m5.7/7.5 MB\u001b[0m \u001b[31m75.7 MB/s\u001b[0m eta \u001b[36m0:00:01\u001b[0m\r\u001b[2K     \u001b[91m━━━━━━━━━━━━━━━━━━━━━━━━━━━━━━━━━━━━━━━\u001b[0m\u001b[91m╸\u001b[0m \u001b[32m7.5/7.5 MB\u001b[0m \u001b[31m74.5 MB/s\u001b[0m eta \u001b[36m0:00:01\u001b[0m\r\u001b[2K     \u001b[90m━━━━━━━━━━━━━━━━━━━━━━━━━━━━━━━━━━━━━━━━\u001b[0m \u001b[32m7.5/7.5 MB\u001b[0m \u001b[31m47.3 MB/s\u001b[0m eta \u001b[36m0:00:00\u001b[0m\n",
            "\u001b[?25h  Preparing metadata (pyproject.toml) ... \u001b[?25l\u001b[?25hdone\n",
            "Requirement already satisfied: numpy>=1.13.3 in /usr/local/lib/python3.10/dist-packages (from scikit-learn==0.24.2) (1.24.4)\n",
            "Requirement already satisfied: scipy>=0.19.1 in /usr/local/lib/python3.10/dist-packages (from scikit-learn==0.24.2) (1.9.0)\n",
            "Requirement already satisfied: joblib>=0.11 in /usr/local/lib/python3.10/dist-packages (from scikit-learn==0.24.2) (1.4.2)\n",
            "Requirement already satisfied: threadpoolctl>=2.0.0 in /usr/local/lib/python3.10/dist-packages (from scikit-learn==0.24.2) (3.5.0)\n",
            "Building wheels for collected packages: scikit-learn\n",
            "  Building wheel for scikit-learn (pyproject.toml) ... \u001b[?25l\u001b[?25hdone\n",
            "  Created wheel for scikit-learn: filename=scikit_learn-0.24.2-cp310-cp310-linux_x86_64.whl size=22238025 sha256=bdff47ee3de2d5a2f42c05234f74387bafcb7a1800cc0f8a1bc345c035c1b711\n",
            "  Stored in directory: /root/.cache/pip/wheels/13/a4/68/4e78865652fa14db4a162b491e5138565f97646f9e1f2ab8cc\n",
            "Successfully built scikit-learn\n",
            "Installing collected packages: scikit-learn\n",
            "\u001b[31mERROR: pip's dependency resolver does not currently take into account all the packages that are installed. This behaviour is the source of the following dependency conflicts.\n",
            "bigframes 1.13.0 requires scikit-learn>=1.2.2, but you have scikit-learn 0.24.2 which is incompatible.\u001b[0m\u001b[31m\n",
            "\u001b[0mSuccessfully installed scikit-learn-0.24.2\n"
          ]
        }
      ],
      "source": [
        "!pip install scikit-learn==0.24.2 --no-build-isolation"
      ]
    },
    {
      "cell_type": "code",
      "execution_count": 5,
      "metadata": {
        "colab": {
          "base_uri": "https://localhost:8080/"
        },
        "id": "cvogB4OhBWiG",
        "outputId": "e0c9fa72-3bbf-45ba-ff5d-c8c8176df855"
      },
      "outputs": [
        {
          "name": "stdout",
          "output_type": "stream",
          "text": [
            "Collecting auto-sklearn\n",
            "  Downloading auto-sklearn-0.15.0.tar.gz (6.5 MB)\n",
            "\u001b[?25l     \u001b[90m━━━━━━━━━━━━━━━━━━━━━━━━━━━━━━━━━━━━━━━━\u001b[0m \u001b[32m0.0/6.5 MB\u001b[0m \u001b[31m?\u001b[0m eta \u001b[36m-:--:--\u001b[0m\r\u001b[2K     \u001b[91m━━━━━━━━━━━━━━━━━━━━━━━━━━━━━━━\u001b[0m\u001b[91m╸\u001b[0m\u001b[90m━━━━━━━━\u001b[0m \u001b[32m5.1/6.5 MB\u001b[0m \u001b[31m154.1 MB/s\u001b[0m eta \u001b[36m0:00:01\u001b[0m\r\u001b[2K     \u001b[91m━━━━━━━━━━━━━━━━━━━━━━━━━━━━━━━━━━━━━━━\u001b[0m\u001b[91m╸\u001b[0m \u001b[32m6.5/6.5 MB\u001b[0m \u001b[31m149.4 MB/s\u001b[0m eta \u001b[36m0:00:01\u001b[0m\r\u001b[2K     \u001b[90m━━━━━━━━━━━━━━━━━━━━━━━━━━━━━━━━━━━━━━━━\u001b[0m \u001b[32m6.5/6.5 MB\u001b[0m \u001b[31m86.3 MB/s\u001b[0m eta \u001b[36m0:00:00\u001b[0m\n",
            "\u001b[?25h  Installing build dependencies ... \u001b[?25l\u001b[?25hdone\n",
            "  Getting requirements to build wheel ... \u001b[?25l\u001b[?25hdone\n",
            "  Preparing metadata (pyproject.toml) ... \u001b[?25l\u001b[?25hdone\n",
            "Requirement already satisfied: setuptools in /usr/local/lib/python3.10/dist-packages (from auto-sklearn) (71.0.4)\n",
            "Requirement already satisfied: typing-extensions in /usr/local/lib/python3.10/dist-packages (from auto-sklearn) (4.12.2)\n",
            "Requirement already satisfied: distro in /usr/lib/python3/dist-packages (from auto-sklearn) (1.7.0)\n",
            "Requirement already satisfied: numpy>=1.9.0 in /usr/local/lib/python3.10/dist-packages (from auto-sklearn) (1.24.4)\n",
            "Requirement already satisfied: scipy>=1.7.0 in /usr/local/lib/python3.10/dist-packages (from auto-sklearn) (1.9.0)\n",
            "Requirement already satisfied: joblib in /usr/local/lib/python3.10/dist-packages (from auto-sklearn) (1.4.2)\n",
            "Requirement already satisfied: scikit-learn<0.25.0,>=0.24.0 in /usr/local/lib/python3.10/dist-packages (from auto-sklearn) (0.24.2)\n",
            "Requirement already satisfied: dask>=2021.12 in /usr/local/lib/python3.10/dist-packages (from auto-sklearn) (2024.7.1)\n",
            "Requirement already satisfied: distributed>=2012.12 in /usr/local/lib/python3.10/dist-packages (from auto-sklearn) (2024.7.1)\n",
            "Requirement already satisfied: pyyaml in /usr/local/lib/python3.10/dist-packages (from auto-sklearn) (6.0.2)\n",
            "Requirement already satisfied: pandas>=1.0 in /usr/local/lib/python3.10/dist-packages (from auto-sklearn) (2.1.4)\n",
            "Collecting liac-arff (from auto-sklearn)\n",
            "  Downloading liac-arff-2.5.0.tar.gz (13 kB)\n",
            "  Preparing metadata (setup.py) ... \u001b[?25l\u001b[?25hdone\n",
            "Requirement already satisfied: threadpoolctl in /usr/local/lib/python3.10/dist-packages (from auto-sklearn) (3.5.0)\n",
            "Collecting ConfigSpace<0.5,>=0.4.21 (from auto-sklearn)\n",
            "  Downloading ConfigSpace-0.4.21-cp310-cp310-manylinux_2_17_x86_64.manylinux2014_x86_64.whl.metadata (2.8 kB)\n",
            "Collecting pynisher<0.7,>=0.6.3 (from auto-sklearn)\n",
            "  Downloading pynisher-0.6.4.tar.gz (11 kB)\n",
            "  Preparing metadata (setup.py) ... \u001b[?25l\u001b[?25hdone\n",
            "Collecting pyrfr<0.9,>=0.8.1 (from auto-sklearn)\n",
            "  Downloading pyrfr-0.8.3-cp310-cp310-manylinux_2_17_x86_64.manylinux2014_x86_64.whl.metadata (601 bytes)\n",
            "Collecting smac<1.3,>=1.2 (from auto-sklearn)\n",
            "  Downloading smac-1.2.tar.gz (260 kB)\n",
            "\u001b[2K     \u001b[90m━━━━━━━━━━━━━━━━━━━━━━━━━━━━━━━━━━━━━━━━\u001b[0m \u001b[32m260.9/260.9 kB\u001b[0m \u001b[31m2.6 MB/s\u001b[0m eta \u001b[36m0:00:00\u001b[0m\n",
            "\u001b[?25h  Preparing metadata (setup.py) ... \u001b[?25l\u001b[?25hdone\n",
            "Requirement already satisfied: cython in /usr/local/lib/python3.10/dist-packages (from ConfigSpace<0.5,>=0.4.21->auto-sklearn) (0.29.36)\n",
            "Requirement already satisfied: pyparsing in /usr/local/lib/python3.10/dist-packages (from ConfigSpace<0.5,>=0.4.21->auto-sklearn) (2.4.0)\n",
            "Requirement already satisfied: click>=8.1 in /usr/local/lib/python3.10/dist-packages (from dask>=2021.12->auto-sklearn) (8.1.7)\n",
            "Requirement already satisfied: cloudpickle>=1.5.0 in /usr/local/lib/python3.10/dist-packages (from dask>=2021.12->auto-sklearn) (2.2.1)\n",
            "Requirement already satisfied: fsspec>=2021.09.0 in /usr/local/lib/python3.10/dist-packages (from dask>=2021.12->auto-sklearn) (2024.6.1)\n",
            "Requirement already satisfied: packaging>=20.0 in /usr/local/lib/python3.10/dist-packages (from dask>=2021.12->auto-sklearn) (24.1)\n",
            "Requirement already satisfied: partd>=1.4.0 in /usr/local/lib/python3.10/dist-packages (from dask>=2021.12->auto-sklearn) (1.4.2)\n",
            "Requirement already satisfied: toolz>=0.10.0 in /usr/local/lib/python3.10/dist-packages (from dask>=2021.12->auto-sklearn) (0.12.1)\n",
            "Requirement already satisfied: importlib-metadata>=4.13.0 in /usr/local/lib/python3.10/dist-packages (from dask>=2021.12->auto-sklearn) (8.2.0)\n",
            "Requirement already satisfied: jinja2>=2.10.3 in /usr/local/lib/python3.10/dist-packages (from distributed>=2012.12->auto-sklearn) (3.1.4)\n",
            "Requirement already satisfied: locket>=1.0.0 in /usr/local/lib/python3.10/dist-packages (from distributed>=2012.12->auto-sklearn) (1.0.0)\n",
            "Requirement already satisfied: msgpack>=1.0.0 in /usr/local/lib/python3.10/dist-packages (from distributed>=2012.12->auto-sklearn) (1.0.8)\n",
            "Requirement already satisfied: psutil>=5.7.2 in /usr/local/lib/python3.10/dist-packages (from distributed>=2012.12->auto-sklearn) (5.9.5)\n",
            "Requirement already satisfied: sortedcontainers>=2.0.5 in /usr/local/lib/python3.10/dist-packages (from distributed>=2012.12->auto-sklearn) (2.4.0)\n",
            "Requirement already satisfied: tblib>=1.6.0 in /usr/local/lib/python3.10/dist-packages (from distributed>=2012.12->auto-sklearn) (3.0.0)\n",
            "Requirement already satisfied: tornado>=6.0.4 in /usr/local/lib/python3.10/dist-packages (from distributed>=2012.12->auto-sklearn) (6.3.3)\n",
            "Requirement already satisfied: urllib3>=1.24.3 in /usr/local/lib/python3.10/dist-packages (from distributed>=2012.12->auto-sklearn) (2.0.7)\n",
            "Requirement already satisfied: zict>=3.0.0 in /usr/local/lib/python3.10/dist-packages (from distributed>=2012.12->auto-sklearn) (3.0.0)\n",
            "Requirement already satisfied: python-dateutil>=2.8.2 in /usr/local/lib/python3.10/dist-packages (from pandas>=1.0->auto-sklearn) (2.8.2)\n",
            "Requirement already satisfied: pytz>=2020.1 in /usr/local/lib/python3.10/dist-packages (from pandas>=1.0->auto-sklearn) (2024.1)\n",
            "Requirement already satisfied: tzdata>=2022.1 in /usr/local/lib/python3.10/dist-packages (from pandas>=1.0->auto-sklearn) (2024.1)\n",
            "Collecting emcee>=3.0.0 (from smac<1.3,>=1.2->auto-sklearn)\n",
            "  Downloading emcee-3.1.6-py2.py3-none-any.whl.metadata (3.0 kB)\n",
            "Requirement already satisfied: zipp>=0.5 in /usr/local/lib/python3.10/dist-packages (from importlib-metadata>=4.13.0->dask>=2021.12->auto-sklearn) (3.19.2)\n",
            "Requirement already satisfied: MarkupSafe>=2.0 in /usr/local/lib/python3.10/dist-packages (from jinja2>=2.10.3->distributed>=2012.12->auto-sklearn) (2.1.5)\n",
            "Requirement already satisfied: six>=1.5 in /usr/local/lib/python3.10/dist-packages (from python-dateutil>=2.8.2->pandas>=1.0->auto-sklearn) (1.16.0)\n",
            "Downloading ConfigSpace-0.4.21-cp310-cp310-manylinux_2_17_x86_64.manylinux2014_x86_64.whl (4.8 MB)\n",
            "\u001b[2K   \u001b[90m━━━━━━━━━━━━━━━━━━━━━━━━━━━━━━━━━━━━━━━━\u001b[0m \u001b[32m4.8/4.8 MB\u001b[0m \u001b[31m79.9 MB/s\u001b[0m eta \u001b[36m0:00:00\u001b[0m\n",
            "\u001b[?25hDownloading pyrfr-0.8.3-cp310-cp310-manylinux_2_17_x86_64.manylinux2014_x86_64.whl (4.5 MB)\n",
            "\u001b[2K   \u001b[90m━━━━━━━━━━━━━━━━━━━━━━━━━━━━━━━━━━━━━━━━\u001b[0m \u001b[32m4.5/4.5 MB\u001b[0m \u001b[31m66.2 MB/s\u001b[0m eta \u001b[36m0:00:00\u001b[0m\n",
            "\u001b[?25hDownloading emcee-3.1.6-py2.py3-none-any.whl (47 kB)\n",
            "\u001b[2K   \u001b[90m━━━━━━━━━━━━━━━━━━━━━━━━━━━━━━━━━━━━━━━━\u001b[0m \u001b[32m47.4/47.4 kB\u001b[0m \u001b[31m3.3 MB/s\u001b[0m eta \u001b[36m0:00:00\u001b[0m\n",
            "\u001b[?25hBuilding wheels for collected packages: auto-sklearn, pynisher, smac, liac-arff\n",
            "  Building wheel for auto-sklearn (pyproject.toml) ... \u001b[?25l\u001b[?25hdone\n",
            "  Created wheel for auto-sklearn: filename=auto_sklearn-0.15.0-py3-none-any.whl size=6641938 sha256=4ffe3c35a5ba8645c65d1e40e9152156c9631410ad9dba5685c30e059fc513e6\n",
            "  Stored in directory: /root/.cache/pip/wheels/4d/0a/f9/8c1a06bcc36bc16b467b044b5bb03a90f92a5c5e6cd443414b\n",
            "  Building wheel for pynisher (setup.py) ... \u001b[?25l\u001b[?25hdone\n",
            "  Created wheel for pynisher: filename=pynisher-0.6.4-py3-none-any.whl size=7025 sha256=384c335fe9c6234ab12c2a783c61565c6449b404fa98a72ef109f217f94fff2f\n",
            "  Stored in directory: /root/.cache/pip/wheels/90/7b/53/b21d6b41910f43c7f1557262e579598f83e75e44c659c1bcce\n",
            "  Building wheel for smac (setup.py) ... \u001b[?25l\u001b[?25hdone\n",
            "  Created wheel for smac: filename=smac-1.2-py3-none-any.whl size=215898 sha256=cdf7baa2931ed5c804ea0914189fcf4da4c74506a640bc07217869dc1abae13d\n",
            "  Stored in directory: /root/.cache/pip/wheels/66/2e/d9/2db14bdfcdc36bf12e202b44201df03f194367fcfd85ce2778\n",
            "  Building wheel for liac-arff (setup.py) ... \u001b[?25l\u001b[?25hdone\n",
            "  Created wheel for liac-arff: filename=liac_arff-2.5.0-py3-none-any.whl size=11717 sha256=6a1104c412fda336ffa9524b676d8cef7ba78c1f66e51b7154fb85efb54a040e\n",
            "  Stored in directory: /root/.cache/pip/wheels/5d/2a/9c/3895d9617f8f49a0883ba686326d598e78a1c2f54fe3cae86d\n",
            "Successfully built auto-sklearn pynisher smac liac-arff\n",
            "Installing collected packages: pyrfr, pynisher, liac-arff, emcee, ConfigSpace, smac, auto-sklearn\n",
            "Successfully installed ConfigSpace-0.4.21 auto-sklearn-0.15.0 emcee-3.1.6 liac-arff-2.5.0 pynisher-0.6.4 pyrfr-0.8.3 smac-1.2\n"
          ]
        }
      ],
      "source": [
        "!pip install auto-sklearn\n",
        "\n"
      ]
    },
    {
      "cell_type": "code",
      "execution_count": 6,
      "metadata": {
        "colab": {
          "base_uri": "https://localhost:8080/"
        },
        "id": "_I5XfTGFGbY5",
        "outputId": "760836cb-70cb-4647-e162-272e3d2afa65"
      },
      "outputs": [
        {
          "name": "stdout",
          "output_type": "stream",
          "text": [
            "Found existing installation: pandas 2.1.4\n",
            "Uninstalling pandas-2.1.4:\n",
            "  Would remove:\n",
            "    /usr/local/lib/python3.10/dist-packages/pandas-2.1.4.dist-info/*\n",
            "    /usr/local/lib/python3.10/dist-packages/pandas/*\n",
            "Proceed (Y/n)? y\n",
            "  Successfully uninstalled pandas-2.1.4\n"
          ]
        }
      ],
      "source": [
        "!pip uninstall pandas"
      ]
    },
    {
      "cell_type": "code",
      "execution_count": 7,
      "metadata": {
        "colab": {
          "base_uri": "https://localhost:8080/"
        },
        "id": "y0ypiWPvGpWN",
        "outputId": "a25d9cd1-82f6-4f02-b26f-4c99e6606f0e"
      },
      "outputs": [
        {
          "name": "stdout",
          "output_type": "stream",
          "text": [
            "Collecting pandas==1.5.3\n",
            "  Downloading pandas-1.5.3-cp310-cp310-manylinux_2_17_x86_64.manylinux2014_x86_64.whl.metadata (11 kB)\n",
            "Requirement already satisfied: python-dateutil>=2.8.1 in /usr/local/lib/python3.10/dist-packages (from pandas==1.5.3) (2.8.2)\n",
            "Requirement already satisfied: pytz>=2020.1 in /usr/local/lib/python3.10/dist-packages (from pandas==1.5.3) (2024.1)\n",
            "Requirement already satisfied: numpy>=1.21.0 in /usr/local/lib/python3.10/dist-packages (from pandas==1.5.3) (1.24.4)\n",
            "Requirement already satisfied: six>=1.5 in /usr/local/lib/python3.10/dist-packages (from python-dateutil>=2.8.1->pandas==1.5.3) (1.16.0)\n",
            "Downloading pandas-1.5.3-cp310-cp310-manylinux_2_17_x86_64.manylinux2014_x86_64.whl (12.1 MB)\n",
            "\u001b[2K   \u001b[90m━━━━━━━━━━━━━━━━━━━━━━━━━━━━━━━━━━━━━━━━\u001b[0m \u001b[32m12.1/12.1 MB\u001b[0m \u001b[31m46.2 MB/s\u001b[0m eta \u001b[36m0:00:00\u001b[0m\n",
            "\u001b[?25hInstalling collected packages: pandas\n",
            "\u001b[31mERROR: pip's dependency resolver does not currently take into account all the packages that are installed. This behaviour is the source of the following dependency conflicts.\n",
            "bigframes 1.13.0 requires scikit-learn>=1.2.2, but you have scikit-learn 0.24.2 which is incompatible.\n",
            "cudf-cu12 24.4.1 requires pandas<2.2.2dev0,>=2.0, but you have pandas 1.5.3 which is incompatible.\n",
            "google-colab 1.0.0 requires pandas==2.1.4, but you have pandas 1.5.3 which is incompatible.\n",
            "xarray 2024.6.0 requires pandas>=2.0, but you have pandas 1.5.3 which is incompatible.\u001b[0m\u001b[31m\n",
            "\u001b[0mSuccessfully installed pandas-1.5.3\n"
          ]
        }
      ],
      "source": [
        "!pip install pandas==1.5.3"
      ]
    },
    {
      "cell_type": "code",
      "execution_count": 8,
      "metadata": {
        "id": "qTgR81rZCiyw"
      },
      "outputs": [],
      "source": [
        "import autosklearn"
      ]
    },
    {
      "cell_type": "code",
      "execution_count": 9,
      "metadata": {
        "colab": {
          "base_uri": "https://localhost:8080/"
        },
        "id": "WR_vq4JnEMNM",
        "outputId": "9ee4bd25-e069-4ed0-822c-f4528e36c3da"
      },
      "outputs": [
        {
          "name": "stdout",
          "output_type": "stream",
          "text": [
            "[WARNING] [2024-08-19 09:20:12,246:Client-AutoML(1):housing_prices] Capping the per_run_time_limit to 59.0 to have time for a least 2 models in each process.\n",
            "[WARNING] [2024-08-19 09:20:12,985:Client-AutoMLSMBO(1)::housing_prices] Configuration 26 not found\n",
            "[WARNING] [2024-08-19 09:20:12,985:Client-AutoMLSMBO(1)::housing_prices] Configuration 240 not found\n",
            "[WARNING] [2024-08-19 09:20:12,985:Client-AutoMLSMBO(1)::housing_prices] Configuration 23 not found\n",
            "[WARNING] [2024-08-19 09:20:12,985:Client-AutoMLSMBO(1)::housing_prices] Configuration 115 not found\n",
            "[WARNING] [2024-08-19 09:20:12,985:Client-AutoMLSMBO(1)::housing_prices] Configuration 245 not found\n",
            "[WARNING] [2024-08-19 09:20:12,985:Client-AutoMLSMBO(1)::housing_prices] Configuration 282 not found\n",
            "[WARNING] [2024-08-19 09:20:12,985:Client-AutoMLSMBO(1)::housing_prices] Configuration 225 not found\n",
            "[WARNING] [2024-08-19 09:20:12,986:Client-AutoMLSMBO(1)::housing_prices] Configuration 197 not found\n",
            "[WARNING] [2024-08-19 09:20:12,986:Client-AutoMLSMBO(1)::housing_prices] Configuration 257 not found\n",
            "[WARNING] [2024-08-19 09:20:12,986:Client-AutoMLSMBO(1)::housing_prices] Configuration 79 not found\n",
            "[WARNING] [2024-08-19 09:20:12,986:Client-AutoMLSMBO(1)::housing_prices] Configuration 86 not found\n",
            "[WARNING] [2024-08-19 09:20:12,986:Client-AutoMLSMBO(1)::housing_prices] Configuration 163 not found\n",
            "[WARNING] [2024-08-19 09:20:12,986:Client-AutoMLSMBO(1)::housing_prices] Configuration 235 not found\n",
            "[WARNING] [2024-08-19 09:20:12,986:Client-AutoMLSMBO(1)::housing_prices] Configuration 262 not found\n",
            "[WARNING] [2024-08-19 09:20:12,986:Client-AutoMLSMBO(1)::housing_prices] Configuration 237 not found\n",
            "[WARNING] [2024-08-19 09:20:12,986:Client-AutoMLSMBO(1)::housing_prices] Configuration 270 not found\n",
            "[WARNING] [2024-08-19 09:20:12,986:Client-AutoMLSMBO(1)::housing_prices] Configuration 138 not found\n",
            "[WARNING] [2024-08-19 09:20:12,986:Client-AutoMLSMBO(1)::housing_prices] Configuration 95 not found\n",
            "[WARNING] [2024-08-19 09:20:12,986:Client-AutoMLSMBO(1)::housing_prices] Configuration 98 not found\n",
            "[WARNING] [2024-08-19 09:20:12,986:Client-AutoMLSMBO(1)::housing_prices] Configuration 150 not found\n",
            "[WARNING] [2024-08-19 09:20:12,986:Client-AutoMLSMBO(1)::housing_prices] Configuration 171 not found\n",
            "[WARNING] [2024-08-19 09:20:12,987:Client-AutoMLSMBO(1)::housing_prices] Configuration 73 not found\n",
            "[WARNING] [2024-08-19 09:20:12,987:Client-AutoMLSMBO(1)::housing_prices] Configuration 54 not found\n",
            "[WARNING] [2024-08-19 09:20:12,987:Client-AutoMLSMBO(1)::housing_prices] Configuration 6 not found\n",
            "[WARNING] [2024-08-19 09:20:12,987:Client-AutoMLSMBO(1)::housing_prices] Configuration 34 not found\n",
            "[WARNING] [2024-08-19 09:20:12,987:Client-AutoMLSMBO(1)::housing_prices] Configuration 77 not found\n",
            "[WARNING] [2024-08-19 09:20:12,987:Client-AutoMLSMBO(1)::housing_prices] Configuration 67 not found\n",
            "[WARNING] [2024-08-19 09:20:12,987:Client-AutoMLSMBO(1)::housing_prices] Configuration 17 not found\n",
            "[WARNING] [2024-08-19 09:20:12,987:Client-AutoMLSMBO(1)::housing_prices] Configuration 57 not found\n",
            "[WARNING] [2024-08-19 09:20:12,989:Client-AutoMLSMBO(1)::housing_prices] Configuration 199 not found\n",
            "[WARNING] [2024-08-19 09:20:12,989:Client-AutoMLSMBO(1)::housing_prices] Configuration 174 not found\n",
            "[WARNING] [2024-08-19 09:20:12,989:Client-AutoMLSMBO(1)::housing_prices] Configuration 10 not found\n",
            "[WARNING] [2024-08-19 09:20:12,989:Client-AutoMLSMBO(1)::housing_prices] Configuration 140 not found\n",
            "[WARNING] [2024-08-19 09:20:12,989:Client-AutoMLSMBO(1)::housing_prices] Configuration 258 not found\n",
            "[WARNING] [2024-08-19 09:20:12,990:Client-AutoMLSMBO(1)::housing_prices] Configuration 268 not found\n",
            "[WARNING] [2024-08-19 09:20:12,990:Client-AutoMLSMBO(1)::housing_prices] Configuration 132 not found\n",
            "[WARNING] [2024-08-19 09:20:12,990:Client-AutoMLSMBO(1)::housing_prices] Configuration 232 not found\n",
            "[WARNING] [2024-08-19 09:20:12,990:Client-AutoMLSMBO(1)::housing_prices] Configuration 158 not found\n",
            "[WARNING] [2024-08-19 09:20:12,990:Client-AutoMLSMBO(1)::housing_prices] Configuration 2 not found\n",
            "[WARNING] [2024-08-19 09:20:12,990:Client-AutoMLSMBO(1)::housing_prices] Configuration 89 not found\n",
            "[WARNING] [2024-08-19 09:20:12,990:Client-AutoMLSMBO(1)::housing_prices] Configuration 107 not found\n",
            "[WARNING] [2024-08-19 09:20:12,990:Client-AutoMLSMBO(1)::housing_prices] Configuration 184 not found\n",
            "[WARNING] [2024-08-19 09:20:12,991:Client-AutoMLSMBO(1)::housing_prices] Configuration 124 not found\n",
            "[WARNING] [2024-08-19 09:20:12,991:Client-AutoMLSMBO(1)::housing_prices] Configuration 102 not found\n",
            "[WARNING] [2024-08-19 09:20:12,991:Client-AutoMLSMBO(1)::housing_prices] Configuration 186 not found\n",
            "[WARNING] [2024-08-19 09:20:12,991:Client-AutoMLSMBO(1)::housing_prices] Configuration 126 not found\n",
            "[WARNING] [2024-08-19 09:20:12,991:Client-AutoMLSMBO(1)::housing_prices] Configuration 266 not found\n",
            "[WARNING] [2024-08-19 09:20:12,991:Client-AutoMLSMBO(1)::housing_prices] Configuration 207 not found\n",
            "[WARNING] [2024-08-19 09:20:12,991:Client-AutoMLSMBO(1)::housing_prices] Configuration 247 not found\n",
            "[WARNING] [2024-08-19 09:20:12,991:Client-AutoMLSMBO(1)::housing_prices] Configuration 156 not found\n",
            "[WARNING] [2024-08-19 09:20:12,991:Client-AutoMLSMBO(1)::housing_prices] Configuration 31 not found\n",
            "[WARNING] [2024-08-19 09:20:12,991:Client-AutoMLSMBO(1)::housing_prices] Configuration 191 not found\n",
            "[WARNING] [2024-08-19 09:20:12,991:Client-AutoMLSMBO(1)::housing_prices] Configuration 276 not found\n",
            "[WARNING] [2024-08-19 09:20:12,991:Client-AutoMLSMBO(1)::housing_prices] Configuration 40 not found\n",
            "[WARNING] [2024-08-19 09:20:12,991:Client-AutoMLSMBO(1)::housing_prices] Configuration 182 not found\n",
            "[WARNING] [2024-08-19 09:20:12,992:Client-AutoMLSMBO(1)::housing_prices] Configuration 63 not found\n",
            "[WARNING] [2024-08-19 09:20:12,992:Client-AutoMLSMBO(1)::housing_prices] Configuration 201 not found\n",
            "[WARNING] [2024-08-19 09:20:12,992:Client-AutoMLSMBO(1)::housing_prices] Configuration 211 not found\n",
            "[WARNING] [2024-08-19 09:20:12,992:Client-AutoMLSMBO(1)::housing_prices] Configuration 274 not found\n",
            "[WARNING] [2024-08-19 09:20:12,992:Client-AutoMLSMBO(1)::housing_prices] Configuration 105 not found\n",
            "[WARNING] [2024-08-19 09:20:12,992:Client-AutoMLSMBO(1)::housing_prices] Configuration 160 not found\n",
            "[WARNING] [2024-08-19 09:20:12,992:Client-AutoMLSMBO(1)::housing_prices] Configuration 285 not found\n",
            "[WARNING] [2024-08-19 09:20:12,992:Client-AutoMLSMBO(1)::housing_prices] Configuration 193 not found\n",
            "[WARNING] [2024-08-19 09:20:12,992:Client-AutoMLSMBO(1)::housing_prices] Configuration 252 not found\n",
            "[WARNING] [2024-08-19 09:20:12,993:Client-AutoMLSMBO(1)::housing_prices] Configuration 101 not found\n",
            "[WARNING] [2024-08-19 09:20:12,993:Client-AutoMLSMBO(1)::housing_prices] Configuration 128 not found\n",
            "[WARNING] [2024-08-19 09:20:12,993:Client-AutoMLSMBO(1)::housing_prices] Configuration 251 not found\n",
            "[WARNING] [2024-08-19 09:20:12,993:Client-AutoMLSMBO(1)::housing_prices] Configuration 50 not found\n",
            "[WARNING] [2024-08-19 09:20:12,993:Client-AutoMLSMBO(1)::housing_prices] Configuration 136 not found\n",
            "[WARNING] [2024-08-19 09:20:12,993:Client-AutoMLSMBO(1)::housing_prices] Configuration 148 not found\n",
            "[WARNING] [2024-08-19 09:20:12,993:Client-AutoMLSMBO(1)::housing_prices] Configuration 153 not found\n",
            "[WARNING] [2024-08-19 09:20:12,993:Client-AutoMLSMBO(1)::housing_prices] Configuration 228 not found\n",
            "[WARNING] [2024-08-19 09:20:12,993:Client-AutoMLSMBO(1)::housing_prices] Configuration 110 not found\n",
            "[WARNING] [2024-08-19 09:21:13,296:Client-EnsembleBuilder] No runs were available to build an ensemble from\n"
          ]
        },
        {
          "data": {
            "text/plain": [
              "AutoSklearnRegressor(ensemble_class=<class 'autosklearn.ensembles.ensemble_selection.EnsembleSelection'>,\n",
              "                     per_run_time_limit=60, time_left_for_this_task=120)"
            ]
          },
          "execution_count": 9,
          "metadata": {},
          "output_type": "execute_result"
        }
      ],
      "source": [
        "import autosklearn.regression\n",
        "import pandas as pd\n",
        "from sklearn.model_selection import train_test_split\n",
        "from sklearn.preprocessing import OneHotEncoder\n",
        "from sklearn.compose import ColumnTransformer\n",
        "import numpy as np\n",
        "\n",
        "# Load the dataset\n",
        "df = pd.read_csv(\"combined_regression_normal.csv\") ##dataset without scraping_time and Ad_time, leads to error\n",
        "\n",
        "df = df.dropna(subset=['Price'])  # Remove rows with missing prices\n",
        "\n",
        "# Separate features and target\n",
        "X = df.drop(['Price'], axis=1)\n",
        "y = df['Price']\n",
        "\n",
        "# One-Hot Encode categorical variables\n",
        "categorical_cols = X.select_dtypes(include=['object']).columns\n",
        "preprocessor = ColumnTransformer(\n",
        "    transformers=[\n",
        "        ('cat', OneHotEncoder(), categorical_cols)],\n",
        "    remainder='passthrough')\n",
        "\n",
        "X = preprocessor.fit_transform(X)\n",
        "\n",
        "\n",
        "# Split the data into training and testing sets\n",
        "X_train, X_test, y_train, y_test = train_test_split(X, y, random_state=1)\n",
        "\n",
        "# Initialize and train the AutoSklearnRegressor\n",
        "#max time here 4h\n",
        "\n",
        "automl_regressor = autosklearn.regression.AutoSklearnRegressor(\n",
        "        time_left_for_this_task= 14400,\n",
        "    per_run_time_limit= 1200,\n",
        ")\n",
        "\n",
        "automl_regressor.fit(X_train, y_train, dataset_name=\"housing_prices\")\n",
        "\n"
      ]
    },
    {
      "cell_type": "code",
      "execution_count": 10,
      "metadata": {
        "colab": {
          "base_uri": "https://localhost:8080/"
        },
        "id": "0k_PFhigHqYp",
        "outputId": "79b4087a-b0a1-4bb7-eea2-9a654498036f"
      },
      "outputs": [
        {
          "name": "stdout",
          "output_type": "stream",
          "text": [
            "          rank  ensemble_weight           type      cost   duration\n",
            "model_id                                                           \n",
            "4            1             0.52    extra_trees  0.633090  34.110797\n",
            "3            2             0.48  liblinear_svr  0.641014   0.865339\n"
          ]
        }
      ],
      "source": [
        "print(automl_regressor.leaderboard())"
      ]
    },
    {
      "cell_type": "code",
      "execution_count": 11,
      "metadata": {
        "colab": {
          "base_uri": "https://localhost:8080/"
        },
        "id": "GdPhm2-0LKfr",
        "outputId": "178f6e4b-4f23-4246-b99a-24a424456687"
      },
      "outputs": [
        {
          "name": "stdout",
          "output_type": "stream",
          "text": [
            "R2:                         0.4286515430364132\n",
            "Mean Squared Error:         3125296539632.9985\n",
            "Root Mean Squared Error:    1767850.8250508578\n",
            "Mean Absolute Error:        1029676.5043672344\n",
            "Explained Variance:         0.42913474567066046\n",
            "Max Error:                  39415499.0\n",
            "Median Absolute Error       677222.375\n"
          ]
        }
      ],
      "source": [
        "import sklearn.metrics as skm\n",
        "\n",
        "y_pred = automl_regressor.predict(X_test)\n",
        "\n",
        "print(f\"R2:                         {skm.r2_score(y_test, y_pred)}\")\n",
        "print(f\"Mean Squared Error:         {skm.mean_squared_error(y_test, y_pred)}\")\n",
        "print(f\"Root Mean Squared Error:    {skm.mean_squared_error(y_test, y_pred, squared=False)}\")\n",
        "print(f\"Mean Absolute Error:        {skm.mean_absolute_error(y_test, y_pred)}\")\n",
        "print(f\"Explained Variance:         {skm.explained_variance_score(y_test, y_pred)}\")\n",
        "print(f\"Max Error:                  {skm.max_error(y_test, y_pred)}\")\n",
        "print(f\"Median Absolute Error       {skm.median_absolute_error(y_test, y_pred)}\")\n"
      ]
    },
    {
      "cell_type": "code",
      "execution_count": 12,
      "metadata": {
        "colab": {
          "base_uri": "https://localhost:8080/",
          "height": 355
        },
        "id": "0IuuK1mUeatb",
        "outputId": "bd9b53a5-5a40-475b-8edf-17b3314ed696"
      },
      "outputs": [
        {
          "name": "stdout",
          "output_type": "stream",
          "text": [
            "          rank  ensemble_weight           type      cost   duration  \\\n",
            "model_id                                                              \n",
            "4            1             0.52    extra_trees  0.633090  34.110797   \n",
            "3            2             0.48  liblinear_svr  0.641014   0.865339   \n",
            "\n",
            "          config_id  train_loss  seed    start_time      end_time  budget  \\\n",
            "model_id                                                                    \n",
            "4                 3    0.526394     0  1.724059e+09  1.724059e+09     0.0   \n",
            "3                 2    0.562482     0  1.724059e+09  1.724059e+09     0.0   \n",
            "\n",
            "                      status data_preprocessors  \\\n",
            "model_id                                          \n",
            "4         StatusType.SUCCESS                 []   \n",
            "3         StatusType.SUCCESS                 []   \n",
            "\n",
            "                   feature_preprocessors balancing_strategy   config_origin  \n",
            "model_id                                                                     \n",
            "4                     [no_preprocessing]               None  Initial design  \n",
            "3         [select_percentile_regression]               None  Initial design  \n"
          ]
        },
        {
          "data": {
            "application/javascript": "\n    async function download(id, filename, size) {\n      if (!google.colab.kernel.accessAllowed) {\n        return;\n      }\n      const div = document.createElement('div');\n      const label = document.createElement('label');\n      label.textContent = `Downloading \"${filename}\": `;\n      div.appendChild(label);\n      const progress = document.createElement('progress');\n      progress.max = size;\n      div.appendChild(progress);\n      document.body.appendChild(div);\n\n      const buffers = [];\n      let downloaded = 0;\n\n      const channel = await google.colab.kernel.comms.open(id);\n      // Send a message to notify the kernel that we're ready.\n      channel.send({})\n\n      for await (const message of channel.messages) {\n        // Send a message to notify the kernel that we're ready.\n        channel.send({})\n        if (message.buffers) {\n          for (const buffer of message.buffers) {\n            buffers.push(buffer);\n            downloaded += buffer.byteLength;\n            progress.value = downloaded;\n          }\n        }\n      }\n      const blob = new Blob(buffers, {type: 'application/binary'});\n      const a = document.createElement('a');\n      a.href = window.URL.createObjectURL(blob);\n      a.download = filename;\n      div.appendChild(a);\n      a.click();\n      div.remove();\n    }\n  ",
            "text/plain": [
              "<IPython.core.display.Javascript object>"
            ]
          },
          "metadata": {},
          "output_type": "display_data"
        },
        {
          "data": {
            "application/javascript": "download(\"download_8143e83b-56fc-4610-b479-7cec190fe217\", \"autosklearn_regression__leaderboard_normal.csv\", 549)",
            "text/plain": [
              "<IPython.core.display.Javascript object>"
            ]
          },
          "metadata": {},
          "output_type": "display_data"
        }
      ],
      "source": [
        "from google.colab import files\n",
        "#export leaderboard\n",
        "\n",
        "#leaderboard to df\n",
        "leaderboard_df = automl_regressor.leaderboard(detailed=True)\n",
        "leaderboard_df = pd.DataFrame(leaderboard_df)\n",
        "\n",
        "print(leaderboard_df)\n",
        "\n",
        "# download leaderboard\n",
        "leaderboard_df.to_csv('autosklearn_regression__leaderboard_normal.csv', index=False)\n",
        "\n",
        "files.download('autosklearn_regression__leaderboard_normal.csv')\n"
      ]
    },
    {
      "cell_type": "code",
      "execution_count": 13,
      "metadata": {
        "colab": {
          "base_uri": "https://localhost:8080/",
          "height": 159
        },
        "id": "uYbJE23ne2OX",
        "outputId": "3aae1146-9443-41f4-f69a-323b5d5375b5"
      },
      "outputs": [
        {
          "name": "stdout",
          "output_type": "stream",
          "text": [
            "                    Metric         Value\n",
            "0                       R2  4.286515e-01\n",
            "1       Mean Squared Error  3.125297e+12\n",
            "2  Root Mean Squared Error  1.767851e+06\n",
            "3      Mean Absolute Error  1.029677e+06\n",
            "4       Explained Variance  4.291347e-01\n",
            "5                Max Error  3.941550e+07\n",
            "6    Median Absolute Error  6.772224e+05\n"
          ]
        },
        {
          "data": {
            "application/javascript": "\n    async function download(id, filename, size) {\n      if (!google.colab.kernel.accessAllowed) {\n        return;\n      }\n      const div = document.createElement('div');\n      const label = document.createElement('label');\n      label.textContent = `Downloading \"${filename}\": `;\n      div.appendChild(label);\n      const progress = document.createElement('progress');\n      progress.max = size;\n      div.appendChild(progress);\n      document.body.appendChild(div);\n\n      const buffers = [];\n      let downloaded = 0;\n\n      const channel = await google.colab.kernel.comms.open(id);\n      // Send a message to notify the kernel that we're ready.\n      channel.send({})\n\n      for await (const message of channel.messages) {\n        // Send a message to notify the kernel that we're ready.\n        channel.send({})\n        if (message.buffers) {\n          for (const buffer of message.buffers) {\n            buffers.push(buffer);\n            downloaded += buffer.byteLength;\n            progress.value = downloaded;\n          }\n        }\n      }\n      const blob = new Blob(buffers, {type: 'application/binary'});\n      const a = document.createElement('a');\n      a.href = window.URL.createObjectURL(blob);\n      a.download = filename;\n      div.appendChild(a);\n      a.click();\n      div.remove();\n    }\n  ",
            "text/plain": [
              "<IPython.core.display.Javascript object>"
            ]
          },
          "metadata": {},
          "output_type": "display_data"
        },
        {
          "data": {
            "application/javascript": "download(\"download_6d755a8a-4ba4-431b-9284-2ec54d61ef75\", \"autosklearn_regression_metrics_normal.csv\", 248)",
            "text/plain": [
              "<IPython.core.display.Javascript object>"
            ]
          },
          "metadata": {},
          "output_type": "display_data"
        }
      ],
      "source": [
        "# output of values to dictionary\n",
        "metrics_dict = {\n",
        "    'Metric': [\n",
        "        'R2',\n",
        "        'Mean Squared Error',\n",
        "        'Root Mean Squared Error',\n",
        "        'Mean Absolute Error',\n",
        "        'Explained Variance',\n",
        "        'Max Error',\n",
        "        'Median Absolute Error'\n",
        "    ],\n",
        "    'Value': [\n",
        "        skm.r2_score(y_test, y_pred),\n",
        "        skm.mean_squared_error(y_test, y_pred),\n",
        "        skm.mean_squared_error(y_test, y_pred, squared=False),\n",
        "        skm.mean_absolute_error(y_test, y_pred),\n",
        "        skm.explained_variance_score(y_test, y_pred),\n",
        "        skm.max_error(y_test, y_pred),\n",
        "        skm.median_absolute_error(y_test, y_pred)\n",
        "    ]\n",
        "}\n",
        "\n",
        "#to df\n",
        "metrics_df = pd.DataFrame(metrics_dict)\n",
        "\n",
        "\n",
        "print(metrics_df)\n",
        "\n",
        "metrics_df.to_csv('autosklearn_regression_metrics_normal.csv', index=False)\n",
        "files.download('autosklearn_regression_metrics_normal.csv')"
      ]
    }
  ],
  "metadata": {
    "colab": {
      "provenance": []
    },
    "kernelspec": {
      "display_name": "Python 3",
      "name": "python3"
    },
    "language_info": {
      "name": "python"
    }
  },
  "nbformat": 4,
  "nbformat_minor": 0
}
