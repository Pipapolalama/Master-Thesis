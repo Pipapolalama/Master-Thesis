{
  "nbformat": 4,
  "nbformat_minor": 0,
  "metadata": {
    "colab": {
      "provenance": []
    },
    "kernelspec": {
      "name": "python3",
      "display_name": "Python 3"
    },
    "language_info": {
      "name": "python"
    }
  },
  "cells": [
    {
      "cell_type": "code",
      "execution_count": null,
      "metadata": {
        "id": "iRKcdSuDnaSK"
      },
      "outputs": [],
      "source": [
        "import sklearn as sk\n",
        "import numpy as np\n",
        "import pandas as pd"
      ]
    },
    {
      "cell_type": "code",
      "source": [
        "df=pd.read_csv(\"combined.csv\")"
      ],
      "metadata": {
        "colab": {
          "base_uri": "https://localhost:8080/",
          "height": 144
        },
        "id": "2iF3qY7xnjpT",
        "outputId": "fdecb56d-7b7e-4efe-b1d4-af158e237aba"
      },
      "execution_count": null,
      "outputs": [
        {
          "output_type": "error",
          "ename": "NameError",
          "evalue": "name 'pd' is not defined",
          "traceback": [
            "\u001b[0;31m---------------------------------------------------------------------------\u001b[0m",
            "\u001b[0;31mNameError\u001b[0m                                 Traceback (most recent call last)",
            "\u001b[0;32m<ipython-input-1-717f5753351e>\u001b[0m in \u001b[0;36m<cell line: 1>\u001b[0;34m()\u001b[0m\n\u001b[0;32m----> 1\u001b[0;31m \u001b[0mdf\u001b[0m\u001b[0;34m=\u001b[0m\u001b[0mpd\u001b[0m\u001b[0;34m.\u001b[0m\u001b[0mread_csv\u001b[0m\u001b[0;34m(\u001b[0m\u001b[0;34m\"combined.csv\"\u001b[0m\u001b[0;34m)\u001b[0m\u001b[0;34m\u001b[0m\u001b[0;34m\u001b[0m\u001b[0m\n\u001b[0m",
            "\u001b[0;31mNameError\u001b[0m: name 'pd' is not defined"
          ]
        }
      ]
    },
    {
      "cell_type": "code",
      "source": [
        "# First, convert 'Price' to a numeric type, coercing errors to NaN (this will handle 'Unknown' as well)\n",
        "df['Price'] = pd.to_numeric(df['Price'], errors='coerce')\n",
        "\n",
        "# Then, drop rows where 'Price' is NaN\n",
        "df = df.dropna(subset=['Price'])\n",
        "\n",
        "# Verify that no rows with NaN or 'Unknown' in 'Price' remain\n",
        "df.isnull().sum()"
      ],
      "metadata": {
        "colab": {
          "base_uri": "https://localhost:8080/",
          "height": 523
        },
        "id": "QxgZuwJvnoPs",
        "outputId": "d610787b-5557-448a-ff4f-49d88e54bcb4"
      },
      "execution_count": null,
      "outputs": [
        {
          "output_type": "execute_result",
          "data": {
            "text/plain": [
              "Type               0\n",
              "Price              0\n",
              "Bedrooms           1\n",
              "Bathrooms          1\n",
              "Area              11\n",
              "Furnished          0\n",
              "Level              0\n",
              "Compound           0\n",
              "Payment_Option     0\n",
              "Delivery_Date      0\n",
              "Delivery_Term      0\n",
              "City              13\n",
              "Ad_Date            0\n",
              "Scraping_Date      0\n",
              "dtype: int64"
            ],
            "text/html": [
              "<div>\n",
              "<style scoped>\n",
              "    .dataframe tbody tr th:only-of-type {\n",
              "        vertical-align: middle;\n",
              "    }\n",
              "\n",
              "    .dataframe tbody tr th {\n",
              "        vertical-align: top;\n",
              "    }\n",
              "\n",
              "    .dataframe thead th {\n",
              "        text-align: right;\n",
              "    }\n",
              "</style>\n",
              "<table border=\"1\" class=\"dataframe\">\n",
              "  <thead>\n",
              "    <tr style=\"text-align: right;\">\n",
              "      <th></th>\n",
              "      <th>0</th>\n",
              "    </tr>\n",
              "  </thead>\n",
              "  <tbody>\n",
              "    <tr>\n",
              "      <th>Type</th>\n",
              "      <td>0</td>\n",
              "    </tr>\n",
              "    <tr>\n",
              "      <th>Price</th>\n",
              "      <td>0</td>\n",
              "    </tr>\n",
              "    <tr>\n",
              "      <th>Bedrooms</th>\n",
              "      <td>1</td>\n",
              "    </tr>\n",
              "    <tr>\n",
              "      <th>Bathrooms</th>\n",
              "      <td>1</td>\n",
              "    </tr>\n",
              "    <tr>\n",
              "      <th>Area</th>\n",
              "      <td>11</td>\n",
              "    </tr>\n",
              "    <tr>\n",
              "      <th>Furnished</th>\n",
              "      <td>0</td>\n",
              "    </tr>\n",
              "    <tr>\n",
              "      <th>Level</th>\n",
              "      <td>0</td>\n",
              "    </tr>\n",
              "    <tr>\n",
              "      <th>Compound</th>\n",
              "      <td>0</td>\n",
              "    </tr>\n",
              "    <tr>\n",
              "      <th>Payment_Option</th>\n",
              "      <td>0</td>\n",
              "    </tr>\n",
              "    <tr>\n",
              "      <th>Delivery_Date</th>\n",
              "      <td>0</td>\n",
              "    </tr>\n",
              "    <tr>\n",
              "      <th>Delivery_Term</th>\n",
              "      <td>0</td>\n",
              "    </tr>\n",
              "    <tr>\n",
              "      <th>City</th>\n",
              "      <td>13</td>\n",
              "    </tr>\n",
              "    <tr>\n",
              "      <th>Ad_Date</th>\n",
              "      <td>0</td>\n",
              "    </tr>\n",
              "    <tr>\n",
              "      <th>Scraping_Date</th>\n",
              "      <td>0</td>\n",
              "    </tr>\n",
              "  </tbody>\n",
              "</table>\n",
              "</div><br><label><b>dtype:</b> int64</label>"
            ]
          },
          "metadata": {},
          "execution_count": 10
        }
      ]
    },
    {
      "cell_type": "code",
      "source": [
        "df.info()"
      ],
      "metadata": {
        "colab": {
          "base_uri": "https://localhost:8080/"
        },
        "id": "kcxsPdfXq29i",
        "outputId": "14cc1552-2034-45b3-af83-f5b329994754"
      },
      "execution_count": null,
      "outputs": [
        {
          "output_type": "stream",
          "name": "stdout",
          "text": [
            "<class 'pandas.core.frame.DataFrame'>\n",
            "Index: 12578 entries, 0 to 14198\n",
            "Data columns (total 14 columns):\n",
            " #   Column          Non-Null Count  Dtype  \n",
            "---  ------          --------------  -----  \n",
            " 0   Type            12578 non-null  object \n",
            " 1   Price           12578 non-null  float64\n",
            " 2   Bedrooms        12577 non-null  object \n",
            " 3   Bathrooms       12577 non-null  object \n",
            " 4   Area            12567 non-null  object \n",
            " 5   Furnished       12578 non-null  object \n",
            " 6   Level           12578 non-null  object \n",
            " 7   Compound        12578 non-null  object \n",
            " 8   Payment_Option  12578 non-null  object \n",
            " 9   Delivery_Date   12578 non-null  object \n",
            " 10  Delivery_Term   12578 non-null  object \n",
            " 11  City            12565 non-null  object \n",
            " 12  Ad_Date         12578 non-null  object \n",
            " 13  Scraping_Date   12578 non-null  object \n",
            "dtypes: float64(1), object(13)\n",
            "memory usage: 1.4+ MB\n"
          ]
        }
      ]
    },
    {
      "cell_type": "code",
      "source": [
        "from sklearn.linear_model import LinearRegression\n",
        "from sklearn.model_selection import train_test_split\n",
        "from sklearn.metrics import mean_absolute_error\n",
        "\n",
        "# Include 'Ad_Date' and 'Scraping_Date' in the dataset\n",
        "df_with_dates = pd.get_dummies(df, drop_first=True)\n",
        "X_with_dates = df_with_dates.drop(columns=['Price'])\n",
        "y_with_dates = df_with_dates['Price']\n",
        "\n",
        "# Split the data\n",
        "X_train, X_test, y_train, y_test = train_test_split(X_with_dates, y_with_dates, test_size=0.2, random_state=42)\n",
        "\n",
        "# Train the model\n",
        "model_with_dates = LinearRegression()\n",
        "model_with_dates.fit(X_train, y_train)\n",
        "\n",
        "# Predict and evaluate\n",
        "y_pred_with_dates = model_with_dates.predict(X_test)\n",
        "mae_with_dates = mean_absolute_error(y_test, y_pred_with_dates)\n",
        "print(f\"MAE with 'Ad_Date' and 'Scraping_Date': {mae_with_dates}\")"
      ],
      "metadata": {
        "colab": {
          "base_uri": "https://localhost:8080/"
        },
        "id": "oDgnhE8XpFX6",
        "outputId": "eb416458-be4d-4fa9-a8fb-cc1f8c1fd7c9"
      },
      "execution_count": null,
      "outputs": [
        {
          "output_type": "stream",
          "name": "stdout",
          "text": [
            "MAE with 'Ad_Date' and 'Scraping_Date': 1.2162760813928003e+17\n"
          ]
        }
      ]
    },
    {
      "cell_type": "code",
      "source": [
        "# Exclude 'Ad_Date' and 'Scraping_Date' from the dataset\n",
        "df_without_dates = df.drop(columns=['Ad_Date', 'Scraping_Date'])\n",
        "df_without_dates = pd.get_dummies(df_without_dates, drop_first=True)\n",
        "X_without_dates = df_without_dates.drop(columns=['Price'])\n",
        "y_without_dates = df_without_dates['Price']\n",
        "\n",
        "# Split the data\n",
        "X_train, X_test, y_train, y_test = train_test_split(X_without_dates, y_without_dates, test_size=0.2, random_state=42)\n",
        "\n",
        "# Train the model\n",
        "model_without_dates = LinearRegression()\n",
        "model_without_dates.fit(X_train, y_train)\n",
        "\n",
        "# Predict and evaluate\n",
        "y_pred_without_dates = model_without_dates.predict(X_test)\n",
        "mae_without_dates = mean_absolute_error(y_test, y_pred_without_dates)\n",
        "print(f\"MAE without 'Ad_Date' and 'Scraping_Date': {mae_without_dates}\")"
      ],
      "metadata": {
        "colab": {
          "base_uri": "https://localhost:8080/"
        },
        "id": "HKhnV6ompjGh",
        "outputId": "b8e38e98-2880-4c9f-9d95-c5e410da265b"
      },
      "execution_count": null,
      "outputs": [
        {
          "output_type": "stream",
          "name": "stdout",
          "text": [
            "MAE without 'Ad_Date' and 'Scraping_Date': 1182438.3135811167\n"
          ]
        }
      ]
    },
    {
      "cell_type": "code",
      "source": [
        "from sklearn.linear_model import LinearRegression\n",
        "from sklearn.model_selection import train_test_split\n",
        "from sklearn.metrics import r2_score\n",
        "\n",
        "# Include 'Ad_Date' and 'Scraping_Date' in the dataset\n",
        "df_with_dates = pd.get_dummies(df, drop_first=True)\n",
        "X_with_dates = df_with_dates.drop(columns=['Price'])\n",
        "y_with_dates = df_with_dates['Price']\n",
        "\n",
        "# Split the data\n",
        "X_train, X_test, y_train, y_test = train_test_split(X_with_dates, y_with_dates, test_size=0.2, random_state=42)\n",
        "\n",
        "# Train the model\n",
        "model_with_dates = LinearRegression()\n",
        "model_with_dates.fit(X_train, y_train)\n",
        "\n",
        "# Predict and evaluate\n",
        "y_pred_with_dates = model_with_dates.predict(X_test)\n",
        "r2_with_dates = r2_score(y_test, y_pred_with_dates)\n",
        "print(f\"R² score with 'Ad_Date' and 'Scraping_Date': {r2_with_dates}\")"
      ],
      "metadata": {
        "colab": {
          "base_uri": "https://localhost:8080/"
        },
        "id": "2fDa_vmNrB0D",
        "outputId": "6926f272-04c1-4822-8614-28f5debd421e"
      },
      "execution_count": null,
      "outputs": [
        {
          "output_type": "stream",
          "name": "stdout",
          "text": [
            "R² score with 'Ad_Date' and 'Scraping_Date': -3.78328932300844e+23\n"
          ]
        }
      ]
    },
    {
      "cell_type": "code",
      "source": [
        "# Exclude 'Ad_Date' and 'Scraping_Date' from the dataset\n",
        "df_without_dates = df.drop(columns=['Ad_Date', 'Scraping_Date'])\n",
        "df_without_dates = pd.get_dummies(df_without_dates, drop_first=True)\n",
        "X_without_dates = df_without_dates.drop(columns=['Price'])\n",
        "y_without_dates = df_without_dates['Price']\n",
        "\n",
        "# Split the data\n",
        "X_train, X_test, y_train, y_test = train_test_split(X_without_dates, y_without_dates, test_size=0.2, random_state=42)\n",
        "\n",
        "# Train the model\n",
        "model_without_dates = LinearRegression()\n",
        "model_without_dates.fit(X_train, y_train)\n",
        "\n",
        "# Predict and evaluate\n",
        "y_pred_without_dates = model_without_dates.predict(X_test)\n",
        "r2_without_dates = r2_score(y_test, y_pred_without_dates)\n",
        "print(f\"R² score without 'Ad_Date' and 'Scraping_Date': {r2_without_dates}\")"
      ],
      "metadata": {
        "colab": {
          "base_uri": "https://localhost:8080/"
        },
        "id": "vj3qNEWtrK3s",
        "outputId": "a79c28ab-98b1-4b88-9f20-5248ecdc48b5"
      },
      "execution_count": null,
      "outputs": [
        {
          "output_type": "stream",
          "name": "stdout",
          "text": [
            "R² score without 'Ad_Date' and 'Scraping_Date': 0.44583963783859515\n"
          ]
        }
      ]
    },
    {
      "cell_type": "code",
      "source": [
        "#download\n",
        "from google.colab import files\n",
        "df.to_csv('combined_test.csv', index=False)\n",
        "files.download('combined_test.csv')"
      ],
      "metadata": {
        "colab": {
          "base_uri": "https://localhost:8080/",
          "height": 17
        },
        "id": "i8LD8PiQn1j1",
        "outputId": "e60f21b2-c4c8-4299-efec-07dddf9c8d6b"
      },
      "execution_count": null,
      "outputs": [
        {
          "output_type": "display_data",
          "data": {
            "text/plain": [
              "<IPython.core.display.Javascript object>"
            ],
            "application/javascript": [
              "\n",
              "    async function download(id, filename, size) {\n",
              "      if (!google.colab.kernel.accessAllowed) {\n",
              "        return;\n",
              "      }\n",
              "      const div = document.createElement('div');\n",
              "      const label = document.createElement('label');\n",
              "      label.textContent = `Downloading \"${filename}\": `;\n",
              "      div.appendChild(label);\n",
              "      const progress = document.createElement('progress');\n",
              "      progress.max = size;\n",
              "      div.appendChild(progress);\n",
              "      document.body.appendChild(div);\n",
              "\n",
              "      const buffers = [];\n",
              "      let downloaded = 0;\n",
              "\n",
              "      const channel = await google.colab.kernel.comms.open(id);\n",
              "      // Send a message to notify the kernel that we're ready.\n",
              "      channel.send({})\n",
              "\n",
              "      for await (const message of channel.messages) {\n",
              "        // Send a message to notify the kernel that we're ready.\n",
              "        channel.send({})\n",
              "        if (message.buffers) {\n",
              "          for (const buffer of message.buffers) {\n",
              "            buffers.push(buffer);\n",
              "            downloaded += buffer.byteLength;\n",
              "            progress.value = downloaded;\n",
              "          }\n",
              "        }\n",
              "      }\n",
              "      const blob = new Blob(buffers, {type: 'application/binary'});\n",
              "      const a = document.createElement('a');\n",
              "      a.href = window.URL.createObjectURL(blob);\n",
              "      a.download = filename;\n",
              "      div.appendChild(a);\n",
              "      a.click();\n",
              "      div.remove();\n",
              "    }\n",
              "  "
            ]
          },
          "metadata": {}
        },
        {
          "output_type": "display_data",
          "data": {
            "text/plain": [
              "<IPython.core.display.Javascript object>"
            ],
            "application/javascript": [
              "download(\"download_f6a692e7-2bc3-4b73-ad8d-2e393875c3a5\", \"combined_test.csv\", 1530478)"
            ]
          },
          "metadata": {}
        }
      ]
    }
  ]
}