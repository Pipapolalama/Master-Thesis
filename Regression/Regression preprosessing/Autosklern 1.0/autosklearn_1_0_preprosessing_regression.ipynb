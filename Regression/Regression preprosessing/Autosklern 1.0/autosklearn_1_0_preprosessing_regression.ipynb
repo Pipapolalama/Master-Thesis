{
  "nbformat": 4,
  "nbformat_minor": 0,
  "metadata": {
    "colab": {
      "provenance": []
    },
    "kernelspec": {
      "name": "python3",
      "display_name": "Python 3"
    },
    "language_info": {
      "name": "python"
    }
  },
  "cells": [
    {
      "cell_type": "code",
      "execution_count": 1,
      "metadata": {
        "colab": {
          "base_uri": "https://localhost:8080/"
        },
        "id": "nN9edUAx_Kpc",
        "outputId": "cba040d4-1cfd-4a39-cf48-bf68cf1a8867"
      },
      "outputs": [
        {
          "output_type": "stream",
          "name": "stdout",
          "text": [
            "Linux 6561fb1a6fcb 6.1.85+ #1 SMP PREEMPT_DYNAMIC Thu Jun 27 21:05:47 UTC 2024 x86_64 x86_64 x86_64 GNU/Linux\n"
          ]
        }
      ],
      "source": [
        "!uname -a"
      ]
    },
    {
      "cell_type": "code",
      "source": [
        "!pip install Cython==0.29.36\n",
        "!pip uninstall scipy -y\n",
        "!pip install scipy==1.9\n",
        "!pip uninstall pyparsing -y\n",
        "!pip install pyparsing==2.4\n",
        "!pip uninstall scikit_learn -y"
      ],
      "metadata": {
        "id": "yFWI5vDr_WU_",
        "colab": {
          "base_uri": "https://localhost:8080/",
          "height": 686
        },
        "outputId": "10a836d7-d0ba-4eb1-a78a-555ef1e5e1a2"
      },
      "execution_count": 2,
      "outputs": [
        {
          "output_type": "stream",
          "name": "stdout",
          "text": [
            "Requirement already satisfied: Cython==0.29.36 in /usr/local/lib/python3.10/dist-packages (0.29.36)\n",
            "Found existing installation: scipy 1.9.0\n",
            "Uninstalling scipy-1.9.0:\n",
            "  Successfully uninstalled scipy-1.9.0\n",
            "Collecting scipy==1.9\n",
            "  Using cached scipy-1.9.0-cp310-cp310-manylinux_2_17_x86_64.manylinux2014_x86_64.whl.metadata (2.2 kB)\n",
            "Requirement already satisfied: numpy<1.25.0,>=1.18.5 in /usr/local/lib/python3.10/dist-packages (from scipy==1.9) (1.24.4)\n",
            "Using cached scipy-1.9.0-cp310-cp310-manylinux_2_17_x86_64.manylinux2014_x86_64.whl (43.9 MB)\n",
            "Installing collected packages: scipy\n",
            "\u001b[31mERROR: pip's dependency resolver does not currently take into account all the packages that are installed. This behaviour is the source of the following dependency conflicts.\n",
            "auto-sklearn 0.15.0 requires scikit-learn<0.25.0,>=0.24.0, which is not installed.\n",
            "fastai 2.7.16 requires scikit-learn, which is not installed.\n",
            "librosa 0.10.2.post1 requires scikit-learn>=0.20.0, which is not installed.\n",
            "sklearn-pandas 2.2.0 requires scikit-learn>=0.23.0, which is not installed.\n",
            "smac 1.2 requires scikit-learn>=0.22.0, which is not installed.\n",
            "xgboost 2.1.1 requires nvidia-nccl-cu12; platform_system == \"Linux\" and platform_machine != \"aarch64\", which is not installed.\n",
            "albumentations 1.4.13 requires scipy>=1.10.0, but you have scipy 1.9.0 which is incompatible.\u001b[0m\u001b[31m\n",
            "\u001b[0mSuccessfully installed scipy-1.9.0\n",
            "Found existing installation: pyparsing 2.4.0\n",
            "Uninstalling pyparsing-2.4.0:\n",
            "  Successfully uninstalled pyparsing-2.4.0\n",
            "Collecting pyparsing==2.4\n",
            "  Using cached pyparsing-2.4.0-py2.py3-none-any.whl.metadata (1.1 kB)\n",
            "Using cached pyparsing-2.4.0-py2.py3-none-any.whl (62 kB)\n",
            "Installing collected packages: pyparsing\n",
            "\u001b[31mERROR: pip's dependency resolver does not currently take into account all the packages that are installed. This behaviour is the source of the following dependency conflicts.\n",
            "auto-sklearn 0.15.0 requires scikit-learn<0.25.0,>=0.24.0, which is not installed.\n",
            "smac 1.2 requires scikit-learn>=0.22.0, which is not installed.\n",
            "httplib2 0.22.0 requires pyparsing!=3.0.0,!=3.0.1,!=3.0.2,!=3.0.3,<4,>=2.4.2; python_version > \"3.0\", but you have pyparsing 2.4.0 which is incompatible.\u001b[0m\u001b[31m\n",
            "\u001b[0mSuccessfully installed pyparsing-2.4.0\n"
          ]
        },
        {
          "output_type": "display_data",
          "data": {
            "application/vnd.colab-display-data+json": {
              "pip_warning": {
                "packages": [
                  "pyparsing"
                ]
              },
              "id": "2a07a63d067b49e6a8744a4f0255cc67"
            }
          },
          "metadata": {}
        },
        {
          "output_type": "stream",
          "name": "stdout",
          "text": [
            "\u001b[33mWARNING: Skipping scikit_learn as it is not installed.\u001b[0m\u001b[33m\n",
            "\u001b[0m"
          ]
        }
      ]
    },
    {
      "cell_type": "code",
      "source": [
        "!pip uninstall imbalanced-learn -y\n",
        "!pip uninstall mlxtend -y\n",
        "!pip uninstall yellowbrick -y"
      ],
      "metadata": {
        "id": "vkd7Wwwbe4A6",
        "colab": {
          "base_uri": "https://localhost:8080/"
        },
        "outputId": "97a4d6c1-7f29-450d-a9e4-7972d23aa624"
      },
      "execution_count": 1,
      "outputs": [
        {
          "output_type": "stream",
          "name": "stdout",
          "text": [
            "\u001b[33mWARNING: Skipping imbalanced-learn as it is not installed.\u001b[0m\u001b[33m\n",
            "\u001b[0m\u001b[33mWARNING: Skipping mlxtend as it is not installed.\u001b[0m\u001b[33m\n",
            "\u001b[0m\u001b[33mWARNING: Skipping yellowbrick as it is not installed.\u001b[0m\u001b[33m\n",
            "\u001b[0m"
          ]
        }
      ]
    },
    {
      "cell_type": "code",
      "source": [
        "!pip install scikit-learn==0.24.2 --no-build-isolation"
      ],
      "metadata": {
        "colab": {
          "base_uri": "https://localhost:8080/"
        },
        "id": "FU0xkSzHfQBj",
        "outputId": "720fa3a3-23bf-4052-cbc4-58c2470e94dd"
      },
      "execution_count": 2,
      "outputs": [
        {
          "output_type": "stream",
          "name": "stdout",
          "text": [
            "Collecting scikit-learn==0.24.2\n",
            "  Using cached scikit_learn-0.24.2-cp310-cp310-linux_x86_64.whl\n",
            "Requirement already satisfied: numpy>=1.13.3 in /usr/local/lib/python3.10/dist-packages (from scikit-learn==0.24.2) (1.24.4)\n",
            "Requirement already satisfied: scipy>=0.19.1 in /usr/local/lib/python3.10/dist-packages (from scikit-learn==0.24.2) (1.9.0)\n",
            "Requirement already satisfied: joblib>=0.11 in /usr/local/lib/python3.10/dist-packages (from scikit-learn==0.24.2) (1.4.2)\n",
            "Requirement already satisfied: threadpoolctl>=2.0.0 in /usr/local/lib/python3.10/dist-packages (from scikit-learn==0.24.2) (3.5.0)\n",
            "Installing collected packages: scikit-learn\n",
            "\u001b[31mERROR: pip's dependency resolver does not currently take into account all the packages that are installed. This behaviour is the source of the following dependency conflicts.\n",
            "bigframes 1.13.0 requires scikit-learn>=1.2.2, but you have scikit-learn 0.24.2 which is incompatible.\u001b[0m\u001b[31m\n",
            "\u001b[0mSuccessfully installed scikit-learn-0.24.2\n"
          ]
        }
      ]
    },
    {
      "cell_type": "code",
      "source": [
        "!pip install auto-sklearn"
      ],
      "metadata": {
        "colab": {
          "base_uri": "https://localhost:8080/"
        },
        "id": "56kXoepti5_h",
        "outputId": "425b975f-fc3d-499e-9223-5c89ec99e7ae"
      },
      "execution_count": 3,
      "outputs": [
        {
          "output_type": "stream",
          "name": "stdout",
          "text": [
            "Requirement already satisfied: auto-sklearn in /usr/local/lib/python3.10/dist-packages (0.15.0)\n",
            "Requirement already satisfied: setuptools in /usr/local/lib/python3.10/dist-packages (from auto-sklearn) (71.0.4)\n",
            "Requirement already satisfied: typing-extensions in /usr/local/lib/python3.10/dist-packages (from auto-sklearn) (4.12.2)\n",
            "Requirement already satisfied: distro in /usr/lib/python3/dist-packages (from auto-sklearn) (1.7.0)\n",
            "Requirement already satisfied: numpy>=1.9.0 in /usr/local/lib/python3.10/dist-packages (from auto-sklearn) (1.24.4)\n",
            "Requirement already satisfied: scipy>=1.7.0 in /usr/local/lib/python3.10/dist-packages (from auto-sklearn) (1.9.0)\n",
            "Requirement already satisfied: joblib in /usr/local/lib/python3.10/dist-packages (from auto-sklearn) (1.4.2)\n",
            "Requirement already satisfied: scikit-learn<0.25.0,>=0.24.0 in /usr/local/lib/python3.10/dist-packages (from auto-sklearn) (0.24.2)\n",
            "Requirement already satisfied: dask>=2021.12 in /usr/local/lib/python3.10/dist-packages (from auto-sklearn) (2024.7.1)\n",
            "Requirement already satisfied: distributed>=2012.12 in /usr/local/lib/python3.10/dist-packages (from auto-sklearn) (2024.7.1)\n",
            "Requirement already satisfied: pyyaml in /usr/local/lib/python3.10/dist-packages (from auto-sklearn) (6.0.2)\n",
            "Requirement already satisfied: pandas>=1.0 in /usr/local/lib/python3.10/dist-packages (from auto-sklearn) (2.1.4)\n",
            "Requirement already satisfied: liac-arff in /usr/local/lib/python3.10/dist-packages (from auto-sklearn) (2.5.0)\n",
            "Requirement already satisfied: threadpoolctl in /usr/local/lib/python3.10/dist-packages (from auto-sklearn) (3.5.0)\n",
            "Requirement already satisfied: ConfigSpace<0.5,>=0.4.21 in /usr/local/lib/python3.10/dist-packages (from auto-sklearn) (0.4.21)\n",
            "Requirement already satisfied: pynisher<0.7,>=0.6.3 in /usr/local/lib/python3.10/dist-packages (from auto-sklearn) (0.6.4)\n",
            "Requirement already satisfied: pyrfr<0.9,>=0.8.1 in /usr/local/lib/python3.10/dist-packages (from auto-sklearn) (0.8.3)\n",
            "Requirement already satisfied: smac<1.3,>=1.2 in /usr/local/lib/python3.10/dist-packages (from auto-sklearn) (1.2)\n",
            "Requirement already satisfied: cython in /usr/local/lib/python3.10/dist-packages (from ConfigSpace<0.5,>=0.4.21->auto-sklearn) (0.29.36)\n",
            "Requirement already satisfied: pyparsing in /usr/local/lib/python3.10/dist-packages (from ConfigSpace<0.5,>=0.4.21->auto-sklearn) (2.4.0)\n",
            "Requirement already satisfied: click>=8.1 in /usr/local/lib/python3.10/dist-packages (from dask>=2021.12->auto-sklearn) (8.1.7)\n",
            "Requirement already satisfied: cloudpickle>=1.5.0 in /usr/local/lib/python3.10/dist-packages (from dask>=2021.12->auto-sklearn) (2.2.1)\n",
            "Requirement already satisfied: fsspec>=2021.09.0 in /usr/local/lib/python3.10/dist-packages (from dask>=2021.12->auto-sklearn) (2024.6.1)\n",
            "Requirement already satisfied: packaging>=20.0 in /usr/local/lib/python3.10/dist-packages (from dask>=2021.12->auto-sklearn) (24.1)\n",
            "Requirement already satisfied: partd>=1.4.0 in /usr/local/lib/python3.10/dist-packages (from dask>=2021.12->auto-sklearn) (1.4.2)\n",
            "Requirement already satisfied: toolz>=0.10.0 in /usr/local/lib/python3.10/dist-packages (from dask>=2021.12->auto-sklearn) (0.12.1)\n",
            "Requirement already satisfied: importlib-metadata>=4.13.0 in /usr/local/lib/python3.10/dist-packages (from dask>=2021.12->auto-sklearn) (8.2.0)\n",
            "Requirement already satisfied: jinja2>=2.10.3 in /usr/local/lib/python3.10/dist-packages (from distributed>=2012.12->auto-sklearn) (3.1.4)\n",
            "Requirement already satisfied: locket>=1.0.0 in /usr/local/lib/python3.10/dist-packages (from distributed>=2012.12->auto-sklearn) (1.0.0)\n",
            "Requirement already satisfied: msgpack>=1.0.0 in /usr/local/lib/python3.10/dist-packages (from distributed>=2012.12->auto-sklearn) (1.0.8)\n",
            "Requirement already satisfied: psutil>=5.7.2 in /usr/local/lib/python3.10/dist-packages (from distributed>=2012.12->auto-sklearn) (5.9.5)\n",
            "Requirement already satisfied: sortedcontainers>=2.0.5 in /usr/local/lib/python3.10/dist-packages (from distributed>=2012.12->auto-sklearn) (2.4.0)\n",
            "Requirement already satisfied: tblib>=1.6.0 in /usr/local/lib/python3.10/dist-packages (from distributed>=2012.12->auto-sklearn) (3.0.0)\n",
            "Requirement already satisfied: tornado>=6.0.4 in /usr/local/lib/python3.10/dist-packages (from distributed>=2012.12->auto-sklearn) (6.3.3)\n",
            "Requirement already satisfied: urllib3>=1.24.3 in /usr/local/lib/python3.10/dist-packages (from distributed>=2012.12->auto-sklearn) (2.0.7)\n",
            "Requirement already satisfied: zict>=3.0.0 in /usr/local/lib/python3.10/dist-packages (from distributed>=2012.12->auto-sklearn) (3.0.0)\n",
            "Requirement already satisfied: python-dateutil>=2.8.2 in /usr/local/lib/python3.10/dist-packages (from pandas>=1.0->auto-sklearn) (2.8.2)\n",
            "Requirement already satisfied: pytz>=2020.1 in /usr/local/lib/python3.10/dist-packages (from pandas>=1.0->auto-sklearn) (2024.1)\n",
            "Requirement already satisfied: tzdata>=2022.1 in /usr/local/lib/python3.10/dist-packages (from pandas>=1.0->auto-sklearn) (2024.1)\n",
            "Requirement already satisfied: emcee>=3.0.0 in /usr/local/lib/python3.10/dist-packages (from smac<1.3,>=1.2->auto-sklearn) (3.1.6)\n",
            "Requirement already satisfied: zipp>=0.5 in /usr/local/lib/python3.10/dist-packages (from importlib-metadata>=4.13.0->dask>=2021.12->auto-sklearn) (3.19.2)\n",
            "Requirement already satisfied: MarkupSafe>=2.0 in /usr/local/lib/python3.10/dist-packages (from jinja2>=2.10.3->distributed>=2012.12->auto-sklearn) (2.1.5)\n",
            "Requirement already satisfied: six>=1.5 in /usr/local/lib/python3.10/dist-packages (from python-dateutil>=2.8.2->pandas>=1.0->auto-sklearn) (1.16.0)\n"
          ]
        }
      ]
    },
    {
      "cell_type": "code",
      "source": [
        "import autosklearn.regression\n",
        "import pandas as pd\n",
        "from sklearn.model_selection import train_test_split"
      ],
      "metadata": {
        "id": "5SA3eMeKlD2c"
      },
      "execution_count": 4,
      "outputs": []
    },
    {
      "cell_type": "code",
      "source": [
        "df_train = pd.read_csv(\"TrainSet_regression.csv\")\n",
        "df_test = pd.read_csv(\"TestSet_regression.csv\")\n",
        "\n",
        "# features and target\n",
        "X_train = df_train.drop(['Price'], axis=1)\n",
        "y_train = df_train['Price']\n",
        "\n",
        "X_test = df_test.drop(['Price'], axis=1)\n",
        "y_test = df_test['Price']\n",
        "\n",
        "#4h for training, 20 mins per model\n",
        "\n",
        "automl_regressor = autosklearn.regression.AutoSklearnRegressor(\n",
        "    time_left_for_this_task= 14400,\n",
        "    per_run_time_limit= 1200\n",
        ")\n",
        "\n",
        "automl_regressor.fit(X_train, y_train, dataset_name=\"housing_prices\")\n",
        "\n",
        "\n",
        "print(automl_regressor.leaderboard())\n",
        "\n"
      ],
      "metadata": {
        "colab": {
          "base_uri": "https://localhost:8080/"
        },
        "id": "qB_kwqNJl6gx",
        "outputId": "b815a091-dda5-4a36-fa82-b39651cc5de2"
      },
      "execution_count": 6,
      "outputs": [
        {
          "output_type": "stream",
          "name": "stdout",
          "text": [
            "[WARNING] [2024-08-18 17:58:40,341:Client-AutoML(1):housing_prices] Capping the per_run_time_limit to 59.0 to have time for a least 2 models in each process.\n",
            "[WARNING] [2024-08-18 17:59:43,357:Client-EnsembleBuilder] No runs were available to build an ensemble from\n",
            "[WARNING] [2024-08-18 17:59:45,631:Client-EnsembleBuilder] No runs were available to build an ensemble from\n",
            "          rank  ensemble_weight               type      cost   duration\n",
            "model_id                                                               \n",
            "4            1              1.0  gradient_boosting  0.751188  11.916081\n"
          ]
        }
      ]
    },
    {
      "cell_type": "code",
      "source": [
        "import sklearn.metrics as skm\n",
        "\n",
        "y_pred = automl_regressor.predict(X_test)\n",
        "\n",
        "print(f\"R2:                         {skm.r2_score(y_test, y_pred)}\")\n",
        "print(f\"Mean Squared Error:         {skm.mean_squared_error(y_test, y_pred)}\")\n",
        "print(f\"Root Mean Squared Error:    {skm.mean_squared_error(y_test, y_pred, squared=False)}\")\n",
        "print(f\"Mean Absolute Error:        {skm.mean_absolute_error(y_test, y_pred)}\")\n",
        "print(f\"Explained Variance:         {skm.explained_variance_score(y_test, y_pred)}\")\n",
        "print(f\"Max Error:                  {skm.max_error(y_test, y_pred)}\")\n",
        "print(f\"Median Absolute Error       {skm.median_absolute_error(y_test, y_pred)}\")\n"
      ],
      "metadata": {
        "id": "dfDVzB9cGJ-6",
        "colab": {
          "base_uri": "https://localhost:8080/"
        },
        "outputId": "f580cc36-957d-4700-fe89-08187b9753da"
      },
      "execution_count": 7,
      "outputs": [
        {
          "output_type": "stream",
          "name": "stdout",
          "text": [
            "R2:                         0.2702618020176065\n",
            "Mean Squared Error:         2915821205598.2637\n",
            "Root Mean Squared Error:    1707577.584064122\n",
            "Mean Absolute Error:        1298851.009855313\n",
            "Explained Variance:         0.27189978646138446\n",
            "Max Error:                  7067876.0\n",
            "Median Absolute Error       1021068.25\n"
          ]
        }
      ]
    },
    {
      "cell_type": "code",
      "source": [
        "from google.colab import files\n",
        "#export leaderboard\n",
        "\n",
        "#leaderboard to df\n",
        "leaderboard_df = automl_regressor.leaderboard(detailed=True)\n",
        "leaderboard_df = pd.DataFrame(leaderboard_df)\n",
        "\n",
        "print(leaderboard_df)\n",
        "\n",
        "# download leaderboard\n",
        "leaderboard_df.to_csv('autosklearn_regression_preprosessing_leaderboard.csv', index=False)\n",
        "\n",
        "files.download('autosklearn_regression_preprosessing_leaderboard.csv')\n"
      ],
      "metadata": {
        "colab": {
          "base_uri": "https://localhost:8080/",
          "height": 284
        },
        "id": "0LZ8ZbcPl6Ru",
        "outputId": "692cef71-a8a8-4af0-9bf6-68fee474fb0a"
      },
      "execution_count": 9,
      "outputs": [
        {
          "output_type": "stream",
          "name": "stdout",
          "text": [
            "          rank  ensemble_weight               type      cost   duration  \\\n",
            "model_id                                                                  \n",
            "4            1              1.0  gradient_boosting  0.751188  11.916081   \n",
            "\n",
            "          config_id  train_loss  seed    start_time      end_time  budget  \\\n",
            "model_id                                                                    \n",
            "4                 3    0.297111     0  1.724004e+09  1.724004e+09     0.0   \n",
            "\n",
            "                      status data_preprocessors      feature_preprocessors  \\\n",
            "model_id                                                                     \n",
            "4         StatusType.SUCCESS                 []  [select_rates_regression]   \n",
            "\n",
            "         balancing_strategy   config_origin  \n",
            "model_id                                     \n",
            "4                      None  Initial design  \n"
          ]
        },
        {
          "output_type": "display_data",
          "data": {
            "text/plain": [
              "<IPython.core.display.Javascript object>"
            ],
            "application/javascript": [
              "\n",
              "    async function download(id, filename, size) {\n",
              "      if (!google.colab.kernel.accessAllowed) {\n",
              "        return;\n",
              "      }\n",
              "      const div = document.createElement('div');\n",
              "      const label = document.createElement('label');\n",
              "      label.textContent = `Downloading \"${filename}\": `;\n",
              "      div.appendChild(label);\n",
              "      const progress = document.createElement('progress');\n",
              "      progress.max = size;\n",
              "      div.appendChild(progress);\n",
              "      document.body.appendChild(div);\n",
              "\n",
              "      const buffers = [];\n",
              "      let downloaded = 0;\n",
              "\n",
              "      const channel = await google.colab.kernel.comms.open(id);\n",
              "      // Send a message to notify the kernel that we're ready.\n",
              "      channel.send({})\n",
              "\n",
              "      for await (const message of channel.messages) {\n",
              "        // Send a message to notify the kernel that we're ready.\n",
              "        channel.send({})\n",
              "        if (message.buffers) {\n",
              "          for (const buffer of message.buffers) {\n",
              "            buffers.push(buffer);\n",
              "            downloaded += buffer.byteLength;\n",
              "            progress.value = downloaded;\n",
              "          }\n",
              "        }\n",
              "      }\n",
              "      const blob = new Blob(buffers, {type: 'application/binary'});\n",
              "      const a = document.createElement('a');\n",
              "      a.href = window.URL.createObjectURL(blob);\n",
              "      a.download = filename;\n",
              "      div.appendChild(a);\n",
              "      a.click();\n",
              "      div.remove();\n",
              "    }\n",
              "  "
            ]
          },
          "metadata": {}
        },
        {
          "output_type": "display_data",
          "data": {
            "text/plain": [
              "<IPython.core.display.Javascript object>"
            ],
            "application/javascript": [
              "download(\"download_9986763c-624a-42bc-afb1-b9424ed055fb\", \"autosklearn_regression_preprosessing_leaderboard.csv\", 367)"
            ]
          },
          "metadata": {}
        }
      ]
    },
    {
      "cell_type": "code",
      "source": [
        "# output of values to dictionary\n",
        "metrics_dict = {\n",
        "    'Metric': [\n",
        "        'R2',\n",
        "        'Mean Squared Error',\n",
        "        'Root Mean Squared Error',\n",
        "        'Mean Absolute Error',\n",
        "        'Explained Variance',\n",
        "        'Max Error',\n",
        "        'Median Absolute Error'\n",
        "    ],\n",
        "    'Value': [\n",
        "        skm.r2_score(y_test, y_pred),\n",
        "        skm.mean_squared_error(y_test, y_pred),\n",
        "        skm.mean_squared_error(y_test, y_pred, squared=False),\n",
        "        skm.mean_absolute_error(y_test, y_pred),\n",
        "        skm.explained_variance_score(y_test, y_pred),\n",
        "        skm.max_error(y_test, y_pred),\n",
        "        skm.median_absolute_error(y_test, y_pred)\n",
        "    ]\n",
        "}\n",
        "\n",
        "#to df\n",
        "metrics_df = pd.DataFrame(metrics_dict)\n",
        "\n",
        "\n",
        "print(metrics_df)\n",
        "\n",
        "metrics_df.to_csv('autosklearn_regression_preprosessing_metrics.csv', index=False)\n",
        "files.download('autosklearn_regression_preprosessing_metrics.csv')"
      ],
      "metadata": {
        "colab": {
          "base_uri": "https://localhost:8080/",
          "height": 159
        },
        "id": "jwEFKcApnTCI",
        "outputId": "e2729b5b-cd52-4aa2-8a8b-1e5e409c7224"
      },
      "execution_count": 11,
      "outputs": [
        {
          "output_type": "stream",
          "name": "stdout",
          "text": [
            "                    Metric         Value\n",
            "0                       R2  2.702618e-01\n",
            "1       Mean Squared Error  2.915821e+12\n",
            "2  Root Mean Squared Error  1.707578e+06\n",
            "3      Mean Absolute Error  1.298851e+06\n",
            "4       Explained Variance  2.718998e-01\n",
            "5                Max Error  7.067876e+06\n",
            "6    Median Absolute Error  1.021068e+06\n"
          ]
        },
        {
          "output_type": "display_data",
          "data": {
            "text/plain": [
              "<IPython.core.display.Javascript object>"
            ],
            "application/javascript": [
              "\n",
              "    async function download(id, filename, size) {\n",
              "      if (!google.colab.kernel.accessAllowed) {\n",
              "        return;\n",
              "      }\n",
              "      const div = document.createElement('div');\n",
              "      const label = document.createElement('label');\n",
              "      label.textContent = `Downloading \"${filename}\": `;\n",
              "      div.appendChild(label);\n",
              "      const progress = document.createElement('progress');\n",
              "      progress.max = size;\n",
              "      div.appendChild(progress);\n",
              "      document.body.appendChild(div);\n",
              "\n",
              "      const buffers = [];\n",
              "      let downloaded = 0;\n",
              "\n",
              "      const channel = await google.colab.kernel.comms.open(id);\n",
              "      // Send a message to notify the kernel that we're ready.\n",
              "      channel.send({})\n",
              "\n",
              "      for await (const message of channel.messages) {\n",
              "        // Send a message to notify the kernel that we're ready.\n",
              "        channel.send({})\n",
              "        if (message.buffers) {\n",
              "          for (const buffer of message.buffers) {\n",
              "            buffers.push(buffer);\n",
              "            downloaded += buffer.byteLength;\n",
              "            progress.value = downloaded;\n",
              "          }\n",
              "        }\n",
              "      }\n",
              "      const blob = new Blob(buffers, {type: 'application/binary'});\n",
              "      const a = document.createElement('a');\n",
              "      a.href = window.URL.createObjectURL(blob);\n",
              "      a.download = filename;\n",
              "      div.appendChild(a);\n",
              "      a.click();\n",
              "      div.remove();\n",
              "    }\n",
              "  "
            ]
          },
          "metadata": {}
        },
        {
          "output_type": "display_data",
          "data": {
            "text/plain": [
              "<IPython.core.display.Javascript object>"
            ],
            "application/javascript": [
              "download(\"download_b14d2e15-fc0b-466f-9e4e-ef4ee52da14d\", \"autosklearn_regression_preprosessing_metrics.csv\", 245)"
            ]
          },
          "metadata": {}
        }
      ]
    }
  ]
}