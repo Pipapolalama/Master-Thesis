{
 "cells": [
  {
   "cell_type": "code",
   "execution_count": 1,
   "id": "a1c3a293-920c-47c4-87b0-6e15894be78d",
   "metadata": {},
   "outputs": [
    {
     "name": "stderr",
     "output_type": "stream",
     "text": [
      "/home/bogdb/src/pdm-tpot/.venv/lib/python3.9/site-packages/tpot/builtins/__init__.py:36: UserWarning: Warning: optional dependency `torch` is not available. - skipping import of NN models.\n",
      "  warnings.warn(\"Warning: optional dependency `torch` is not available. - skipping import of NN models.\")\n"
     ]
    }
   ],
   "source": [
    "import tpot"
   ]
  },
  {
   "cell_type": "code",
   "execution_count": 4,
   "id": "ca090a7d-4332-4385-a5cb-09df6882a165",
   "metadata": {},
   "outputs": [],
   "source": [
    "import pandas as pd\n",
    "import numpy as np\n",
    "from tpot import TPOTClassifier\n",
    "\n",
    "\n",
    "df_test=pd.read_csv(\"TestSet_klassification(8).csv\")\n",
    "df_train=pd.read_csv(\"TrainSet_klassification(7).csv\")\n",
    "\n",
    "X_train = df_train.drop([\"income\"], axis=1).values\n",
    "y_train = df_train[\"income\"].values\n",
    "\n",
    "X_test = df_test.drop([\"income_encoded\"], axis=1).values\n",
    "y_test = df_test[\"income_encoded\"].values"
   ]
  },
  {
   "cell_type": "code",
   "execution_count": 5,
   "id": "2532b364-9244-4981-8be7-8b66d651e3ff",
   "metadata": {},
   "outputs": [],
   "source": [
    "#initializing tpot with parameters\n",
    "#max_time_mins=None (per default) - here max time 4h\n",
    "tpot = TPOTClassifier(generations=5, population_size=50,\n",
    "                     cv=5, verbosity=2, n_jobs=16, max_time_mins=240,\n",
    "                     periodic_checkpoint_folder='/content/results/classPreprocessed')"
   ]
  },
  {
   "cell_type": "code",
   "execution_count": 6,
   "id": "57aa00b3-b473-4933-a485-fbc7a160a1e7",
   "metadata": {},
   "outputs": [
    {
     "name": "stderr",
     "output_type": "stream",
     "text": [
      "Version 0.12.1 of tpot is outdated. Version 0.12.2 was released Friday February 23, 2024.\n"
     ]
    },
    {
     "data": {
      "application/vnd.jupyter.widget-view+json": {
       "model_id": "",
       "version_major": 2,
       "version_minor": 0
      },
      "text/plain": [
       "Optimization Progress:   0%|          | 0/50 [00:00<?, ?pipeline/s]"
      ]
     },
     "metadata": {},
     "output_type": "display_data"
    },
    {
     "name": "stderr",
     "output_type": "stream",
     "text": [
      "/home/bogdb/src/pdm-tpot/.venv/lib/python3.9/site-packages/tpot/builtins/__init__.py:36: UserWarning: Warning: optional dependency `torch` is not available. - skipping import of NN models.\n",
      "  warnings.warn(\"Warning: optional dependency `torch` is not available. - skipping import of NN models.\")\n",
      "/home/bogdb/src/pdm-tpot/.venv/lib/python3.9/site-packages/tpot/builtins/__init__.py:36: UserWarning: Warning: optional dependency `torch` is not available. - skipping import of NN models.\n",
      "  warnings.warn(\"Warning: optional dependency `torch` is not available. - skipping import of NN models.\")\n",
      "/home/bogdb/src/pdm-tpot/.venv/lib/python3.9/site-packages/tpot/builtins/__init__.py:36: UserWarning: Warning: optional dependency `torch` is not available. - skipping import of NN models.\n",
      "  warnings.warn(\"Warning: optional dependency `torch` is not available. - skipping import of NN models.\")\n",
      "/home/bogdb/src/pdm-tpot/.venv/lib/python3.9/site-packages/tpot/builtins/__init__.py:36: UserWarning: Warning: optional dependency `torch` is not available. - skipping import of NN models.\n",
      "  warnings.warn(\"Warning: optional dependency `torch` is not available. - skipping import of NN models.\")\n",
      "/home/bogdb/src/pdm-tpot/.venv/lib/python3.9/site-packages/tpot/builtins/__init__.py:36: UserWarning: Warning: optional dependency `torch` is not available. - skipping import of NN models.\n",
      "  warnings.warn(\"Warning: optional dependency `torch` is not available. - skipping import of NN models.\")\n",
      "/home/bogdb/src/pdm-tpot/.venv/lib/python3.9/site-packages/tpot/builtins/__init__.py:36: UserWarning: Warning: optional dependency `torch` is not available. - skipping import of NN models.\n",
      "  warnings.warn(\"Warning: optional dependency `torch` is not available. - skipping import of NN models.\")\n",
      "/home/bogdb/src/pdm-tpot/.venv/lib/python3.9/site-packages/tpot/builtins/__init__.py:36: UserWarning: Warning: optional dependency `torch` is not available. - skipping import of NN models.\n",
      "  warnings.warn(\"Warning: optional dependency `torch` is not available. - skipping import of NN models.\")\n",
      "/home/bogdb/src/pdm-tpot/.venv/lib/python3.9/site-packages/tpot/builtins/__init__.py:36: UserWarning: Warning: optional dependency `torch` is not available. - skipping import of NN models.\n",
      "  warnings.warn(\"Warning: optional dependency `torch` is not available. - skipping import of NN models.\")\n",
      "/home/bogdb/src/pdm-tpot/.venv/lib/python3.9/site-packages/tpot/builtins/__init__.py:36: UserWarning: Warning: optional dependency `torch` is not available. - skipping import of NN models.\n",
      "  warnings.warn(\"Warning: optional dependency `torch` is not available. - skipping import of NN models.\")\n",
      "/home/bogdb/src/pdm-tpot/.venv/lib/python3.9/site-packages/tpot/builtins/__init__.py:36: UserWarning: Warning: optional dependency `torch` is not available. - skipping import of NN models.\n",
      "  warnings.warn(\"Warning: optional dependency `torch` is not available. - skipping import of NN models.\")\n",
      "/home/bogdb/src/pdm-tpot/.venv/lib/python3.9/site-packages/tpot/builtins/__init__.py:36: UserWarning: Warning: optional dependency `torch` is not available. - skipping import of NN models.\n",
      "  warnings.warn(\"Warning: optional dependency `torch` is not available. - skipping import of NN models.\")\n",
      "/home/bogdb/src/pdm-tpot/.venv/lib/python3.9/site-packages/tpot/builtins/__init__.py:36: UserWarning: Warning: optional dependency `torch` is not available. - skipping import of NN models.\n",
      "  warnings.warn(\"Warning: optional dependency `torch` is not available. - skipping import of NN models.\")\n",
      "/home/bogdb/src/pdm-tpot/.venv/lib/python3.9/site-packages/tpot/builtins/__init__.py:36: UserWarning: Warning: optional dependency `torch` is not available. - skipping import of NN models.\n",
      "  warnings.warn(\"Warning: optional dependency `torch` is not available. - skipping import of NN models.\")\n",
      "/home/bogdb/src/pdm-tpot/.venv/lib/python3.9/site-packages/tpot/builtins/__init__.py:36: UserWarning: Warning: optional dependency `torch` is not available. - skipping import of NN models.\n",
      "  warnings.warn(\"Warning: optional dependency `torch` is not available. - skipping import of NN models.\")\n",
      "/home/bogdb/src/pdm-tpot/.venv/lib/python3.9/site-packages/tpot/builtins/__init__.py:36: UserWarning: Warning: optional dependency `torch` is not available. - skipping import of NN models.\n",
      "  warnings.warn(\"Warning: optional dependency `torch` is not available. - skipping import of NN models.\")\n",
      "/home/bogdb/src/pdm-tpot/.venv/lib/python3.9/site-packages/tpot/builtins/__init__.py:36: UserWarning: Warning: optional dependency `torch` is not available. - skipping import of NN models.\n",
      "  warnings.warn(\"Warning: optional dependency `torch` is not available. - skipping import of NN models.\")\n"
     ]
    },
    {
     "name": "stdout",
     "output_type": "stream",
     "text": [
      "\n",
      "Generation 1 - Current best internal CV score: 0.8772355349324691\n",
      "\n",
      "Generation 2 - Current best internal CV score: 0.8772355349324691\n",
      "\n",
      "Generation 3 - Current best internal CV score: 0.8772355349324691\n",
      "\n",
      "Generation 4 - Current best internal CV score: 0.8772784525499698\n",
      "\n",
      "Generation 5 - Current best internal CV score: 0.8788300837725135\n",
      "\n",
      "Best pipeline: ExtraTreesClassifier(GaussianNB(input_matrix), bootstrap=False, criterion=gini, max_features=0.1, min_samples_leaf=1, min_samples_split=16, n_estimators=100)\n"
     ]
    },
    {
     "data": {
      "text/html": [
       "<style>#sk-container-id-1 {color: black;}#sk-container-id-1 pre{padding: 0;}#sk-container-id-1 div.sk-toggleable {background-color: white;}#sk-container-id-1 label.sk-toggleable__label {cursor: pointer;display: block;width: 100%;margin-bottom: 0;padding: 0.3em;box-sizing: border-box;text-align: center;}#sk-container-id-1 label.sk-toggleable__label-arrow:before {content: \"▸\";float: left;margin-right: 0.25em;color: #696969;}#sk-container-id-1 label.sk-toggleable__label-arrow:hover:before {color: black;}#sk-container-id-1 div.sk-estimator:hover label.sk-toggleable__label-arrow:before {color: black;}#sk-container-id-1 div.sk-toggleable__content {max-height: 0;max-width: 0;overflow: hidden;text-align: left;background-color: #f0f8ff;}#sk-container-id-1 div.sk-toggleable__content pre {margin: 0.2em;color: black;border-radius: 0.25em;background-color: #f0f8ff;}#sk-container-id-1 input.sk-toggleable__control:checked~div.sk-toggleable__content {max-height: 200px;max-width: 100%;overflow: auto;}#sk-container-id-1 input.sk-toggleable__control:checked~label.sk-toggleable__label-arrow:before {content: \"▾\";}#sk-container-id-1 div.sk-estimator input.sk-toggleable__control:checked~label.sk-toggleable__label {background-color: #d4ebff;}#sk-container-id-1 div.sk-label input.sk-toggleable__control:checked~label.sk-toggleable__label {background-color: #d4ebff;}#sk-container-id-1 input.sk-hidden--visually {border: 0;clip: rect(1px 1px 1px 1px);clip: rect(1px, 1px, 1px, 1px);height: 1px;margin: -1px;overflow: hidden;padding: 0;position: absolute;width: 1px;}#sk-container-id-1 div.sk-estimator {font-family: monospace;background-color: #f0f8ff;border: 1px dotted black;border-radius: 0.25em;box-sizing: border-box;margin-bottom: 0.5em;}#sk-container-id-1 div.sk-estimator:hover {background-color: #d4ebff;}#sk-container-id-1 div.sk-parallel-item::after {content: \"\";width: 100%;border-bottom: 1px solid gray;flex-grow: 1;}#sk-container-id-1 div.sk-label:hover label.sk-toggleable__label {background-color: #d4ebff;}#sk-container-id-1 div.sk-serial::before {content: \"\";position: absolute;border-left: 1px solid gray;box-sizing: border-box;top: 0;bottom: 0;left: 50%;z-index: 0;}#sk-container-id-1 div.sk-serial {display: flex;flex-direction: column;align-items: center;background-color: white;padding-right: 0.2em;padding-left: 0.2em;position: relative;}#sk-container-id-1 div.sk-item {position: relative;z-index: 1;}#sk-container-id-1 div.sk-parallel {display: flex;align-items: stretch;justify-content: center;background-color: white;position: relative;}#sk-container-id-1 div.sk-item::before, #sk-container-id-1 div.sk-parallel-item::before {content: \"\";position: absolute;border-left: 1px solid gray;box-sizing: border-box;top: 0;bottom: 0;left: 50%;z-index: -1;}#sk-container-id-1 div.sk-parallel-item {display: flex;flex-direction: column;z-index: 1;position: relative;background-color: white;}#sk-container-id-1 div.sk-parallel-item:first-child::after {align-self: flex-end;width: 50%;}#sk-container-id-1 div.sk-parallel-item:last-child::after {align-self: flex-start;width: 50%;}#sk-container-id-1 div.sk-parallel-item:only-child::after {width: 0;}#sk-container-id-1 div.sk-dashed-wrapped {border: 1px dashed gray;margin: 0 0.4em 0.5em 0.4em;box-sizing: border-box;padding-bottom: 0.4em;background-color: white;}#sk-container-id-1 div.sk-label label {font-family: monospace;font-weight: bold;display: inline-block;line-height: 1.2em;}#sk-container-id-1 div.sk-label-container {text-align: center;}#sk-container-id-1 div.sk-container {/* jupyter's `normalize.less` sets `[hidden] { display: none; }` but bootstrap.min.css set `[hidden] { display: none !important; }` so we also need the `!important` here to be able to override the default hidden behavior on the sphinx rendered scikit-learn.org. See: https://github.com/scikit-learn/scikit-learn/issues/21755 */display: inline-block !important;position: relative;}#sk-container-id-1 div.sk-text-repr-fallback {display: none;}</style><div id=\"sk-container-id-1\" class=\"sk-top-container\"><div class=\"sk-text-repr-fallback\"><pre>TPOTClassifier(generations=5, max_time_mins=240, n_jobs=16,\n",
       "               periodic_checkpoint_folder=&#x27;/content/results/classPreprocessed&#x27;,\n",
       "               population_size=50, verbosity=2)</pre><b>In a Jupyter environment, please rerun this cell to show the HTML representation or trust the notebook. <br />On GitHub, the HTML representation is unable to render, please try loading this page with nbviewer.org.</b></div><div class=\"sk-container\" hidden><div class=\"sk-item\"><div class=\"sk-estimator sk-toggleable\"><input class=\"sk-toggleable__control sk-hidden--visually\" id=\"sk-estimator-id-1\" type=\"checkbox\" checked><label for=\"sk-estimator-id-1\" class=\"sk-toggleable__label sk-toggleable__label-arrow\">TPOTClassifier</label><div class=\"sk-toggleable__content\"><pre>TPOTClassifier(generations=5, max_time_mins=240, n_jobs=16,\n",
       "               periodic_checkpoint_folder=&#x27;/content/results/classPreprocessed&#x27;,\n",
       "               population_size=50, verbosity=2)</pre></div></div></div></div></div>"
      ],
      "text/plain": [
       "TPOTClassifier(generations=5, max_time_mins=240, n_jobs=16,\n",
       "               periodic_checkpoint_folder='/content/results/classPreprocessed',\n",
       "               population_size=50, verbosity=2)"
      ]
     },
     "execution_count": 6,
     "metadata": {},
     "output_type": "execute_result"
    }
   ],
   "source": [
    "#starting the training\n",
    "tpot.fit(X_train, y_train)"
   ]
  },
  {
   "cell_type": "code",
   "execution_count": 7,
   "id": "28cd60f6-5552-4cb8-8aa9-fc289ab274c3",
   "metadata": {},
   "outputs": [
    {
     "name": "stdout",
     "output_type": "stream",
     "text": [
      "RESULTS OF BEST MODEL:\n",
      "\n",
      "F1-Score:                   0.7413876758854925\n",
      "AUC-ROC Score:              0.9537933624472891\n",
      "Accuracy:                   0.9017511520737327\n",
      "Precision:                  0.7709384460141272\n",
      "Recall:                     0.7140186915887851\n"
     ]
    }
   ],
   "source": [
    "import sklearn.metrics as skm\n",
    "from sklearn.metrics import roc_auc_score\n",
    "\n",
    "#prediction\n",
    "y_pred = tpot.predict(X_test)\n",
    "\n",
    "# prediction for the AUC-ROC-Score by only using the positive classes\n",
    "y_pred_proba = tpot.predict_proba(X_test)[:, 1]\n",
    "\n",
    "\n",
    "print(\"RESULTS OF BEST MODEL:\\n\")\n",
    "\n",
    "print(f\"F1-Score:                   {skm.f1_score(y_test, y_pred)}\")\n",
    "print(f\"AUC-ROC Score:              {roc_auc_score(y_test, y_pred_proba)}\")\n",
    "print(f\"Accuracy:                   {skm.accuracy_score(y_test, y_pred)}\")\n",
    "print(f\"Precision:                  {skm.precision_score(y_test, y_pred)}\")\n",
    "print(f\"Recall:                     {skm.recall_score(y_test, y_pred)}\")"
   ]
  },
  {
   "cell_type": "code",
   "execution_count": 35,
   "id": "2f1b0fc5-5eae-4c06-908c-ca7c678138dc",
   "metadata": {},
   "outputs": [],
   "source": [
    "#from sklearn.svm import SVC\n",
    "\n",
    "# SVC with a linear kernel and probability=True\n",
    "#clf = SVC(kernel='linear', probability=True)\n",
    "\n",
    "#clf.fit(X_train, y_train)\n",
    "\n",
    "#res = clf.predict_proba(X_test)"
   ]
  },
  {
   "cell_type": "code",
   "execution_count": 8,
   "id": "db81c505-98a2-4ffa-bd7d-ef80c882d97b",
   "metadata": {},
   "outputs": [
    {
     "name": "stdout",
     "output_type": "stream",
     "text": [
      "          Metric     Value\n",
      "0       F1-Score  0.741388\n",
      "1  AUC-ROC Score  0.953793\n",
      "2       Accuracy  0.901751\n",
      "3      Precision  0.770938\n",
      "4         Recall  0.714019\n"
     ]
    }
   ],
   "source": [
    "# output of values to dictionary\n",
    "metrics_dict = {\n",
    "    'Metric': [\n",
    "        'F1-Score',\n",
    "        'AUC-ROC Score',\n",
    "        'Accuracy',\n",
    "        'Precision',\n",
    "        'Recall',\n",
    "    ],\n",
    "    'Value': [\n",
    "        skm.f1_score(y_test, y_pred),\n",
    "        roc_auc_score(y_test, y_pred_proba),\n",
    "        skm.accuracy_score(y_test, y_pred),\n",
    "        skm.precision_score(y_test, y_pred),\n",
    "        skm.recall_score(y_test, y_pred)\n",
    "    ]\n",
    "}\n",
    "\n",
    "#to df\n",
    "metrics_df = pd.DataFrame(metrics_dict)\n",
    "\n",
    "\n",
    "print(metrics_df)\n",
    "\n",
    "metrics_df.to_csv('tpot_classification_preprosessing_TEST_metrics.csv', index=False)\n"
   ]
  },
  {
   "cell_type": "code",
   "execution_count": 9,
   "id": "5717e836-1c9b-4d34-a476-9ece102754c0",
   "metadata": {},
   "outputs": [
    {
     "data": {
      "text/html": [
       "<a href='tpot_classification_preprosessing_TEST_metrics.csv' target='_blank'>tpot_classification_preprosessing_TEST_metrics.csv</a><br>"
      ],
      "text/plain": [
       "/home/bogdb/src/pdm-tpot/tpot_classification_preprosessing_TEST_metrics.csv"
      ]
     },
     "execution_count": 9,
     "metadata": {},
     "output_type": "execute_result"
    }
   ],
   "source": [
    "from IPython.display import FileLink\n",
    "FileLink('tpot_classification_preprosessing_TEST_metrics.csv')"
   ]
  },
  {
   "cell_type": "code",
   "execution_count": 10,
   "id": "a375ae0f-9dc6-4e03-873f-5a2fa0520c1e",
   "metadata": {},
   "outputs": [
    {
     "data": {
      "text/html": [
       "<div>\n",
       "<style scoped>\n",
       "    .dataframe tbody tr th:only-of-type {\n",
       "        vertical-align: middle;\n",
       "    }\n",
       "\n",
       "    .dataframe tbody tr th {\n",
       "        vertical-align: top;\n",
       "    }\n",
       "\n",
       "    .dataframe thead th {\n",
       "        text-align: right;\n",
       "    }\n",
       "</style>\n",
       "<table border=\"1\" class=\"dataframe\">\n",
       "  <thead>\n",
       "    <tr style=\"text-align: right;\">\n",
       "      <th></th>\n",
       "      <th>model</th>\n",
       "      <th>cv_score</th>\n",
       "      <th>model_info</th>\n",
       "    </tr>\n",
       "  </thead>\n",
       "  <tbody>\n",
       "    <tr>\n",
       "      <th>269</th>\n",
       "      <td>ExtraTreesClassifier(GaussianNB(input_matrix),...</td>\n",
       "      <td>0.878830</td>\n",
       "      <td>{'generation': 5, 'mutation_count': 3, 'crosso...</td>\n",
       "    </tr>\n",
       "    <tr>\n",
       "      <th>275</th>\n",
       "      <td>GradientBoostingClassifier(input_matrix, Gradi...</td>\n",
       "      <td>0.877710</td>\n",
       "      <td>{'generation': 5, 'mutation_count': 1, 'crosso...</td>\n",
       "    </tr>\n",
       "    <tr>\n",
       "      <th>210</th>\n",
       "      <td>ExtraTreesClassifier(RobustScaler(input_matrix...</td>\n",
       "      <td>0.877278</td>\n",
       "      <td>{'generation': 4, 'mutation_count': 3, 'crosso...</td>\n",
       "    </tr>\n",
       "    <tr>\n",
       "      <th>52</th>\n",
       "      <td>GradientBoostingClassifier(input_matrix, Gradi...</td>\n",
       "      <td>0.877236</td>\n",
       "      <td>{'generation': 1, 'mutation_count': 1, 'crosso...</td>\n",
       "    </tr>\n",
       "    <tr>\n",
       "      <th>255</th>\n",
       "      <td>GradientBoostingClassifier(StandardScaler(inpu...</td>\n",
       "      <td>0.877192</td>\n",
       "      <td>{'generation': 5, 'mutation_count': 1, 'crosso...</td>\n",
       "    </tr>\n",
       "    <tr>\n",
       "      <th>...</th>\n",
       "      <td>...</td>\n",
       "      <td>...</td>\n",
       "      <td>...</td>\n",
       "    </tr>\n",
       "    <tr>\n",
       "      <th>292</th>\n",
       "      <td>LinearSVC(input_matrix, LinearSVC__C=0.001, Li...</td>\n",
       "      <td>0.512912</td>\n",
       "      <td>{'generation': 5, 'mutation_count': 3, 'crosso...</td>\n",
       "    </tr>\n",
       "    <tr>\n",
       "      <th>116</th>\n",
       "      <td>SGDClassifier(input_matrix, SGDClassifier__alp...</td>\n",
       "      <td>0.512869</td>\n",
       "      <td>{'generation': 2, 'mutation_count': 1, 'crosso...</td>\n",
       "    </tr>\n",
       "    <tr>\n",
       "      <th>254</th>\n",
       "      <td>SGDClassifier(MinMaxScaler(input_matrix), SGDC...</td>\n",
       "      <td>0.487131</td>\n",
       "      <td>{'generation': 5, 'mutation_count': 2, 'crosso...</td>\n",
       "    </tr>\n",
       "    <tr>\n",
       "      <th>136</th>\n",
       "      <td>RandomForestClassifier(RBFSampler(input_matrix...</td>\n",
       "      <td>-inf</td>\n",
       "      <td>{'generation': 2, 'mutation_count': 1, 'crosso...</td>\n",
       "    </tr>\n",
       "    <tr>\n",
       "      <th>124</th>\n",
       "      <td>RandomForestClassifier(PCA(input_matrix, PCA__...</td>\n",
       "      <td>-inf</td>\n",
       "      <td>{'generation': 2, 'mutation_count': 1, 'crosso...</td>\n",
       "    </tr>\n",
       "  </tbody>\n",
       "</table>\n",
       "<p>293 rows × 3 columns</p>\n",
       "</div>"
      ],
      "text/plain": [
       "                                                 model  cv_score  \\\n",
       "269  ExtraTreesClassifier(GaussianNB(input_matrix),...  0.878830   \n",
       "275  GradientBoostingClassifier(input_matrix, Gradi...  0.877710   \n",
       "210  ExtraTreesClassifier(RobustScaler(input_matrix...  0.877278   \n",
       "52   GradientBoostingClassifier(input_matrix, Gradi...  0.877236   \n",
       "255  GradientBoostingClassifier(StandardScaler(inpu...  0.877192   \n",
       "..                                                 ...       ...   \n",
       "292  LinearSVC(input_matrix, LinearSVC__C=0.001, Li...  0.512912   \n",
       "116  SGDClassifier(input_matrix, SGDClassifier__alp...  0.512869   \n",
       "254  SGDClassifier(MinMaxScaler(input_matrix), SGDC...  0.487131   \n",
       "136  RandomForestClassifier(RBFSampler(input_matrix...      -inf   \n",
       "124  RandomForestClassifier(PCA(input_matrix, PCA__...      -inf   \n",
       "\n",
       "                                            model_info  \n",
       "269  {'generation': 5, 'mutation_count': 3, 'crosso...  \n",
       "275  {'generation': 5, 'mutation_count': 1, 'crosso...  \n",
       "210  {'generation': 4, 'mutation_count': 3, 'crosso...  \n",
       "52   {'generation': 1, 'mutation_count': 1, 'crosso...  \n",
       "255  {'generation': 5, 'mutation_count': 1, 'crosso...  \n",
       "..                                                 ...  \n",
       "292  {'generation': 5, 'mutation_count': 3, 'crosso...  \n",
       "116  {'generation': 2, 'mutation_count': 1, 'crosso...  \n",
       "254  {'generation': 5, 'mutation_count': 2, 'crosso...  \n",
       "136  {'generation': 2, 'mutation_count': 1, 'crosso...  \n",
       "124  {'generation': 2, 'mutation_count': 1, 'crosso...  \n",
       "\n",
       "[293 rows x 3 columns]"
      ]
     },
     "execution_count": 10,
     "metadata": {},
     "output_type": "execute_result"
    }
   ],
   "source": [
    "#showing best models as there is no leaderboard\n",
    "import pandas as pd\n",
    "\n",
    "# Converting all evaluated models to a list of tuples\n",
    "my_dict = list(tpot.evaluated_individuals_.items())\n",
    "\n",
    "# empty list for dictionaries\n",
    "model_list = []\n",
    "\n",
    "for model in my_dict:\n",
    "    model_name = model[0]\n",
    "    model_info = model[1]\n",
    "    cv_score = model_info.get('internal_cv_score')  # Pull out cv_score as a column (i.e., sortable)\n",
    "    \n",
    "    # Append dictionary to the list\n",
    "    model_list.append({\n",
    "        'model': model_name,\n",
    "        'cv_score': cv_score,\n",
    "        'model_info': model_info,\n",
    "    })\n",
    "\n",
    "# Convert list to a DataFrame\n",
    "model_scores = pd.DataFrame(model_list)\n",
    "\n",
    "# Sort the DataFrame by cv_score\n",
    "model_scores = model_scores.sort_values('cv_score', ascending=False)\n",
    "\n",
    "# output\n",
    "model_scores"
   ]
  },
  {
   "cell_type": "code",
   "execution_count": 11,
   "id": "be5ef891-c80a-42f5-9699-f4f9c57f4458",
   "metadata": {},
   "outputs": [],
   "source": [
    "model_scores.to_csv('TPOT_preprocessed_TEST_classification_model_scores.csv', index=False)\n"
   ]
  },
  {
   "cell_type": "code",
   "execution_count": 12,
   "id": "331d2152-b529-4fac-a671-ded204465e8f",
   "metadata": {},
   "outputs": [
    {
     "data": {
      "text/html": [
       "<a href='TPOT_preprocessed_TEST_classification_model_scores.csv' target='_blank'>TPOT_preprocessed_TEST_classification_model_scores.csv</a><br>"
      ],
      "text/plain": [
       "/home/bogdb/src/pdm-tpot/TPOT_preprocessed_TEST_classification_model_scores.csv"
      ]
     },
     "execution_count": 12,
     "metadata": {},
     "output_type": "execute_result"
    }
   ],
   "source": [
    "from IPython.display import FileLink\n",
    "FileLink('TPOT_preprocessed_TEST_classification_model_scores.csv')"
   ]
  },
  {
   "cell_type": "code",
   "execution_count": 13,
   "id": "b021c125-dceb-4cde-85ee-593a875361e1",
   "metadata": {},
   "outputs": [],
   "source": [
    "import matplotlib.pyplot as plt\n",
    "from sklearn.metrics import roc_curve, auc"
   ]
  },
  {
   "cell_type": "code",
   "execution_count": 14,
   "id": "e6dd52f9-fff0-4e8a-937e-6e637f2e0697",
   "metadata": {},
   "outputs": [
    {
     "data": {
      "image/png": "[encoded data removed]",
      "text/plain": [
       "<Figure size 1000x600 with 1 Axes>"
      ]
     },
     "metadata": {},
     "output_type": "display_data"
    }
   ],
   "source": [
    "from sklearn.metrics import roc_curve, auc, roc_auc_score\n",
    "\n",
    "y_pred = tpot.predict(X_test)\n",
    "\n",
    "# Predicting the probabilities for the positive class\n",
    "y_pred_proba = tpot.predict_proba(X_test)[:, 1]\n",
    "\n",
    "# Calculating ROC curve\n",
    "fpr, tpr, thresholds = roc_curve(y_test, y_pred_proba)\n",
    "roc_auc = auc(fpr, tpr)\n",
    "\n",
    "# Plotting the ROC curve using Matplotlib with Seaborn styling\n",
    "plt.figure(figsize=(10, 6))\n",
    "plt.plot(fpr, tpr, label=f'ROC curve (area = {roc_auc:.2f})', lw=2)\n",
    "plt.plot([0, 1], [0, 1], 'k--', label='Chance', lw=2)  # Diagonal line for random guessing\n",
    "plt.xlim([0.0, 1.0])\n",
    "plt.ylim([0.0, 1.05])\n",
    "plt.xlabel('False Positive Rate')\n",
    "plt.ylabel('True Positive Rate')\n",
    "plt.title('Receiver Operating Characteristic (ROC) TPOT Classification Preprocessed')\n",
    "plt.legend(loc=\"lower right\")\n",
    "\n",
    "# Save the plot as a PNG file\n",
    "plt.savefig('tpot_TEST_roc_curve_preprocessed.png', dpi=300)\n",
    "plt.show()"
   ]
  },
  {
   "cell_type": "code",
   "execution_count": 61,
   "id": "d519bacf-ca38-499c-94af-5a775ba483be",
   "metadata": {},
   "outputs": [],
   "source": [
    "tpot.export('tpot_classification_preprocessed')"
   ]
  },
  {
   "cell_type": "code",
   "execution_count": null,
   "id": "90c6859f-764d-4bd1-a9ce-220f64de5a00",
   "metadata": {},
   "outputs": [],
   "source": []
  }
 ],
 "metadata": {
  "kernelspec": {
   "display_name": "Python 3 (ipykernel)",
   "language": "python",
   "name": "python3"
  },
  "language_info": {
   "codemirror_mode": {
    "name": "ipython",
    "version": 3
   },
   "file_extension": ".py",
   "mimetype": "text/x-python",
   "name": "python",
   "nbconvert_exporter": "python",
   "pygments_lexer": "ipython3",
   "version": "3.9.19"
  }
 },
 "nbformat": 4,
 "nbformat_minor": 5
}
