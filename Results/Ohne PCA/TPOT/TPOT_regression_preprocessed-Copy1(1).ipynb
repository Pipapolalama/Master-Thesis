{
 "cells": [
  {
   "cell_type": "code",
   "execution_count": 5,
   "id": "cb8d0b06-e00e-4ae4-9250-2123ee0bc8f0",
   "metadata": {},
   "outputs": [],
   "source": [
    "import tpot\n"
   ]
  },
  {
   "cell_type": "code",
   "execution_count": 7,
   "id": "d2ad139f-4e6b-4e2c-8bae-e0a771e2a269",
   "metadata": {},
   "outputs": [],
   "source": [
    "import pandas as pd\n",
    "import numpy as np\n",
    "from tpot import TPOTRegressor\n",
    "\n",
    "\n",
    "df_test=pd.read_csv(\"test_reg_df.csv\")\n",
    "\n",
    "df_train=pd.read_csv(\"train_reg_df.csv\")\n",
    "\n",
    "X_train = df_train.drop([\"Price\"], axis=1).values  # TPOT needs 2D-Array\n",
    "y_train = df_train[\"Price\"].values  #price must be 1D\n",
    "\n",
    "X_test = df_test.drop([\"Price\"], axis=1).values\n",
    "y_test = df_test[\"Price\"].values"
   ]
  },
  {
   "cell_type": "code",
   "execution_count": 8,
   "id": "bb7f240b-0de0-432b-a11b-c128bdb45038",
   "metadata": {},
   "outputs": [],
   "source": [
    "# initializing tpot with parameters\n",
    "#max_time_mins=None (per default) - here max time 4h\n",
    "\n",
    "tpot = TPOTRegressor(generations=5, population_size=50,\n",
    "                     cv=5, verbosity=2, n_jobs=16, max_time_mins=240,\n",
    "                     periodic_checkpoint_folder='/content/results/regPre')"
   ]
  },
  {
   "cell_type": "code",
   "execution_count": 9,
   "id": "3992cc2d-b28a-4b83-bec2-d623629f1ef8",
   "metadata": {
    "scrolled": true
   },
   "outputs": [
    {
     "name": "stderr",
     "output_type": "stream",
     "text": [
      "Version 0.12.1 of tpot is outdated. Version 0.12.2 was released Friday February 23, 2024.\n"
     ]
    },
    {
     "data": {
      "application/vnd.jupyter.widget-view+json": {
       "model_id": "",
       "version_major": 2,
       "version_minor": 0
      },
      "text/plain": [
       "Optimization Progress:   0%|          | 0/50 [00:00<?, ?pipeline/s]"
      ]
     },
     "metadata": {},
     "output_type": "display_data"
    },
    {
     "name": "stderr",
     "output_type": "stream",
     "text": [
      "/home/bogdb/src/pdm-tpot/.venv/lib/python3.9/site-packages/tpot/builtins/__init__.py:36: UserWarning: Warning: optional dependency `torch` is not available. - skipping import of NN models.\n",
      "  warnings.warn(\"Warning: optional dependency `torch` is not available. - skipping import of NN models.\")\n",
      "/home/bogdb/src/pdm-tpot/.venv/lib/python3.9/site-packages/tpot/builtins/__init__.py:36: UserWarning: Warning: optional dependency `torch` is not available. - skipping import of NN models.\n",
      "  warnings.warn(\"Warning: optional dependency `torch` is not available. - skipping import of NN models.\")\n",
      "/home/bogdb/src/pdm-tpot/.venv/lib/python3.9/site-packages/tpot/builtins/__init__.py:36: UserWarning: Warning: optional dependency `torch` is not available. - skipping import of NN models.\n",
      "  warnings.warn(\"Warning: optional dependency `torch` is not available. - skipping import of NN models.\")\n",
      "/home/bogdb/src/pdm-tpot/.venv/lib/python3.9/site-packages/tpot/builtins/__init__.py:36: UserWarning: Warning: optional dependency `torch` is not available. - skipping import of NN models.\n",
      "  warnings.warn(\"Warning: optional dependency `torch` is not available. - skipping import of NN models.\")\n",
      "/home/bogdb/src/pdm-tpot/.venv/lib/python3.9/site-packages/tpot/builtins/__init__.py:36: UserWarning: Warning: optional dependency `torch` is not available. - skipping import of NN models.\n",
      "  warnings.warn(\"Warning: optional dependency `torch` is not available. - skipping import of NN models.\")\n",
      "/home/bogdb/src/pdm-tpot/.venv/lib/python3.9/site-packages/tpot/builtins/__init__.py:36: UserWarning: Warning: optional dependency `torch` is not available. - skipping import of NN models.\n",
      "  warnings.warn(\"Warning: optional dependency `torch` is not available. - skipping import of NN models.\")\n",
      "/home/bogdb/src/pdm-tpot/.venv/lib/python3.9/site-packages/tpot/builtins/__init__.py:36: UserWarning: Warning: optional dependency `torch` is not available. - skipping import of NN models.\n",
      "  warnings.warn(\"Warning: optional dependency `torch` is not available. - skipping import of NN models.\")\n",
      "/home/bogdb/src/pdm-tpot/.venv/lib/python3.9/site-packages/tpot/builtins/__init__.py:36: UserWarning: Warning: optional dependency `torch` is not available. - skipping import of NN models.\n",
      "  warnings.warn(\"Warning: optional dependency `torch` is not available. - skipping import of NN models.\")\n",
      "/home/bogdb/src/pdm-tpot/.venv/lib/python3.9/site-packages/tpot/builtins/__init__.py:36: UserWarning: Warning: optional dependency `torch` is not available. - skipping import of NN models.\n",
      "  warnings.warn(\"Warning: optional dependency `torch` is not available. - skipping import of NN models.\")\n",
      "/home/bogdb/src/pdm-tpot/.venv/lib/python3.9/site-packages/tpot/builtins/__init__.py:36: UserWarning: Warning: optional dependency `torch` is not available. - skipping import of NN models.\n",
      "  warnings.warn(\"Warning: optional dependency `torch` is not available. - skipping import of NN models.\")\n",
      "/home/bogdb/src/pdm-tpot/.venv/lib/python3.9/site-packages/tpot/builtins/__init__.py:36: UserWarning: Warning: optional dependency `torch` is not available. - skipping import of NN models.\n",
      "  warnings.warn(\"Warning: optional dependency `torch` is not available. - skipping import of NN models.\")\n",
      "/home/bogdb/src/pdm-tpot/.venv/lib/python3.9/site-packages/tpot/builtins/__init__.py:36: UserWarning: Warning: optional dependency `torch` is not available. - skipping import of NN models.\n",
      "  warnings.warn(\"Warning: optional dependency `torch` is not available. - skipping import of NN models.\")\n",
      "/home/bogdb/src/pdm-tpot/.venv/lib/python3.9/site-packages/tpot/builtins/__init__.py:36: UserWarning: Warning: optional dependency `torch` is not available. - skipping import of NN models.\n",
      "  warnings.warn(\"Warning: optional dependency `torch` is not available. - skipping import of NN models.\")\n",
      "/home/bogdb/src/pdm-tpot/.venv/lib/python3.9/site-packages/tpot/builtins/__init__.py:36: UserWarning: Warning: optional dependency `torch` is not available. - skipping import of NN models.\n",
      "  warnings.warn(\"Warning: optional dependency `torch` is not available. - skipping import of NN models.\")\n",
      "/home/bogdb/src/pdm-tpot/.venv/lib/python3.9/site-packages/tpot/builtins/__init__.py:36: UserWarning: Warning: optional dependency `torch` is not available. - skipping import of NN models.\n",
      "  warnings.warn(\"Warning: optional dependency `torch` is not available. - skipping import of NN models.\")\n",
      "/home/bogdb/src/pdm-tpot/.venv/lib/python3.9/site-packages/tpot/builtins/__init__.py:36: UserWarning: Warning: optional dependency `torch` is not available. - skipping import of NN models.\n",
      "  warnings.warn(\"Warning: optional dependency `torch` is not available. - skipping import of NN models.\")\n"
     ]
    },
    {
     "name": "stdout",
     "output_type": "stream",
     "text": [
      "\n",
      "Generation 1 - Current best internal CV score: -2797534854083.995\n",
      "\n",
      "Generation 2 - Current best internal CV score: -2797534854083.995\n",
      "\n",
      "Generation 3 - Current best internal CV score: -2781879432235.2593\n",
      "\n",
      "Generation 4 - Current best internal CV score: -2774453417321.6636\n",
      "\n",
      "Generation 5 - Current best internal CV score: -2767308106249.8467\n",
      "\n",
      "Best pipeline: RandomForestRegressor(input_matrix, bootstrap=True, max_features=0.7000000000000001, min_samples_leaf=2, min_samples_split=9, n_estimators=100)\n"
     ]
    },
    {
     "data": {
      "text/html": [
       "<style>#sk-container-id-1 {color: black;}#sk-container-id-1 pre{padding: 0;}#sk-container-id-1 div.sk-toggleable {background-color: white;}#sk-container-id-1 label.sk-toggleable__label {cursor: pointer;display: block;width: 100%;margin-bottom: 0;padding: 0.3em;box-sizing: border-box;text-align: center;}#sk-container-id-1 label.sk-toggleable__label-arrow:before {content: \"▸\";float: left;margin-right: 0.25em;color: #696969;}#sk-container-id-1 label.sk-toggleable__label-arrow:hover:before {color: black;}#sk-container-id-1 div.sk-estimator:hover label.sk-toggleable__label-arrow:before {color: black;}#sk-container-id-1 div.sk-toggleable__content {max-height: 0;max-width: 0;overflow: hidden;text-align: left;background-color: #f0f8ff;}#sk-container-id-1 div.sk-toggleable__content pre {margin: 0.2em;color: black;border-radius: 0.25em;background-color: #f0f8ff;}#sk-container-id-1 input.sk-toggleable__control:checked~div.sk-toggleable__content {max-height: 200px;max-width: 100%;overflow: auto;}#sk-container-id-1 input.sk-toggleable__control:checked~label.sk-toggleable__label-arrow:before {content: \"▾\";}#sk-container-id-1 div.sk-estimator input.sk-toggleable__control:checked~label.sk-toggleable__label {background-color: #d4ebff;}#sk-container-id-1 div.sk-label input.sk-toggleable__control:checked~label.sk-toggleable__label {background-color: #d4ebff;}#sk-container-id-1 input.sk-hidden--visually {border: 0;clip: rect(1px 1px 1px 1px);clip: rect(1px, 1px, 1px, 1px);height: 1px;margin: -1px;overflow: hidden;padding: 0;position: absolute;width: 1px;}#sk-container-id-1 div.sk-estimator {font-family: monospace;background-color: #f0f8ff;border: 1px dotted black;border-radius: 0.25em;box-sizing: border-box;margin-bottom: 0.5em;}#sk-container-id-1 div.sk-estimator:hover {background-color: #d4ebff;}#sk-container-id-1 div.sk-parallel-item::after {content: \"\";width: 100%;border-bottom: 1px solid gray;flex-grow: 1;}#sk-container-id-1 div.sk-label:hover label.sk-toggleable__label {background-color: #d4ebff;}#sk-container-id-1 div.sk-serial::before {content: \"\";position: absolute;border-left: 1px solid gray;box-sizing: border-box;top: 0;bottom: 0;left: 50%;z-index: 0;}#sk-container-id-1 div.sk-serial {display: flex;flex-direction: column;align-items: center;background-color: white;padding-right: 0.2em;padding-left: 0.2em;position: relative;}#sk-container-id-1 div.sk-item {position: relative;z-index: 1;}#sk-container-id-1 div.sk-parallel {display: flex;align-items: stretch;justify-content: center;background-color: white;position: relative;}#sk-container-id-1 div.sk-item::before, #sk-container-id-1 div.sk-parallel-item::before {content: \"\";position: absolute;border-left: 1px solid gray;box-sizing: border-box;top: 0;bottom: 0;left: 50%;z-index: -1;}#sk-container-id-1 div.sk-parallel-item {display: flex;flex-direction: column;z-index: 1;position: relative;background-color: white;}#sk-container-id-1 div.sk-parallel-item:first-child::after {align-self: flex-end;width: 50%;}#sk-container-id-1 div.sk-parallel-item:last-child::after {align-self: flex-start;width: 50%;}#sk-container-id-1 div.sk-parallel-item:only-child::after {width: 0;}#sk-container-id-1 div.sk-dashed-wrapped {border: 1px dashed gray;margin: 0 0.4em 0.5em 0.4em;box-sizing: border-box;padding-bottom: 0.4em;background-color: white;}#sk-container-id-1 div.sk-label label {font-family: monospace;font-weight: bold;display: inline-block;line-height: 1.2em;}#sk-container-id-1 div.sk-label-container {text-align: center;}#sk-container-id-1 div.sk-container {/* jupyter's `normalize.less` sets `[hidden] { display: none; }` but bootstrap.min.css set `[hidden] { display: none !important; }` so we also need the `!important` here to be able to override the default hidden behavior on the sphinx rendered scikit-learn.org. See: https://github.com/scikit-learn/scikit-learn/issues/21755 */display: inline-block !important;position: relative;}#sk-container-id-1 div.sk-text-repr-fallback {display: none;}</style><div id=\"sk-container-id-1\" class=\"sk-top-container\"><div class=\"sk-text-repr-fallback\"><pre>TPOTRegressor(generations=5, max_time_mins=240, n_jobs=16,\n",
       "              periodic_checkpoint_folder=&#x27;/content/results/regPre&#x27;,\n",
       "              population_size=50, verbosity=2)</pre><b>In a Jupyter environment, please rerun this cell to show the HTML representation or trust the notebook. <br />On GitHub, the HTML representation is unable to render, please try loading this page with nbviewer.org.</b></div><div class=\"sk-container\" hidden><div class=\"sk-item\"><div class=\"sk-estimator sk-toggleable\"><input class=\"sk-toggleable__control sk-hidden--visually\" id=\"sk-estimator-id-1\" type=\"checkbox\" checked><label for=\"sk-estimator-id-1\" class=\"sk-toggleable__label sk-toggleable__label-arrow\">TPOTRegressor</label><div class=\"sk-toggleable__content\"><pre>TPOTRegressor(generations=5, max_time_mins=240, n_jobs=16,\n",
       "              periodic_checkpoint_folder=&#x27;/content/results/regPre&#x27;,\n",
       "              population_size=50, verbosity=2)</pre></div></div></div></div></div>"
      ],
      "text/plain": [
       "TPOTRegressor(generations=5, max_time_mins=240, n_jobs=16,\n",
       "              periodic_checkpoint_folder='/content/results/regPre',\n",
       "              population_size=50, verbosity=2)"
      ]
     },
     "execution_count": 9,
     "metadata": {},
     "output_type": "execute_result"
    }
   ],
   "source": [
    "#starting the training\n",
    "tpot.fit(X_train, y_train)"
   ]
  },
  {
   "cell_type": "code",
   "execution_count": 10,
   "id": "8ffbad0e-5acc-464c-9222-41cf73763721",
   "metadata": {},
   "outputs": [
    {
     "name": "stdout",
     "output_type": "stream",
     "text": [
      "RESULTS OF BEST MODEL:\n",
      "\n",
      "R2:                         0.3500521993390916\n",
      "Mean Squared Error:         2667039282992.469\n",
      "Root Mean Squared Error:    1633107.247853756\n",
      "Mean Absolute Error:        1224222.8981310371\n",
      "Explained Variance:         0.35010936386710845\n",
      "Max Error:                  7738625.99884328\n",
      "Median Absolute Error       928867.427698385\n"
     ]
    }
   ],
   "source": [
    "import sklearn.metrics as skm\n",
    "\n",
    "y_pred = tpot.predict(X_test)\n",
    "\n",
    "print(\"RESULTS OF BEST MODEL:\\n\")\n",
    "\n",
    "print(f\"R2:                         {skm.r2_score(y_test, y_pred)}\")\n",
    "print(f\"Mean Squared Error:         {skm.mean_squared_error(y_test, y_pred)}\")\n",
    "print(f\"Root Mean Squared Error:    {skm.mean_squared_error(y_test, y_pred, squared=False)}\")\n",
    "print(f\"Mean Absolute Error:        {skm.mean_absolute_error(y_test, y_pred)}\")\n",
    "print(f\"Explained Variance:         {skm.explained_variance_score(y_test, y_pred)}\")\n",
    "print(f\"Max Error:                  {skm.max_error(y_test, y_pred)}\")\n",
    "print(f\"Median Absolute Error       {skm.median_absolute_error(y_test, y_pred)}\")\n"
   ]
  },
  {
   "cell_type": "code",
   "execution_count": 33,
   "id": "52a4bde5-d2ff-4902-9611-173d6b128c21",
   "metadata": {},
   "outputs": [
    {
     "name": "stdout",
     "output_type": "stream",
     "text": [
      "                    Metric         Value\n",
      "0                       R2  1.267643e-01\n",
      "1       Mean Squared Error  3.507104e+12\n",
      "2  Root Mean Squared Error  1.872726e+06\n",
      "3      Mean Absolute Error  1.475839e+06\n",
      "4       Explained Variance  1.268721e-01\n",
      "5                Max Error  7.874222e+06\n",
      "6    Median Absolute Error  1.269800e+06\n"
     ]
    }
   ],
   "source": [
    "#from IPython.display import FileLink\n",
    "#output of values to dictionary\n",
    "metrics_dict = {\n",
    "    'Metric': [\n",
    "        'R2',\n",
    "        'Mean Squared Error',\n",
    "        'Root Mean Squared Error',\n",
    "        'Mean Absolute Error',\n",
    "        'Explained Variance',\n",
    "        'Max Error',\n",
    "        'Median Absolute Error'\n",
    "    ],\n",
    "    'Value': [\n",
    "        skm.r2_score(y_test, y_pred),\n",
    "        skm.mean_squared_error(y_test, y_pred),\n",
    "        skm.mean_squared_error(y_test, y_pred, squared=False),\n",
    "        skm.mean_absolute_error(y_test, y_pred),\n",
    "        skm.explained_variance_score(y_test, y_pred),\n",
    "        skm.max_error(y_test, y_pred),\n",
    "        skm.median_absolute_error(y_test, y_pred)\n",
    "    ]\n",
    "}\n",
    "\n",
    "#to df\n",
    "metrics_df = pd.DataFrame(metrics_dict)\n",
    "\n",
    "\n",
    "print(metrics_df)\n",
    "\n",
    "metrics_df.to_csv('tpot_regression_metrics_preprocessed_TEST.csv', index=False)"
   ]
  },
  {
   "cell_type": "code",
   "execution_count": 34,
   "id": "1a9a900a-ad1b-4245-aacd-e17db92e021e",
   "metadata": {},
   "outputs": [
    {
     "data": {
      "text/html": [
       "<a href='tpot_regression_metrics_preprocessed.csv' target='_blank'>tpot_regression_metrics_preprocessed.csv</a><br>"
      ],
      "text/plain": [
       "/home/bogdb/src/pdm-tpot/tpot_regression_metrics_preprocessed.csv"
      ]
     },
     "execution_count": 34,
     "metadata": {},
     "output_type": "execute_result"
    }
   ],
   "source": [
    "from IPython.display import FileLink\n",
    "FileLink('tpot_regression_metrics_preprocessed_TEST.csv')"
   ]
  },
  {
   "cell_type": "code",
   "execution_count": 35,
   "id": "1925fdca-0f8f-40db-9fc3-3d5315ba0f15",
   "metadata": {},
   "outputs": [
    {
     "data": {
      "text/html": [
       "<div>\n",
       "<style scoped>\n",
       "    .dataframe tbody tr th:only-of-type {\n",
       "        vertical-align: middle;\n",
       "    }\n",
       "\n",
       "    .dataframe tbody tr th {\n",
       "        vertical-align: top;\n",
       "    }\n",
       "\n",
       "    .dataframe thead th {\n",
       "        text-align: right;\n",
       "    }\n",
       "</style>\n",
       "<table border=\"1\" class=\"dataframe\">\n",
       "  <thead>\n",
       "    <tr style=\"text-align: right;\">\n",
       "      <th></th>\n",
       "      <th>model</th>\n",
       "      <th>cv_score</th>\n",
       "      <th>model_info</th>\n",
       "    </tr>\n",
       "  </thead>\n",
       "  <tbody>\n",
       "    <tr>\n",
       "      <th>190</th>\n",
       "      <td>ExtraTreesRegressor(RidgeCV(input_matrix), Ext...</td>\n",
       "      <td>-2.908306e+12</td>\n",
       "      <td>{'generation': 3, 'mutation_count': 2, 'crosso...</td>\n",
       "    </tr>\n",
       "    <tr>\n",
       "      <th>263</th>\n",
       "      <td>ExtraTreesRegressor(RidgeCV(input_matrix), Ext...</td>\n",
       "      <td>-2.915362e+12</td>\n",
       "      <td>{'generation': 5, 'mutation_count': 4, 'crosso...</td>\n",
       "    </tr>\n",
       "    <tr>\n",
       "      <th>220</th>\n",
       "      <td>ExtraTreesRegressor(RidgeCV(input_matrix), Ext...</td>\n",
       "      <td>-2.917025e+12</td>\n",
       "      <td>{'generation': 4, 'mutation_count': 3, 'crosso...</td>\n",
       "    </tr>\n",
       "    <tr>\n",
       "      <th>96</th>\n",
       "      <td>ExtraTreesRegressor(RidgeCV(input_matrix), Ext...</td>\n",
       "      <td>-2.917473e+12</td>\n",
       "      <td>{'generation': 2, 'mutation_count': 1, 'crosso...</td>\n",
       "    </tr>\n",
       "    <tr>\n",
       "      <th>255</th>\n",
       "      <td>ExtraTreesRegressor(RidgeCV(input_matrix), Ext...</td>\n",
       "      <td>-2.919992e+12</td>\n",
       "      <td>{'generation': 5, 'mutation_count': 4, 'crosso...</td>\n",
       "    </tr>\n",
       "    <tr>\n",
       "      <th>...</th>\n",
       "      <td>...</td>\n",
       "      <td>...</td>\n",
       "      <td>...</td>\n",
       "    </tr>\n",
       "    <tr>\n",
       "      <th>236</th>\n",
       "      <td>RandomForestRegressor(input_matrix, RandomFore...</td>\n",
       "      <td>-inf</td>\n",
       "      <td>{'generation': 4, 'mutation_count': 2, 'crosso...</td>\n",
       "    </tr>\n",
       "    <tr>\n",
       "      <th>59</th>\n",
       "      <td>XGBRegressor(PCA(input_matrix, PCA__iterated_p...</td>\n",
       "      <td>-inf</td>\n",
       "      <td>{'generation': 1, 'mutation_count': 1, 'crosso...</td>\n",
       "    </tr>\n",
       "    <tr>\n",
       "      <th>54</th>\n",
       "      <td>ExtraTreesRegressor(AdaBoostRegressor(input_ma...</td>\n",
       "      <td>-inf</td>\n",
       "      <td>{'generation': 1, 'mutation_count': 1, 'crosso...</td>\n",
       "    </tr>\n",
       "    <tr>\n",
       "      <th>53</th>\n",
       "      <td>AdaBoostRegressor(input_matrix, AdaBoostRegres...</td>\n",
       "      <td>-inf</td>\n",
       "      <td>{'generation': 1, 'mutation_count': 1, 'crosso...</td>\n",
       "    </tr>\n",
       "    <tr>\n",
       "      <th>0</th>\n",
       "      <td>AdaBoostRegressor(input_matrix, AdaBoostRegres...</td>\n",
       "      <td>-inf</td>\n",
       "      <td>{'generation': 0, 'mutation_count': 0, 'crosso...</td>\n",
       "    </tr>\n",
       "  </tbody>\n",
       "</table>\n",
       "<p>293 rows × 3 columns</p>\n",
       "</div>"
      ],
      "text/plain": [
       "                                                 model      cv_score  \\\n",
       "190  ExtraTreesRegressor(RidgeCV(input_matrix), Ext... -2.908306e+12   \n",
       "263  ExtraTreesRegressor(RidgeCV(input_matrix), Ext... -2.915362e+12   \n",
       "220  ExtraTreesRegressor(RidgeCV(input_matrix), Ext... -2.917025e+12   \n",
       "96   ExtraTreesRegressor(RidgeCV(input_matrix), Ext... -2.917473e+12   \n",
       "255  ExtraTreesRegressor(RidgeCV(input_matrix), Ext... -2.919992e+12   \n",
       "..                                                 ...           ...   \n",
       "236  RandomForestRegressor(input_matrix, RandomFore...          -inf   \n",
       "59   XGBRegressor(PCA(input_matrix, PCA__iterated_p...          -inf   \n",
       "54   ExtraTreesRegressor(AdaBoostRegressor(input_ma...          -inf   \n",
       "53   AdaBoostRegressor(input_matrix, AdaBoostRegres...          -inf   \n",
       "0    AdaBoostRegressor(input_matrix, AdaBoostRegres...          -inf   \n",
       "\n",
       "                                            model_info  \n",
       "190  {'generation': 3, 'mutation_count': 2, 'crosso...  \n",
       "263  {'generation': 5, 'mutation_count': 4, 'crosso...  \n",
       "220  {'generation': 4, 'mutation_count': 3, 'crosso...  \n",
       "96   {'generation': 2, 'mutation_count': 1, 'crosso...  \n",
       "255  {'generation': 5, 'mutation_count': 4, 'crosso...  \n",
       "..                                                 ...  \n",
       "236  {'generation': 4, 'mutation_count': 2, 'crosso...  \n",
       "59   {'generation': 1, 'mutation_count': 1, 'crosso...  \n",
       "54   {'generation': 1, 'mutation_count': 1, 'crosso...  \n",
       "53   {'generation': 1, 'mutation_count': 1, 'crosso...  \n",
       "0    {'generation': 0, 'mutation_count': 0, 'crosso...  \n",
       "\n",
       "[293 rows x 3 columns]"
      ]
     },
     "execution_count": 35,
     "metadata": {},
     "output_type": "execute_result"
    }
   ],
   "source": [
    "#showing best models as there is no leaderboard\n",
    "import pandas as pd\n",
    "\n",
    "# Converting all evaluated models to a list of tuples\n",
    "my_dict = list(tpot.evaluated_individuals_.items())\n",
    "\n",
    "# empty list for dictionaries\n",
    "model_list = []\n",
    "\n",
    "for model in my_dict:\n",
    "    model_name = model[0]\n",
    "    model_info = model[1]\n",
    "    cv_score = model_info.get('internal_cv_score')  # Pull out cv_score as a column (i.e., sortable)\n",
    "    \n",
    "    # Append dictionary to the list\n",
    "    model_list.append({\n",
    "        'model': model_name,\n",
    "        'cv_score': cv_score,\n",
    "        'model_info': model_info,\n",
    "    })\n",
    "\n",
    "# Convert list to a DataFrame\n",
    "model_scores = pd.DataFrame(model_list)\n",
    "\n",
    "# Sort the DataFrame by cv_score\n",
    "model_scores = model_scores.sort_values('cv_score', ascending=False)\n",
    "\n",
    "# output\n",
    "model_scores"
   ]
  },
  {
   "cell_type": "code",
   "execution_count": 36,
   "id": "db470262-313f-4b71-ad54-5b854f18f61a",
   "metadata": {},
   "outputs": [],
   "source": [
    "model_scores.to_csv('TPOT_preprocessed_TEST_regression_model_score.csv', index=False)"
   ]
  },
  {
   "cell_type": "code",
   "execution_count": 37,
   "id": "5c423a72-3e38-4745-83d8-71d1e30e502a",
   "metadata": {},
   "outputs": [
    {
     "data": {
      "text/html": [
       "<a href='TPOT_preprocessed_regression_model_score.csv' target='_blank'>TPOT_preprocessed_regression_model_score.csv</a><br>"
      ],
      "text/plain": [
       "/home/bogdb/src/pdm-tpot/TPOT_preprocessed_regression_model_score.csv"
      ]
     },
     "execution_count": 37,
     "metadata": {},
     "output_type": "execute_result"
    }
   ],
   "source": [
    "from IPython.display import FileLink\n",
    "FileLink('TPOT_preprocessed_TEST_regression_model_score.csv')"
   ]
  },
  {
   "cell_type": "code",
   "execution_count": 38,
   "id": "a80e1c3a-f97a-43f0-9451-e4998e10ab73",
   "metadata": {},
   "outputs": [],
   "source": [
    "tpot.export('tpot_regression_TEST_preprocessed_normal')"
   ]
  },
  {
   "cell_type": "code",
   "execution_count": null,
   "id": "4beb51a8-7718-4f76-94d6-5b7fa0e71cdf",
   "metadata": {},
   "outputs": [],
   "source": []
  },
  {
   "cell_type": "code",
   "execution_count": null,
   "id": "b3d8b65a-529d-44fe-ae7b-7ee6b4e445fd",
   "metadata": {},
   "outputs": [],
   "source": []
  }
 ],
 "metadata": {
  "kernelspec": {
   "display_name": "Python 3 (ipykernel)",
   "language": "python",
   "name": "python3"
  },
  "language_info": {
   "codemirror_mode": {
    "name": "ipython",
    "version": 3
   },
   "file_extension": ".py",
   "mimetype": "text/x-python",
   "name": "python",
   "nbconvert_exporter": "python",
   "pygments_lexer": "ipython3",
   "version": "3.9.19"
  }
 },
 "nbformat": 4,
 "nbformat_minor": 5
}
