{
 "cells": [
  {
   "cell_type": "code",
   "execution_count": 1,
   "metadata": {
    "colab": {
     "base_uri": "https://localhost:8080/"
    },
    "id": "FU0xkSzHfQBj",
    "outputId": "720fa3a3-23bf-4052-cbc4-58c2470e94dd"
   },
   "outputs": [
    {
     "name": "stdout",
     "output_type": "stream",
     "text": [
      "Collecting scikit-learn==0.24.2\n",
      "  Downloading scikit_learn-0.24.2-cp38-cp38-manylinux2010_x86_64.whl.metadata (9.8 kB)\n",
      "Requirement already satisfied: numpy>=1.13.3 in /usr/local/lib/python3.8/dist-packages (from scikit-learn==0.24.2) (1.23.3)\n",
      "Requirement already satisfied: scipy>=0.19.1 in /usr/local/lib/python3.8/dist-packages (from scikit-learn==0.24.2) (1.9.1)\n",
      "Requirement already satisfied: joblib>=0.11 in /usr/local/lib/python3.8/dist-packages (from scikit-learn==0.24.2) (1.2.0)\n",
      "Requirement already satisfied: threadpoolctl>=2.0.0 in /usr/local/lib/python3.8/dist-packages (from scikit-learn==0.24.2) (3.1.0)\n",
      "Downloading scikit_learn-0.24.2-cp38-cp38-manylinux2010_x86_64.whl (24.9 MB)\n",
      "\u001b[2K   \u001b[90m━━━━━━━━━━━━━━━━━━━━━━━━━━━━━━━━━━━━━━━━\u001b[0m \u001b[32m24.9/24.9 MB\u001b[0m \u001b[31m9.1 MB/s\u001b[0m eta \u001b[36m0:00:00\u001b[0m00:01\u001b[0m00:01\u001b[0m\n",
      "\u001b[?25hInstalling collected packages: scikit-learn\n",
      "  Attempting uninstall: scikit-learn\n",
      "    Found existing installation: scikit-learn 1.3.2\n",
      "    Uninstalling scikit-learn-1.3.2:\n",
      "      Successfully uninstalled scikit-learn-1.3.2\n",
      "\u001b[31mERROR: pip's dependency resolver does not currently take into account all the packages that are installed. This behaviour is the source of the following dependency conflicts.\n",
      "autogluon-core 1.1.1 requires scikit-learn<1.4.1,>=1.3.0, but you have scikit-learn 0.24.2 which is incompatible.\n",
      "autogluon-features 1.1.1 requires scikit-learn<1.4.1,>=1.3.0, but you have scikit-learn 0.24.2 which is incompatible.\n",
      "autogluon-multimodal 1.1.1 requires scikit-learn<1.4.1,>=1.3.0, but you have scikit-learn 0.24.2 which is incompatible.\n",
      "autogluon-tabular 1.1.1 requires scikit-learn<1.4.1,>=1.3.0, but you have scikit-learn 0.24.2 which is incompatible.\n",
      "imbalanced-learn 0.12.3 requires scikit-learn>=1.0.2, but you have scikit-learn 0.24.2 which is incompatible.\u001b[0m\u001b[31m\n",
      "\u001b[0mSuccessfully installed scikit-learn-0.24.2\n",
      "\u001b[33mWARNING: Running pip as the 'root' user can result in broken permissions and conflicting behaviour with the system package manager, possibly rendering your system unusable.It is recommended to use a virtual environment instead: https://pip.pypa.io/warnings/venv. Use the --root-user-action option if you know what you are doing and want to suppress this warning.\u001b[0m\u001b[33m\n",
      "\u001b[0m"
     ]
    }
   ],
   "source": [
    "!pip install scikit-learn==0.24.2 "
   ]
  },
  {
   "cell_type": "code",
   "execution_count": 2,
   "metadata": {},
   "outputs": [
    {
     "name": "stdout",
     "output_type": "stream",
     "text": [
      "Collecting pandas==1.5.3\n",
      "  Downloading pandas-1.5.3-cp38-cp38-manylinux_2_17_x86_64.manylinux2014_x86_64.whl.metadata (11 kB)\n",
      "Requirement already satisfied: python-dateutil>=2.8.1 in /usr/local/lib/python3.8/dist-packages (from pandas==1.5.3) (2.8.2)\n",
      "Requirement already satisfied: pytz>=2020.1 in /usr/local/lib/python3.8/dist-packages (from pandas==1.5.3) (2022.2.1)\n",
      "Requirement already satisfied: numpy>=1.20.3 in /usr/local/lib/python3.8/dist-packages (from pandas==1.5.3) (1.23.3)\n",
      "Requirement already satisfied: six>=1.5 in /usr/local/lib/python3.8/dist-packages (from python-dateutil>=2.8.1->pandas==1.5.3) (1.16.0)\n",
      "Downloading pandas-1.5.3-cp38-cp38-manylinux_2_17_x86_64.manylinux2014_x86_64.whl (12.2 MB)\n",
      "\u001b[2K   \u001b[90m━━━━━━━━━━━━━━━━━━━━━━━━━━━━━━━━━━━━━━━━\u001b[0m \u001b[32m12.2/12.2 MB\u001b[0m \u001b[31m23.1 MB/s\u001b[0m eta \u001b[36m0:00:00\u001b[0ma \u001b[36m0:00:01\u001b[0m\n",
      "\u001b[?25hInstalling collected packages: pandas\n",
      "  Attempting uninstall: pandas\n",
      "    Found existing installation: pandas 2.0.3\n",
      "    Uninstalling pandas-2.0.3:\n",
      "      Successfully uninstalled pandas-2.0.3\n",
      "\u001b[31mERROR: pip's dependency resolver does not currently take into account all the packages that are installed. This behaviour is the source of the following dependency conflicts.\n",
      "autogluon-common 1.1.1 requires pandas<2.3.0,>=2.0.0, but you have pandas 1.5.3 which is incompatible.\n",
      "autogluon-core 1.1.1 requires pandas<2.3.0,>=2.0.0, but you have pandas 1.5.3 which is incompatible.\n",
      "autogluon-core 1.1.1 requires scikit-learn<1.4.1,>=1.3.0, but you have scikit-learn 0.24.2 which is incompatible.\n",
      "autogluon-features 1.1.1 requires pandas<2.3.0,>=2.0.0, but you have pandas 1.5.3 which is incompatible.\n",
      "autogluon-features 1.1.1 requires scikit-learn<1.4.1,>=1.3.0, but you have scikit-learn 0.24.2 which is incompatible.\n",
      "autogluon-multimodal 1.1.1 requires pandas<2.3.0,>=2.0.0, but you have pandas 1.5.3 which is incompatible.\n",
      "autogluon-multimodal 1.1.1 requires scikit-learn<1.4.1,>=1.3.0, but you have scikit-learn 0.24.2 which is incompatible.\n",
      "autogluon-tabular 1.1.1 requires pandas<2.3.0,>=2.0.0, but you have pandas 1.5.3 which is incompatible.\n",
      "autogluon-tabular 1.1.1 requires scikit-learn<1.4.1,>=1.3.0, but you have scikit-learn 0.24.2 which is incompatible.\n",
      "autogluon-timeseries 1.1.1 requires pandas<2.3.0,>=2.0.0, but you have pandas 1.5.3 which is incompatible.\u001b[0m\u001b[31m\n",
      "\u001b[0mSuccessfully installed pandas-1.5.3\n",
      "\u001b[33mWARNING: Running pip as the 'root' user can result in broken permissions and conflicting behaviour with the system package manager, possibly rendering your system unusable.It is recommended to use a virtual environment instead: https://pip.pypa.io/warnings/venv. Use the --root-user-action option if you know what you are doing and want to suppress this warning.\u001b[0m\u001b[33m\n",
      "\u001b[0m"
     ]
    }
   ],
   "source": [
    "!pip install pandas==1.5.3"
   ]
  },
  {
   "cell_type": "code",
   "execution_count": 1,
   "metadata": {
    "colab": {
     "base_uri": "https://localhost:8080/"
    },
    "id": "56kXoepti5_h",
    "outputId": "425b975f-fc3d-499e-9223-5c89ec99e7ae"
   },
   "outputs": [],
   "source": [
    "import autosklearn"
   ]
  },
  {
   "cell_type": "code",
   "execution_count": 2,
   "metadata": {
    "id": "5SA3eMeKlD2c"
   },
   "outputs": [],
   "source": [
    "import autosklearn.regression\n",
    "import pandas as pd"
   ]
  },
  {
   "cell_type": "code",
   "execution_count": 3,
   "metadata": {
    "colab": {
     "base_uri": "https://localhost:8080/"
    },
    "id": "qB_kwqNJl6gx",
    "outputId": "b815a091-dda5-4a36-fa82-b39651cc5de2"
   },
   "outputs": [
    {
     "name": "stdout",
     "output_type": "stream",
     "text": [
      "          rank  ensemble_weight               type      cost    duration\n",
      "model_id                                                                \n",
      "2023         1             0.02      random_forest  0.689534   33.846701\n",
      "1168         2             0.04  gradient_boosting  0.693522    2.296080\n",
      "323          3             0.16           adaboost  0.694391    1.150742\n",
      "1646         4             0.12        extra_trees  0.705824  434.809948\n",
      "12           5             0.04  gradient_boosting  0.706610   39.050243\n",
      "56           6             0.28      random_forest  0.708263    5.157297\n",
      "1523         7             0.02  gradient_boosting  0.708896    3.424922\n",
      "695          8             0.06  gradient_boosting  0.710918    1.802721\n",
      "1039         9             0.02      random_forest  0.711120   17.496096\n",
      "1018        10             0.14  gradient_boosting  0.711378    2.054676\n",
      "35          11             0.10  gradient_boosting  0.715869    1.037173\n"
     ]
    }
   ],
   "source": [
    "df_train = pd.read_csv(\"train_reg_df.csv\")\n",
    "df_test = pd.read_csv(\"test_reg_df.csv\")\n",
    "\n",
    "# features and target\n",
    "X_train = df_train.drop(['Price'], axis=1)\n",
    "y_train = df_train['Price']\n",
    "\n",
    "X_test = df_test.drop(['Price'], axis=1)\n",
    "y_test = df_test['Price']\n",
    "\n",
    "#4h for training, 20 mins per model\n",
    "\n",
    "automl_regressor = autosklearn.regression.AutoSklearnRegressor(\n",
    "    time_left_for_this_task= 14400,\n",
    "    per_run_time_limit= 600,\n",
    "    n_jobs = 8, #with more cores break down\n",
    "    memory_limit=8192 \n",
    ")\n",
    "\n",
    "automl_regressor.fit(X_train, y_train, dataset_name=\"housing_prices_test\")\n",
    "\n",
    "\n",
    "print(automl_regressor.leaderboard())\n",
    "\n"
   ]
  },
  {
   "cell_type": "code",
   "execution_count": 4,
   "metadata": {
    "colab": {
     "base_uri": "https://localhost:8080/"
    },
    "id": "dfDVzB9cGJ-6",
    "outputId": "f580cc36-957d-4700-fe89-08187b9753da"
   },
   "outputs": [
    {
     "name": "stdout",
     "output_type": "stream",
     "text": [
      "R2:                         0.33742818560693666\n",
      "Mean Squared Error:         2718841505414.7266\n",
      "Root Mean Squared Error:    1648890.9925809912\n",
      "Mean Absolute Error:        1244975.2803553427\n",
      "Explained Variance:         0.3375130354014271\n",
      "Max Error:                  7415667.21484375\n",
      "Median Absolute Error       945521.921875\n"
     ]
    }
   ],
   "source": [
    "import sklearn.metrics as skm\n",
    "\n",
    "y_pred = automl_regressor.predict(X_test)\n",
    "\n",
    "print(f\"R2:                         {skm.r2_score(y_test, y_pred)}\")\n",
    "print(f\"Mean Squared Error:         {skm.mean_squared_error(y_test, y_pred)}\")\n",
    "print(f\"Root Mean Squared Error:    {skm.mean_squared_error(y_test, y_pred, squared=False)}\")\n",
    "print(f\"Mean Absolute Error:        {skm.mean_absolute_error(y_test, y_pred)}\")\n",
    "print(f\"Explained Variance:         {skm.explained_variance_score(y_test, y_pred)}\")\n",
    "print(f\"Max Error:                  {skm.max_error(y_test, y_pred)}\")\n",
    "print(f\"Median Absolute Error       {skm.median_absolute_error(y_test, y_pred)}\")\n"
   ]
  },
  {
   "cell_type": "code",
   "execution_count": 10,
   "metadata": {},
   "outputs": [],
   "source": [
    "from IPython.display import FileLink"
   ]
  },
  {
   "cell_type": "code",
   "execution_count": 11,
   "metadata": {
    "colab": {
     "base_uri": "https://localhost:8080/",
     "height": 284
    },
    "id": "0LZ8ZbcPl6Ru",
    "outputId": "692cef71-a8a8-4af0-9bf6-68fee474fb0a"
   },
   "outputs": [
    {
     "name": "stdout",
     "output_type": "stream",
     "text": [
      "          rank  ensemble_weight               type      cost    duration  \\\n",
      "model_id                                                                   \n",
      "2023         1             0.02      random_forest  0.689534   33.846701   \n",
      "1168         2             0.04  gradient_boosting  0.693522    2.296080   \n",
      "323          3             0.16           adaboost  0.694391    1.150742   \n",
      "1646         4             0.12        extra_trees  0.705824  434.809948   \n",
      "12           5             0.04  gradient_boosting  0.706610   39.050243   \n",
      "56           6             0.28      random_forest  0.708263    5.157297   \n",
      "1523         7             0.02  gradient_boosting  0.708896    3.424922   \n",
      "695          8             0.06  gradient_boosting  0.710918    1.802721   \n",
      "1039         9             0.02      random_forest  0.711120   17.496096   \n",
      "1018        10             0.14  gradient_boosting  0.711378    2.054676   \n",
      "35          11             0.10  gradient_boosting  0.715869    1.037173   \n",
      "\n",
      "          config_id  train_loss  seed    start_time      end_time  budget  \\\n",
      "model_id                                                                    \n",
      "2023           2022    0.416566     0  1.724849e+09  1.724849e+09     0.0   \n",
      "1168           1167    0.458770     0  1.724845e+09  1.724845e+09     0.0   \n",
      "323             322    0.437177     0  1.724840e+09  1.724840e+09     0.0   \n",
      "1646           1645    0.479465     0  1.724847e+09  1.724848e+09     0.0   \n",
      "12               11    0.341649     0  1.724838e+09  1.724838e+09     0.0   \n",
      "56               55    0.168915     0  1.724838e+09  1.724838e+09     0.0   \n",
      "1523           1522    0.481714     0  1.724847e+09  1.724847e+09     0.0   \n",
      "695             694    0.616328     0  1.724843e+09  1.724843e+09     0.0   \n",
      "1039           1038    0.237053     0  1.724844e+09  1.724844e+09     0.0   \n",
      "1018           1017    0.320722     0  1.724844e+09  1.724844e+09     0.0   \n",
      "35               34    0.584974     0  1.724838e+09  1.724838e+09     0.0   \n",
      "\n",
      "                      status data_preprocessors  \\\n",
      "model_id                                          \n",
      "2023      StatusType.SUCCESS                 []   \n",
      "1168      StatusType.SUCCESS                 []   \n",
      "323       StatusType.SUCCESS                 []   \n",
      "1646      StatusType.SUCCESS                 []   \n",
      "12        StatusType.SUCCESS                 []   \n",
      "56        StatusType.SUCCESS                 []   \n",
      "1523      StatusType.SUCCESS                 []   \n",
      "695       StatusType.SUCCESS                 []   \n",
      "1039      StatusType.SUCCESS                 []   \n",
      "1018      StatusType.SUCCESS                 []   \n",
      "35        StatusType.SUCCESS                 []   \n",
      "\n",
      "                   feature_preprocessors balancing_strategy  \\\n",
      "model_id                                                      \n",
      "2023                        [polynomial]               None   \n",
      "1168           [select_rates_regression]               None   \n",
      "323              [feature_agglomeration]               None   \n",
      "1646                        [polynomial]               None   \n",
      "12                          [polynomial]               None   \n",
      "56               [feature_agglomeration]               None   \n",
      "1523                  [no_preprocessing]               None   \n",
      "695                   [no_preprocessing]               None   \n",
      "1039                        [polynomial]               None   \n",
      "1018      [select_percentile_regression]               None   \n",
      "35               [feature_agglomeration]               None   \n",
      "\n",
      "                   config_origin  \n",
      "model_id                          \n",
      "2023               Random Search  \n",
      "1168               Random Search  \n",
      "323                Random Search  \n",
      "1646               Random Search  \n",
      "12                Initial design  \n",
      "56                  Local Search  \n",
      "1523               Random Search  \n",
      "695                Random Search  \n",
      "1039               Random Search  \n",
      "1018               Random Search  \n",
      "35        Random Search (sorted)  \n"
     ]
    },
    {
     "ename": "AttributeError",
     "evalue": "type object 'FileLink' has no attribute 'download'",
     "output_type": "error",
     "traceback": [
      "\u001b[0;31m---------------------------------------------------------------------------\u001b[0m",
      "\u001b[0;31mAttributeError\u001b[0m                            Traceback (most recent call last)",
      "Cell \u001b[0;32mIn [11], line 13\u001b[0m\n\u001b[1;32m     10\u001b[0m \u001b[38;5;66;03m# download leaderboard\u001b[39;00m\n\u001b[1;32m     11\u001b[0m leaderboard_df\u001b[38;5;241m.\u001b[39mto_csv(\u001b[38;5;124m'\u001b[39m\u001b[38;5;124mautosklearn_TEST_regression_preprosessing_leaderboard.csv\u001b[39m\u001b[38;5;124m'\u001b[39m, index\u001b[38;5;241m=\u001b[39m\u001b[38;5;28;01mFalse\u001b[39;00m)\n\u001b[0;32m---> 13\u001b[0m \u001b[43mFileLink\u001b[49m\u001b[38;5;241;43m.\u001b[39;49m\u001b[43mdownload\u001b[49m(\u001b[38;5;124m'\u001b[39m\u001b[38;5;124mautosklearn_TEST_regression_preprosessing_leaderboard.csv\u001b[39m\u001b[38;5;124m'\u001b[39m)\n",
      "\u001b[0;31mAttributeError\u001b[0m: type object 'FileLink' has no attribute 'download'"
     ]
    }
   ],
   "source": [
    "from IPython.display import FileLink\n",
    "#export leaderboard\n",
    "\n",
    "#leaderboard to df\n",
    "leaderboard_df = automl_regressor.leaderboard(detailed=True)\n",
    "leaderboard_df = pd.DataFrame(leaderboard_df)\n",
    "\n",
    "print(leaderboard_df)\n",
    "\n",
    "# download leaderboard\n",
    "leaderboard_df.to_csv('autosklearn_TEST_regression_preprosessing_leaderboard.csv', index=False)\n",
    "\n",
    "FileLink.download('autosklearn_TEST_regression_preprosessing_leaderboard.csv')\n"
   ]
  },
  {
   "cell_type": "code",
   "execution_count": 8,
   "metadata": {
    "colab": {
     "base_uri": "https://localhost:8080/",
     "height": 159
    },
    "id": "jwEFKcApnTCI",
    "outputId": "e2729b5b-cd52-4aa2-8a8b-1e5e409c7224"
   },
   "outputs": [
    {
     "name": "stdout",
     "output_type": "stream",
     "text": [
      "                    Metric         Value\n",
      "0                       R2  3.374282e-01\n",
      "1       Mean Squared Error  2.718842e+12\n",
      "2  Root Mean Squared Error  1.648891e+06\n",
      "3      Mean Absolute Error  1.244975e+06\n",
      "4       Explained Variance  3.375130e-01\n",
      "5                Max Error  7.415667e+06\n",
      "6    Median Absolute Error  9.455219e+05\n"
     ]
    },
    {
     "ename": "AttributeError",
     "evalue": "type object 'FileLink' has no attribute 'download'",
     "output_type": "error",
     "traceback": [
      "\u001b[0;31m---------------------------------------------------------------------------\u001b[0m",
      "\u001b[0;31mAttributeError\u001b[0m                            Traceback (most recent call last)",
      "Cell \u001b[0;32mIn [8], line 30\u001b[0m\n\u001b[1;32m     27\u001b[0m \u001b[38;5;28mprint\u001b[39m(metrics_df)\n\u001b[1;32m     29\u001b[0m metrics_df\u001b[38;5;241m.\u001b[39mto_csv(\u001b[38;5;124m'\u001b[39m\u001b[38;5;124mautosklearn_regression_preprosessing_metrics.csv\u001b[39m\u001b[38;5;124m'\u001b[39m, index\u001b[38;5;241m=\u001b[39m\u001b[38;5;28;01mFalse\u001b[39;00m)\n\u001b[0;32m---> 30\u001b[0m \u001b[43mFileLink\u001b[49m\u001b[38;5;241;43m.\u001b[39;49m\u001b[43mdownload\u001b[49m(\u001b[38;5;124m'\u001b[39m\u001b[38;5;124mautosklearn_regression_preprosessing_metrics.csv\u001b[39m\u001b[38;5;124m'\u001b[39m)\n",
      "\u001b[0;31mAttributeError\u001b[0m: type object 'FileLink' has no attribute 'download'"
     ]
    }
   ],
   "source": [
    "# output of values to dictionary\n",
    "metrics_dict = {\n",
    "    'Metric': [\n",
    "        'R2',\n",
    "        'Mean Squared Error',\n",
    "        'Root Mean Squared Error',\n",
    "        'Mean Absolute Error',\n",
    "        'Explained Variance',\n",
    "        'Max Error',\n",
    "        'Median Absolute Error'\n",
    "    ],\n",
    "    'Value': [\n",
    "        skm.r2_score(y_test, y_pred),\n",
    "        skm.mean_squared_error(y_test, y_pred),\n",
    "        skm.mean_squared_error(y_test, y_pred, squared=False),\n",
    "        skm.mean_absolute_error(y_test, y_pred),\n",
    "        skm.explained_variance_score(y_test, y_pred),\n",
    "        skm.max_error(y_test, y_pred),\n",
    "        skm.median_absolute_error(y_test, y_pred)\n",
    "    ]\n",
    "}\n",
    "\n",
    "#to df\n",
    "metrics_df = pd.DataFrame(metrics_dict)\n",
    "\n",
    "\n",
    "print(metrics_df)\n",
    "\n",
    "metrics_df.to_csv('autosklearn_regression_preprosessing_metrics.csv', index=False)\n",
    "FileLink.download('autosklearn_regression_preprosessing_metrics.csv')"
   ]
  },
  {
   "cell_type": "code",
   "execution_count": null,
   "metadata": {},
   "outputs": [],
   "source": []
  }
 ],
 "metadata": {
  "colab": {
   "provenance": []
  },
  "kernelspec": {
   "display_name": "Python 3 (ipykernel)",
   "language": "python",
   "name": "python3"
  },
  "language_info": {
   "codemirror_mode": {
    "name": "ipython",
    "version": 3
   },
   "file_extension": ".py",
   "mimetype": "text/x-python",
   "name": "python",
   "nbconvert_exporter": "python",
   "pygments_lexer": "ipython3",
   "version": "3.8.10"
  }
 },
 "nbformat": 4,
 "nbformat_minor": 4
}
