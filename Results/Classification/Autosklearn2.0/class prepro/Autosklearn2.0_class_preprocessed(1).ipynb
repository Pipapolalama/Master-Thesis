{
 "cells": [
  {
   "cell_type": "code",
   "execution_count": 1,
   "id": "9ade3c58-2f08-40a5-adf8-94ec64da800c",
   "metadata": {},
   "outputs": [
    {
     "name": "stdout",
     "output_type": "stream",
     "text": [
      "Collecting scikit-learn==0.24.2\n",
      "  Downloading scikit_learn-0.24.2-cp38-cp38-manylinux2010_x86_64.whl.metadata (9.8 kB)\n",
      "Requirement already satisfied: numpy>=1.13.3 in /usr/local/lib/python3.8/dist-packages (from scikit-learn==0.24.2) (1.23.3)\n",
      "Requirement already satisfied: scipy>=0.19.1 in /usr/local/lib/python3.8/dist-packages (from scikit-learn==0.24.2) (1.9.1)\n",
      "Requirement already satisfied: joblib>=0.11 in /usr/local/lib/python3.8/dist-packages (from scikit-learn==0.24.2) (1.2.0)\n",
      "Requirement already satisfied: threadpoolctl>=2.0.0 in /usr/local/lib/python3.8/dist-packages (from scikit-learn==0.24.2) (3.1.0)\n",
      "Downloading scikit_learn-0.24.2-cp38-cp38-manylinux2010_x86_64.whl (24.9 MB)\n",
      "\u001b[2K   \u001b[90m━━━━━━━━━━━━━━━━━━━━━━━━━━━━━━━━━━━━━━━━\u001b[0m \u001b[32m24.9/24.9 MB\u001b[0m \u001b[31m14.4 MB/s\u001b[0m eta \u001b[36m0:00:00\u001b[0ma \u001b[36m0:00:01\u001b[0m\n",
      "\u001b[?25hInstalling collected packages: scikit-learn\n",
      "  Attempting uninstall: scikit-learn\n",
      "    Found existing installation: scikit-learn 1.3.2\n",
      "    Uninstalling scikit-learn-1.3.2:\n",
      "      Successfully uninstalled scikit-learn-1.3.2\n",
      "\u001b[31mERROR: pip's dependency resolver does not currently take into account all the packages that are installed. This behaviour is the source of the following dependency conflicts.\n",
      "autogluon-core 1.1.1 requires scikit-learn<1.4.1,>=1.3.0, but you have scikit-learn 0.24.2 which is incompatible.\n",
      "autogluon-features 1.1.1 requires scikit-learn<1.4.1,>=1.3.0, but you have scikit-learn 0.24.2 which is incompatible.\n",
      "autogluon-multimodal 1.1.1 requires scikit-learn<1.4.1,>=1.3.0, but you have scikit-learn 0.24.2 which is incompatible.\n",
      "autogluon-tabular 1.1.1 requires scikit-learn<1.4.1,>=1.3.0, but you have scikit-learn 0.24.2 which is incompatible.\n",
      "imbalanced-learn 0.12.3 requires scikit-learn>=1.0.2, but you have scikit-learn 0.24.2 which is incompatible.\u001b[0m\u001b[31m\n",
      "\u001b[0mSuccessfully installed scikit-learn-0.24.2\n",
      "\u001b[33mWARNING: Running pip as the 'root' user can result in broken permissions and conflicting behaviour with the system package manager, possibly rendering your system unusable.It is recommended to use a virtual environment instead: https://pip.pypa.io/warnings/venv. Use the --root-user-action option if you know what you are doing and want to suppress this warning.\u001b[0m\u001b[33m\n",
      "\u001b[0m"
     ]
    }
   ],
   "source": [
    "!pip install scikit-learn==0.24.2 "
   ]
  },
  {
   "cell_type": "code",
   "execution_count": 2,
   "id": "71933e9e-012b-454a-a8a1-992658f77560",
   "metadata": {},
   "outputs": [
    {
     "name": "stdout",
     "output_type": "stream",
     "text": [
      "Collecting pandas==1.5.3\n",
      "  Downloading pandas-1.5.3-cp38-cp38-manylinux_2_17_x86_64.manylinux2014_x86_64.whl.metadata (11 kB)\n",
      "Requirement already satisfied: python-dateutil>=2.8.1 in /usr/local/lib/python3.8/dist-packages (from pandas==1.5.3) (2.8.2)\n",
      "Requirement already satisfied: pytz>=2020.1 in /usr/local/lib/python3.8/dist-packages (from pandas==1.5.3) (2022.2.1)\n",
      "Requirement already satisfied: numpy>=1.20.3 in /usr/local/lib/python3.8/dist-packages (from pandas==1.5.3) (1.23.3)\n",
      "Requirement already satisfied: six>=1.5 in /usr/local/lib/python3.8/dist-packages (from python-dateutil>=2.8.1->pandas==1.5.3) (1.16.0)\n",
      "Downloading pandas-1.5.3-cp38-cp38-manylinux_2_17_x86_64.manylinux2014_x86_64.whl (12.2 MB)\n",
      "\u001b[2K   \u001b[90m━━━━━━━━━━━━━━━━━━━━━━━━━━━━━━━━━━━━━━━━\u001b[0m \u001b[32m12.2/12.2 MB\u001b[0m \u001b[31m11.0 MB/s\u001b[0m eta \u001b[36m0:00:00\u001b[0m \u001b[36m0:00:01\u001b[0m\n",
      "\u001b[?25hInstalling collected packages: pandas\n",
      "  Attempting uninstall: pandas\n",
      "    Found existing installation: pandas 2.0.3\n",
      "    Uninstalling pandas-2.0.3:\n",
      "      Successfully uninstalled pandas-2.0.3\n",
      "\u001b[31mERROR: pip's dependency resolver does not currently take into account all the packages that are installed. This behaviour is the source of the following dependency conflicts.\n",
      "autogluon-common 1.1.1 requires pandas<2.3.0,>=2.0.0, but you have pandas 1.5.3 which is incompatible.\n",
      "autogluon-core 1.1.1 requires pandas<2.3.0,>=2.0.0, but you have pandas 1.5.3 which is incompatible.\n",
      "autogluon-core 1.1.1 requires scikit-learn<1.4.1,>=1.3.0, but you have scikit-learn 0.24.2 which is incompatible.\n",
      "autogluon-features 1.1.1 requires pandas<2.3.0,>=2.0.0, but you have pandas 1.5.3 which is incompatible.\n",
      "autogluon-features 1.1.1 requires scikit-learn<1.4.1,>=1.3.0, but you have scikit-learn 0.24.2 which is incompatible.\n",
      "autogluon-multimodal 1.1.1 requires pandas<2.3.0,>=2.0.0, but you have pandas 1.5.3 which is incompatible.\n",
      "autogluon-multimodal 1.1.1 requires scikit-learn<1.4.1,>=1.3.0, but you have scikit-learn 0.24.2 which is incompatible.\n",
      "autogluon-tabular 1.1.1 requires pandas<2.3.0,>=2.0.0, but you have pandas 1.5.3 which is incompatible.\n",
      "autogluon-tabular 1.1.1 requires scikit-learn<1.4.1,>=1.3.0, but you have scikit-learn 0.24.2 which is incompatible.\n",
      "autogluon-timeseries 1.1.1 requires pandas<2.3.0,>=2.0.0, but you have pandas 1.5.3 which is incompatible.\u001b[0m\u001b[31m\n",
      "\u001b[0mSuccessfully installed pandas-1.5.3\n",
      "\u001b[33mWARNING: Running pip as the 'root' user can result in broken permissions and conflicting behaviour with the system package manager, possibly rendering your system unusable.It is recommended to use a virtual environment instead: https://pip.pypa.io/warnings/venv. Use the --root-user-action option if you know what you are doing and want to suppress this warning.\u001b[0m\u001b[33m\n",
      "\u001b[0m"
     ]
    }
   ],
   "source": [
    "!pip install pandas==1.5.3"
   ]
  },
  {
   "cell_type": "code",
   "execution_count": 3,
   "id": "9c73d46d-99dc-46d7-b37e-2ae6570e0746",
   "metadata": {},
   "outputs": [
    {
     "name": "stdout",
     "output_type": "stream",
     "text": [
      "1.5.3\n"
     ]
    }
   ],
   "source": [
    "import pandas as pd\n",
    "print(pd.__version__)"
   ]
  },
  {
   "cell_type": "code",
   "execution_count": 4,
   "id": "9b041fd4-6e5c-4d9f-bb26-15cce7198933",
   "metadata": {},
   "outputs": [],
   "source": [
    "import autosklearn"
   ]
  },
  {
   "cell_type": "code",
   "execution_count": 5,
   "id": "3ea0de2a-7d2f-4e0e-b78e-955df091ca8c",
   "metadata": {},
   "outputs": [],
   "source": [
    "import autosklearn.classification as classifier\n",
    "from autosklearn.metrics import (accuracy,\n",
    "                                 f1,\n",
    "                                 roc_auc,\n",
    "                                 precision,\n",
    "                                 average_precision,\n",
    "                                 recall,\n",
    "                                 log_loss)"
   ]
  },
  {
   "cell_type": "code",
   "execution_count": 6,
   "id": "10b14ce6-efec-401a-bf91-bdd1ba56ae88",
   "metadata": {},
   "outputs": [],
   "source": [
    "from autosklearn.experimental.askl2 import AutoSklearn2Classifier\n",
    "from sklearn.model_selection import train_test_split\n",
    "from sklearn.preprocessing import OneHotEncoder, LabelEncoder\n",
    "from sklearn.compose import ColumnTransformer\n",
    "import pandas as pd\n",
    "\n",
    "\n",
    "from autosklearn.experimental.askl2 import AutoSklearn2Classifier\n",
    "import pandas as pd\n",
    "\n",
    "df_test=pd.read_csv(\"TestSet_klassification.csv\")\n",
    "df_train=pd.read_csv(\"TrainSet_klassification.csv\")\n",
    "\n",
    "X_train = df_train.drop([\"income\"], axis=1)\n",
    "y_train = df_train[\"income\"]\n",
    "\n",
    "X_test = df_test.drop([\"income\"], axis=1)\n",
    "y_test = df_test[\"income\"]\n",
    "\n",
    "\n",
    "\n",
    "#trainingstime max 4h\n",
    "\n",
    "automl = AutoSklearn2Classifier(\n",
    "    time_left_for_this_task= 14400,\n",
    "    per_run_time_limit= 600,\n",
    "    n_jobs = 8,\n",
    "    memory_limit=8192 \n",
    ")"
   ]
  },
  {
   "cell_type": "code",
   "execution_count": 7,
   "id": "35adcf1b-0c59-4f76-bb04-7caa10c5e872",
   "metadata": {},
   "outputs": [
    {
     "name": "stderr",
     "output_type": "stream",
     "text": [
      "/usr/local/lib/python3.8/dist-packages/autosklearn/experimental/selector.py:26: FutureWarning: iteritems is deprecated and will be removed in a future version. Use .items instead.\n",
      "  for col, series in prediction.iteritems():\n"
     ]
    },
    {
     "data": {
      "text/plain": [
       "AutoSklearn2Classifier(memory_limit=8192, metric=accuracy, n_jobs=8,\n",
       "                       per_run_time_limit=600, time_left_for_this_task=14400)"
      ]
     },
     "execution_count": 7,
     "metadata": {},
     "output_type": "execute_result"
    }
   ],
   "source": [
    "automl.fit(X_train, y_train, dataset_name=\"income\")"
   ]
  },
  {
   "cell_type": "code",
   "execution_count": 8,
   "id": "a6bb9533-9b05-4b87-8945-f00255375142",
   "metadata": {},
   "outputs": [
    {
     "name": "stdout",
     "output_type": "stream",
     "text": [
      "RESULTS OF BEST MODEL:\n",
      "\n",
      "F1-Score:                   0.6137651821862349\n",
      "AUC-ROC Score:              0.8722127577964168\n",
      "Accuracy:                   0.824147465437788\n",
      "Precision:                  0.5379701916252662\n",
      "Recall:                     0.7144203581526861\n"
     ]
    }
   ],
   "source": [
    "import sklearn.metrics as skm\n",
    "from sklearn.metrics import roc_auc_score\n",
    "\n",
    "#prediction\n",
    "y_pred = automl.predict(X_test)\n",
    "\n",
    "# prediction for the AUC-ROC-Score by only using the positive classes\n",
    "y_pred_proba = automl.predict_proba(X_test)[:, 1]\n",
    "\n",
    "\n",
    "print(\"RESULTS OF BEST MODEL:\\n\")\n",
    "\n",
    "print(f\"F1-Score:                   {skm.f1_score(y_test, y_pred)}\")\n",
    "print(f\"AUC-ROC Score:              {roc_auc_score(y_test, y_pred_proba)}\")\n",
    "print(f\"Accuracy:                   {skm.accuracy_score(y_test, y_pred)}\")\n",
    "print(f\"Precision:                  {skm.precision_score(y_test, y_pred)}\")\n",
    "print(f\"Recall:                     {skm.recall_score(y_test, y_pred)}\")"
   ]
  },
  {
   "cell_type": "code",
   "execution_count": 9,
   "id": "772c99f4-3d8d-4cf6-a444-67b2e7decad4",
   "metadata": {},
   "outputs": [
    {
     "name": "stdout",
     "output_type": "stream",
     "text": [
      "          rank  ensemble_weight                type      cost  duration  \\\n",
      "model_id                                                                  \n",
      "5001         1             0.04  passive_aggressive  0.125739  3.735940   \n",
      "3806         3             0.02  passive_aggressive  0.125826  3.688596   \n",
      "4777         2             0.02  passive_aggressive  0.125826  3.473560   \n",
      "4385         4             0.02  passive_aggressive  0.125826  3.591279   \n",
      "6741         5             0.02  passive_aggressive  0.125869  3.898672   \n",
      "6422         6             0.08  passive_aggressive  0.125912  4.126465   \n",
      "4648         7             0.02  passive_aggressive  0.125912  3.602268   \n",
      "4367         8             0.04  passive_aggressive  0.125955  3.566709   \n",
      "1709         9             0.02  passive_aggressive  0.125998  4.136239   \n",
      "4486        10             0.04  passive_aggressive  0.125998  3.452911   \n",
      "6287        11             0.02  passive_aggressive  0.125998  3.561875   \n",
      "3050        12             0.14  passive_aggressive  0.126041  4.656548   \n",
      "6025        13             0.02  passive_aggressive  0.126041  3.430308   \n",
      "1252        18             0.06  passive_aggressive  0.126085  4.022101   \n",
      "3685        14             0.04  passive_aggressive  0.126085  3.653575   \n",
      "5287        15             0.12  passive_aggressive  0.126085  4.456001   \n",
      "5988        16             0.10  passive_aggressive  0.126085  4.040983   \n",
      "6186        17             0.02  passive_aggressive  0.126085  3.412499   \n",
      "2817        19             0.16  passive_aggressive  0.126085  4.102356   \n",
      "\n",
      "          config_id  train_loss  seed    start_time      end_time  budget  \\\n",
      "model_id                                                                    \n",
      "5001           5000    0.127389     0  1.724672e+09  1.724672e+09    6.25   \n",
      "3806           3805    0.126962     0  1.724669e+09  1.724669e+09    6.25   \n",
      "4777           4776    0.127418     0  1.724671e+09  1.724671e+09    6.25   \n",
      "4385           4384    0.127346     0  1.724671e+09  1.724671e+09    6.25   \n",
      "6741           6740    0.127312     0  1.724677e+09  1.724677e+09    6.25   \n",
      "6422           6421    0.127332     0  1.724676e+09  1.724676e+09    6.25   \n",
      "4648           4647    0.127427     0  1.724671e+09  1.724671e+09    6.25   \n",
      "4367           4366    0.127427     0  1.724670e+09  1.724670e+09    6.25   \n",
      "1709           1708    0.126473     0  1.724666e+09  1.724666e+09    6.25   \n",
      "4486           4485    0.127403     0  1.724671e+09  1.724671e+09    6.25   \n",
      "6287           6286    0.127437     0  1.724676e+09  1.724676e+09    6.25   \n",
      "3050           3049    0.126483     0  1.724668e+09  1.724668e+09    6.25   \n",
      "6025           6024    0.127447     0  1.724675e+09  1.724675e+09    6.25   \n",
      "1252           1251    0.126531     0  1.724665e+09  1.724665e+09    6.25   \n",
      "3685           3684    0.127581     0  1.724669e+09  1.724669e+09    6.25   \n",
      "5287           5286    0.126483     0  1.724673e+09  1.724673e+09    6.25   \n",
      "5988           5987    0.126439     0  1.724675e+09  1.724675e+09    6.25   \n",
      "6186           6185    0.127399     0  1.724675e+09  1.724675e+09    6.25   \n",
      "2817           2816    0.126502     0  1.724667e+09  1.724667e+09    6.25   \n",
      "\n",
      "                           status data_preprocessors feature_preprocessors  \\\n",
      "model_id                                                                     \n",
      "5001      StatusType.DONOTADVANCE                 []    [no_preprocessing]   \n",
      "3806      StatusType.DONOTADVANCE                 []    [no_preprocessing]   \n",
      "4777      StatusType.DONOTADVANCE                 []    [no_preprocessing]   \n",
      "4385      StatusType.DONOTADVANCE                 []    [no_preprocessing]   \n",
      "6741      StatusType.DONOTADVANCE                 []    [no_preprocessing]   \n",
      "6422      StatusType.DONOTADVANCE                 []    [no_preprocessing]   \n",
      "4648      StatusType.DONOTADVANCE                 []    [no_preprocessing]   \n",
      "4367      StatusType.DONOTADVANCE                 []    [no_preprocessing]   \n",
      "1709      StatusType.DONOTADVANCE                 []    [no_preprocessing]   \n",
      "4486      StatusType.DONOTADVANCE                 []    [no_preprocessing]   \n",
      "6287      StatusType.DONOTADVANCE                 []    [no_preprocessing]   \n",
      "3050      StatusType.DONOTADVANCE                 []    [no_preprocessing]   \n",
      "6025      StatusType.DONOTADVANCE                 []    [no_preprocessing]   \n",
      "1252      StatusType.DONOTADVANCE                 []    [no_preprocessing]   \n",
      "3685      StatusType.DONOTADVANCE                 []    [no_preprocessing]   \n",
      "5287      StatusType.DONOTADVANCE                 []    [no_preprocessing]   \n",
      "5988      StatusType.DONOTADVANCE                 []    [no_preprocessing]   \n",
      "6186      StatusType.DONOTADVANCE                 []    [no_preprocessing]   \n",
      "2817      StatusType.DONOTADVANCE                 []    [no_preprocessing]   \n",
      "\n",
      "         balancing_strategy  config_origin  \n",
      "model_id                                    \n",
      "5001                   none   Local Search  \n",
      "3806                   none   Local Search  \n",
      "4777                   none   Local Search  \n",
      "4385                   none   Local Search  \n",
      "6741                   none   Local Search  \n",
      "6422                   none   Local Search  \n",
      "4648                   none   Local Search  \n",
      "4367                   none   Local Search  \n",
      "1709              weighting  Random Search  \n",
      "4486                   none   Local Search  \n",
      "6287                   none   Local Search  \n",
      "3050              weighting   Local Search  \n",
      "6025                   none   Local Search  \n",
      "1252                   none   Local Search  \n",
      "3685                   none   Local Search  \n",
      "5287              weighting   Local Search  \n",
      "5988              weighting   Local Search  \n",
      "6186                   none   Local Search  \n",
      "2817              weighting   Local Search  \n"
     ]
    },
    {
     "data": {
      "text/html": [
       "<a href='autosklearn_classification_leaderboard_preprocessed.csv' target='_blank'>autosklearn_classification_leaderboard_preprocessed.csv</a><br>"
      ],
      "text/plain": [
       "/opt/nb/autosklearn_classification_leaderboard_preprocessed.csv"
      ]
     },
     "execution_count": 9,
     "metadata": {},
     "output_type": "execute_result"
    }
   ],
   "source": [
    "from IPython.display import FileLink\n",
    "#leaderboard to df\n",
    "leaderboard_df_prepro = automl.leaderboard(detailed=True)\n",
    "leaderboard_df_prepro = pd.DataFrame(leaderboard_df_prepro)\n",
    "\n",
    "print(leaderboard_df_prepro)\n",
    "\n",
    "# download leaderboard\n",
    "leaderboard_df_prepro.to_csv('autosklearn_classification_leaderboard_preprocessed.csv', index=False)\n",
    "FileLink('autosklearn_classification_leaderboard_preprocessed.csv')"
   ]
  },
  {
   "cell_type": "code",
   "execution_count": 10,
   "id": "26133409-825b-4b77-b37f-6a37e3a106f5",
   "metadata": {},
   "outputs": [
    {
     "name": "stdout",
     "output_type": "stream",
     "text": [
      "          Metric     Value\n",
      "0       F1-Score  0.613765\n",
      "1  AUC-ROC Score  0.872213\n",
      "2       Accuracy  0.824147\n",
      "3      Precision  0.537970\n",
      "4         Recall  0.714420\n"
     ]
    },
    {
     "data": {
      "text/html": [
       "<a href='autosklearn_classification_metrics_preprocessed.csv' target='_blank'>autosklearn_classification_metrics_preprocessed.csv</a><br>"
      ],
      "text/plain": [
       "/opt/nb/autosklearn_classification_metrics_preprocessed.csv"
      ]
     },
     "execution_count": 10,
     "metadata": {},
     "output_type": "execute_result"
    }
   ],
   "source": [
    "\n",
    "\n",
    "automl.leaderboard()# output of values to dictionary\n",
    "metrics_dict = {\n",
    "    'Metric': [\n",
    "        'F1-Score',\n",
    "        'AUC-ROC Score',\n",
    "        'Accuracy',\n",
    "        'Precision',\n",
    "        'Recall',\n",
    "    ],\n",
    "    'Value': [\n",
    "        skm.f1_score(y_test, y_pred),\n",
    "        roc_auc_score(y_test, y_pred_proba),\n",
    "        skm.accuracy_score(y_test, y_pred),\n",
    "        skm.precision_score(y_test, y_pred),\n",
    "        skm.recall_score(y_test, y_pred)\n",
    "    ]\n",
    "}\n",
    "\n",
    "#to df\n",
    "metrics_df_prepro = pd.DataFrame(metrics_dict)\n",
    "\n",
    "\n",
    "print(metrics_df_prepro)\n",
    "\n",
    "metrics_df_prepro.to_csv('autosklearn_classification_metrics_preprocessed.csv', index=False)\n",
    "FileLink('autosklearn_classification_metrics_preprocessed.csv')\n"
   ]
  },
  {
   "cell_type": "code",
   "execution_count": 11,
   "id": "02d60426-246f-4a8f-808d-ee1cb5fc6916",
   "metadata": {},
   "outputs": [],
   "source": [
    "import matplotlib.pyplot as plt\n",
    "import seaborn as sns\n",
    "from sklearn.metrics import roc_curve, auc"
   ]
  },
  {
   "cell_type": "code",
   "execution_count": 12,
   "id": "17b9aecd-3ac5-4e0d-ae4c-97e51411853d",
   "metadata": {},
   "outputs": [
    {
     "data": {
      "image/png": "[encoded data removed]",
      "text/plain": [
       "<Figure size 1000x600 with 1 Axes>"
      ]
     },
     "metadata": {},
     "output_type": "display_data"
    }
   ],
   "source": [
    "import sklearn.metrics as skm\n",
    "from sklearn.metrics import roc_curve, auc, roc_auc_score\n",
    "\n",
    "y_pred = automl.predict(X_test)\n",
    "\n",
    "# Predicting the probabilities for the positive class\n",
    "y_pred_proba = automl.predict_proba(X_test)[:, 1]\n",
    "\n",
    "# Calculating ROC curve\n",
    "fpr, tpr, thresholds = roc_curve(y_test, y_pred_proba)\n",
    "roc_auc = auc(fpr, tpr)\n",
    "\n",
    "# Plotting the ROC curve using Matplotlib with Seaborn styling\n",
    "plt.figure(figsize=(10, 6))\n",
    "plt.plot(fpr, tpr, label=f'ROC curve (area = {roc_auc:.2f})', lw=2)\n",
    "plt.plot([0, 1], [0, 1], 'k--', label='Chance', lw=2)  # Diagonal line for random guessing\n",
    "plt.xlim([0.0, 1.0])\n",
    "plt.ylim([0.0, 1.05])\n",
    "plt.xlabel('False Positive Rate')\n",
    "plt.ylabel('True Positive Rate')\n",
    "plt.title('Receiver Operating Characteristic (ROC) Auto-sklearn 2.0 Classification Preprocessed')\n",
    "plt.legend(loc=\"lower right\")\n",
    "\n",
    "# Save the plot as a PNG file\n",
    "plt.savefig('autosklearn_roc_curve_preprocessed.png', dpi=300)\n",
    "plt.show()"
   ]
  },
  {
   "cell_type": "code",
   "execution_count": null,
   "id": "5eba973a-a493-41e3-9a7a-57ea26022c89",
   "metadata": {},
   "outputs": [],
   "source": []
  }
 ],
 "metadata": {
  "kernelspec": {
   "display_name": "Python 3 (ipykernel)",
   "language": "python",
   "name": "python3"
  },
  "language_info": {
   "codemirror_mode": {
    "name": "ipython",
    "version": 3
   },
   "file_extension": ".py",
   "mimetype": "text/x-python",
   "name": "python",
   "nbconvert_exporter": "python",
   "pygments_lexer": "ipython3",
   "version": "3.8.10"
  }
 },
 "nbformat": 4,
 "nbformat_minor": 5
}
