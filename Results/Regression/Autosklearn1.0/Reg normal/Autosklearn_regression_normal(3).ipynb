{
 "cells": [
  {
   "cell_type": "code",
   "execution_count": 2,
   "id": "1d78199f-652d-4e7c-b667-fd4ff088d506",
   "metadata": {},
   "outputs": [],
   "source": [
    "import autosklearn "
   ]
  },
  {
   "cell_type": "code",
   "execution_count": 3,
   "id": "8b669752-8906-4ddd-a111-27d3db228099",
   "metadata": {},
   "outputs": [],
   "source": [
    "import autosklearn.regression\n",
    "import pandas as pd\n",
    "from sklearn.model_selection import train_test_split\n",
    "from sklearn.preprocessing import OneHotEncoder\n",
    "from sklearn.compose import ColumnTransformer\n",
    "import numpy as np"
   ]
  },
  {
   "cell_type": "code",
   "execution_count": 4,
   "id": "c1ab67af-e113-4170-9db1-68e18814ae3b",
   "metadata": {},
   "outputs": [],
   "source": [
    "# Load the dataset\n",
    "df = pd.read_csv(\"combined_regression_normal.csv\") ##dataset without scraping_time and Ad_time, leads to error\n",
    "\n",
    "df = df.dropna(subset=['Price'])  # Remove rows with missing prices\n",
    "\n",
    "# Separate features and target\n",
    "X = df.drop(['Price'], axis=1)\n",
    "y = df['Price']\n",
    "\n",
    "# One-Hot Encode categorical variables\n",
    "categorical_cols = X.select_dtypes(include=['object']).columns\n",
    "preprocessor = ColumnTransformer(\n",
    "    transformers=[\n",
    "        ('cat', OneHotEncoder(), categorical_cols)],\n",
    "    remainder='passthrough')\n",
    "\n",
    "X = preprocessor.fit_transform(X)\n",
    "\n",
    "\n",
    "# Split the data into training and testing sets\n",
    "X_train, X_test, y_train, y_test = train_test_split(X, y, test_size=0.25)\n",
    "\n",
    "# Initialize and train the AutoSklearnRegressor\n",
    "#max time here 4h\n",
    "\n",
    "automl_regressor = autosklearn.regression.AutoSklearnRegressor(\n",
    "        time_left_for_this_task= 14400,\n",
    "    per_run_time_limit= 600,\n",
    "    n_jobs = 8, \n",
    "    memory_limit=8192  \n",
    ")"
   ]
  },
  {
   "cell_type": "code",
   "execution_count": 5,
   "id": "0cb967c0-a2b4-4bc2-9bd5-3b7781bf8bf8",
   "metadata": {},
   "outputs": [
    {
     "name": "stdout",
     "output_type": "stream",
     "text": [
      "[WARNING] [2024-08-25 12:28:11,327:Client-AutoMLSMBO(1)::housing_prices] Configuration 26 not found\n",
      "[WARNING] [2024-08-25 12:28:11,327:Client-AutoMLSMBO(1)::housing_prices] Configuration 240 not found\n",
      "[WARNING] [2024-08-25 12:28:11,327:Client-AutoMLSMBO(1)::housing_prices] Configuration 23 not found\n",
      "[WARNING] [2024-08-25 12:28:11,327:Client-AutoMLSMBO(1)::housing_prices] Configuration 115 not found\n",
      "[WARNING] [2024-08-25 12:28:11,327:Client-AutoMLSMBO(1)::housing_prices] Configuration 245 not found\n",
      "[WARNING] [2024-08-25 12:28:11,327:Client-AutoMLSMBO(1)::housing_prices] Configuration 282 not found\n",
      "[WARNING] [2024-08-25 12:28:11,327:Client-AutoMLSMBO(1)::housing_prices] Configuration 225 not found\n",
      "[WARNING] [2024-08-25 12:28:11,327:Client-AutoMLSMBO(1)::housing_prices] Configuration 197 not found\n",
      "[WARNING] [2024-08-25 12:28:11,331:Client-AutoMLSMBO(1)::housing_prices] Configuration 79 not found\n",
      "[WARNING] [2024-08-25 12:28:11,331:Client-AutoMLSMBO(1)::housing_prices] Configuration 257 not found\n",
      "[WARNING] [2024-08-25 12:28:11,331:Client-AutoMLSMBO(1)::housing_prices] Configuration 86 not found\n",
      "[WARNING] [2024-08-25 12:28:11,331:Client-AutoMLSMBO(1)::housing_prices] Configuration 163 not found\n",
      "[WARNING] [2024-08-25 12:28:11,331:Client-AutoMLSMBO(1)::housing_prices] Configuration 235 not found\n",
      "[WARNING] [2024-08-25 12:28:11,331:Client-AutoMLSMBO(1)::housing_prices] Configuration 262 not found\n",
      "[WARNING] [2024-08-25 12:28:11,331:Client-AutoMLSMBO(1)::housing_prices] Configuration 270 not found\n",
      "[WARNING] [2024-08-25 12:28:11,331:Client-AutoMLSMBO(1)::housing_prices] Configuration 138 not found\n",
      "[WARNING] [2024-08-25 12:28:11,331:Client-AutoMLSMBO(1)::housing_prices] Configuration 237 not found\n",
      "[WARNING] [2024-08-25 12:28:11,331:Client-AutoMLSMBO(1)::housing_prices] Configuration 95 not found\n",
      "[WARNING] [2024-08-25 12:28:11,331:Client-AutoMLSMBO(1)::housing_prices] Configuration 98 not found\n",
      "[WARNING] [2024-08-25 12:28:11,331:Client-AutoMLSMBO(1)::housing_prices] Configuration 150 not found\n",
      "[WARNING] [2024-08-25 12:28:11,331:Client-AutoMLSMBO(1)::housing_prices] Configuration 171 not found\n",
      "[WARNING] [2024-08-25 12:28:11,331:Client-AutoMLSMBO(1)::housing_prices] Configuration 73 not found\n",
      "[WARNING] [2024-08-25 12:28:11,331:Client-AutoMLSMBO(1)::housing_prices] Configuration 54 not found\n",
      "[WARNING] [2024-08-25 12:28:11,331:Client-AutoMLSMBO(1)::housing_prices] Configuration 6 not found\n",
      "[WARNING] [2024-08-25 12:28:11,331:Client-AutoMLSMBO(1)::housing_prices] Configuration 34 not found\n",
      "[WARNING] [2024-08-25 12:28:11,331:Client-AutoMLSMBO(1)::housing_prices] Configuration 77 not found\n",
      "[WARNING] [2024-08-25 12:28:11,331:Client-AutoMLSMBO(1)::housing_prices] Configuration 67 not found\n",
      "[WARNING] [2024-08-25 12:28:11,331:Client-AutoMLSMBO(1)::housing_prices] Configuration 17 not found\n",
      "[WARNING] [2024-08-25 12:28:11,331:Client-AutoMLSMBO(1)::housing_prices] Configuration 57 not found\n",
      "[WARNING] [2024-08-25 12:28:11,331:Client-AutoMLSMBO(1)::housing_prices] Configuration 199 not found\n",
      "[WARNING] [2024-08-25 12:28:11,331:Client-AutoMLSMBO(1)::housing_prices] Configuration 174 not found\n",
      "[WARNING] [2024-08-25 12:28:11,331:Client-AutoMLSMBO(1)::housing_prices] Configuration 10 not found\n",
      "[WARNING] [2024-08-25 12:28:11,331:Client-AutoMLSMBO(1)::housing_prices] Configuration 140 not found\n",
      "[WARNING] [2024-08-25 12:28:11,332:Client-AutoMLSMBO(1)::housing_prices] Configuration 258 not found\n",
      "[WARNING] [2024-08-25 12:28:11,332:Client-AutoMLSMBO(1)::housing_prices] Configuration 268 not found\n",
      "[WARNING] [2024-08-25 12:28:11,332:Client-AutoMLSMBO(1)::housing_prices] Configuration 132 not found\n",
      "[WARNING] [2024-08-25 12:28:11,332:Client-AutoMLSMBO(1)::housing_prices] Configuration 232 not found\n",
      "[WARNING] [2024-08-25 12:28:11,332:Client-AutoMLSMBO(1)::housing_prices] Configuration 158 not found\n",
      "[WARNING] [2024-08-25 12:28:11,332:Client-AutoMLSMBO(1)::housing_prices] Configuration 89 not found\n",
      "[WARNING] [2024-08-25 12:28:11,332:Client-AutoMLSMBO(1)::housing_prices] Configuration 107 not found\n",
      "[WARNING] [2024-08-25 12:28:11,332:Client-AutoMLSMBO(1)::housing_prices] Configuration 2 not found\n",
      "[WARNING] [2024-08-25 12:28:11,332:Client-AutoMLSMBO(1)::housing_prices] Configuration 184 not found\n",
      "[WARNING] [2024-08-25 12:28:11,332:Client-AutoMLSMBO(1)::housing_prices] Configuration 124 not found\n",
      "[WARNING] [2024-08-25 12:28:11,332:Client-AutoMLSMBO(1)::housing_prices] Configuration 102 not found\n",
      "[WARNING] [2024-08-25 12:28:11,332:Client-AutoMLSMBO(1)::housing_prices] Configuration 186 not found\n",
      "[WARNING] [2024-08-25 12:28:11,332:Client-AutoMLSMBO(1)::housing_prices] Configuration 126 not found\n",
      "[WARNING] [2024-08-25 12:28:11,332:Client-AutoMLSMBO(1)::housing_prices] Configuration 266 not found\n",
      "[WARNING] [2024-08-25 12:28:11,332:Client-AutoMLSMBO(1)::housing_prices] Configuration 207 not found\n",
      "[WARNING] [2024-08-25 12:28:11,332:Client-AutoMLSMBO(1)::housing_prices] Configuration 247 not found\n",
      "[WARNING] [2024-08-25 12:28:11,332:Client-AutoMLSMBO(1)::housing_prices] Configuration 156 not found\n",
      "[WARNING] [2024-08-25 12:28:11,332:Client-AutoMLSMBO(1)::housing_prices] Configuration 31 not found\n",
      "[WARNING] [2024-08-25 12:28:11,332:Client-AutoMLSMBO(1)::housing_prices] Configuration 191 not found\n",
      "[WARNING] [2024-08-25 12:28:11,332:Client-AutoMLSMBO(1)::housing_prices] Configuration 276 not found\n",
      "[WARNING] [2024-08-25 12:28:11,332:Client-AutoMLSMBO(1)::housing_prices] Configuration 40 not found\n",
      "[WARNING] [2024-08-25 12:28:11,332:Client-AutoMLSMBO(1)::housing_prices] Configuration 182 not found\n",
      "[WARNING] [2024-08-25 12:28:11,332:Client-AutoMLSMBO(1)::housing_prices] Configuration 63 not found\n",
      "[WARNING] [2024-08-25 12:28:11,333:Client-AutoMLSMBO(1)::housing_prices] Configuration 201 not found\n",
      "[WARNING] [2024-08-25 12:28:11,333:Client-AutoMLSMBO(1)::housing_prices] Configuration 211 not found\n",
      "[WARNING] [2024-08-25 12:28:11,333:Client-AutoMLSMBO(1)::housing_prices] Configuration 274 not found\n",
      "[WARNING] [2024-08-25 12:28:11,333:Client-AutoMLSMBO(1)::housing_prices] Configuration 105 not found\n",
      "[WARNING] [2024-08-25 12:28:11,333:Client-AutoMLSMBO(1)::housing_prices] Configuration 160 not found\n",
      "[WARNING] [2024-08-25 12:28:11,333:Client-AutoMLSMBO(1)::housing_prices] Configuration 285 not found\n",
      "[WARNING] [2024-08-25 12:28:11,333:Client-AutoMLSMBO(1)::housing_prices] Configuration 193 not found\n",
      "[WARNING] [2024-08-25 12:28:11,333:Client-AutoMLSMBO(1)::housing_prices] Configuration 252 not found\n",
      "[WARNING] [2024-08-25 12:28:11,333:Client-AutoMLSMBO(1)::housing_prices] Configuration 101 not found\n",
      "[WARNING] [2024-08-25 12:28:11,333:Client-AutoMLSMBO(1)::housing_prices] Configuration 128 not found\n",
      "[WARNING] [2024-08-25 12:28:11,333:Client-AutoMLSMBO(1)::housing_prices] Configuration 251 not found\n",
      "[WARNING] [2024-08-25 12:28:11,333:Client-AutoMLSMBO(1)::housing_prices] Configuration 50 not found\n",
      "[WARNING] [2024-08-25 12:28:11,333:Client-AutoMLSMBO(1)::housing_prices] Configuration 136 not found\n",
      "[WARNING] [2024-08-25 12:28:11,333:Client-AutoMLSMBO(1)::housing_prices] Configuration 148 not found\n",
      "[WARNING] [2024-08-25 12:28:11,333:Client-AutoMLSMBO(1)::housing_prices] Configuration 153 not found\n",
      "[WARNING] [2024-08-25 12:28:11,333:Client-AutoMLSMBO(1)::housing_prices] Configuration 228 not found\n",
      "[WARNING] [2024-08-25 12:28:11,333:Client-AutoMLSMBO(1)::housing_prices] Configuration 110 not found\n"
     ]
    },
    {
     "data": {
      "text/html": [
       "<style>#sk-container-id-1 {color: black;}#sk-container-id-1 pre{padding: 0;}#sk-container-id-1 div.sk-toggleable {background-color: white;}#sk-container-id-1 label.sk-toggleable__label {cursor: pointer;display: block;width: 100%;margin-bottom: 0;padding: 0.3em;box-sizing: border-box;text-align: center;}#sk-container-id-1 label.sk-toggleable__label-arrow:before {content: \"▸\";float: left;margin-right: 0.25em;color: #696969;}#sk-container-id-1 label.sk-toggleable__label-arrow:hover:before {color: black;}#sk-container-id-1 div.sk-estimator:hover label.sk-toggleable__label-arrow:before {color: black;}#sk-container-id-1 div.sk-toggleable__content {max-height: 0;max-width: 0;overflow: hidden;text-align: left;background-color: #f0f8ff;}#sk-container-id-1 div.sk-toggleable__content pre {margin: 0.2em;color: black;border-radius: 0.25em;background-color: #f0f8ff;}#sk-container-id-1 input.sk-toggleable__control:checked~div.sk-toggleable__content {max-height: 200px;max-width: 100%;overflow: auto;}#sk-container-id-1 input.sk-toggleable__control:checked~label.sk-toggleable__label-arrow:before {content: \"▾\";}#sk-container-id-1 div.sk-estimator input.sk-toggleable__control:checked~label.sk-toggleable__label {background-color: #d4ebff;}#sk-container-id-1 div.sk-label input.sk-toggleable__control:checked~label.sk-toggleable__label {background-color: #d4ebff;}#sk-container-id-1 input.sk-hidden--visually {border: 0;clip: rect(1px 1px 1px 1px);clip: rect(1px, 1px, 1px, 1px);height: 1px;margin: -1px;overflow: hidden;padding: 0;position: absolute;width: 1px;}#sk-container-id-1 div.sk-estimator {font-family: monospace;background-color: #f0f8ff;border: 1px dotted black;border-radius: 0.25em;box-sizing: border-box;margin-bottom: 0.5em;}#sk-container-id-1 div.sk-estimator:hover {background-color: #d4ebff;}#sk-container-id-1 div.sk-parallel-item::after {content: \"\";width: 100%;border-bottom: 1px solid gray;flex-grow: 1;}#sk-container-id-1 div.sk-label:hover label.sk-toggleable__label {background-color: #d4ebff;}#sk-container-id-1 div.sk-serial::before {content: \"\";position: absolute;border-left: 1px solid gray;box-sizing: border-box;top: 0;bottom: 0;left: 50%;z-index: 0;}#sk-container-id-1 div.sk-serial {display: flex;flex-direction: column;align-items: center;background-color: white;padding-right: 0.2em;padding-left: 0.2em;position: relative;}#sk-container-id-1 div.sk-item {position: relative;z-index: 1;}#sk-container-id-1 div.sk-parallel {display: flex;align-items: stretch;justify-content: center;background-color: white;position: relative;}#sk-container-id-1 div.sk-item::before, #sk-container-id-1 div.sk-parallel-item::before {content: \"\";position: absolute;border-left: 1px solid gray;box-sizing: border-box;top: 0;bottom: 0;left: 50%;z-index: -1;}#sk-container-id-1 div.sk-parallel-item {display: flex;flex-direction: column;z-index: 1;position: relative;background-color: white;}#sk-container-id-1 div.sk-parallel-item:first-child::after {align-self: flex-end;width: 50%;}#sk-container-id-1 div.sk-parallel-item:last-child::after {align-self: flex-start;width: 50%;}#sk-container-id-1 div.sk-parallel-item:only-child::after {width: 0;}#sk-container-id-1 div.sk-dashed-wrapped {border: 1px dashed gray;margin: 0 0.4em 0.5em 0.4em;box-sizing: border-box;padding-bottom: 0.4em;background-color: white;}#sk-container-id-1 div.sk-label label {font-family: monospace;font-weight: bold;display: inline-block;line-height: 1.2em;}#sk-container-id-1 div.sk-label-container {text-align: center;}#sk-container-id-1 div.sk-container {/* jupyter's `normalize.less` sets `[hidden] { display: none; }` but bootstrap.min.css set `[hidden] { display: none !important; }` so we also need the `!important` here to be able to override the default hidden behavior on the sphinx rendered scikit-learn.org. See: https://github.com/scikit-learn/scikit-learn/issues/21755 */display: inline-block !important;position: relative;}#sk-container-id-1 div.sk-text-repr-fallback {display: none;}</style><div id=\"sk-container-id-1\" class=\"sk-top-container\"><div class=\"sk-text-repr-fallback\"><pre>AutoSklearnRegressor(ensemble_class=&lt;class &#x27;autosklearn.ensembles.ensemble_selection.EnsembleSelection&#x27;&gt;,\n",
       "                     memory_limit=8192, n_jobs=8, per_run_time_limit=600,\n",
       "                     time_left_for_this_task=14400)</pre><b>In a Jupyter environment, please rerun this cell to show the HTML representation or trust the notebook. <br />On GitHub, the HTML representation is unable to render, please try loading this page with nbviewer.org.</b></div><div class=\"sk-container\" hidden><div class=\"sk-item\"><div class=\"sk-estimator sk-toggleable\"><input class=\"sk-toggleable__control sk-hidden--visually\" id=\"sk-estimator-id-1\" type=\"checkbox\" checked><label for=\"sk-estimator-id-1\" class=\"sk-toggleable__label sk-toggleable__label-arrow\">AutoSklearnRegressor</label><div class=\"sk-toggleable__content\"><pre>AutoSklearnRegressor(ensemble_class=&lt;class &#x27;autosklearn.ensembles.ensemble_selection.EnsembleSelection&#x27;&gt;,\n",
       "                     memory_limit=8192, n_jobs=8, per_run_time_limit=600,\n",
       "                     time_left_for_this_task=14400)</pre></div></div></div></div></div>"
      ],
      "text/plain": [
       "AutoSklearnRegressor(ensemble_class=<class 'autosklearn.ensembles.ensemble_selection.EnsembleSelection'>,\n",
       "                     memory_limit=8192, n_jobs=8, per_run_time_limit=600,\n",
       "                     time_left_for_this_task=14400)"
      ]
     },
     "execution_count": 5,
     "metadata": {},
     "output_type": "execute_result"
    }
   ],
   "source": [
    "automl_regressor.fit(X_train, y_train, dataset_name=\"housing_prices\")\n"
   ]
  },
  {
   "cell_type": "code",
   "execution_count": 6,
   "id": "5df52f39-cfb7-4676-bfe6-cbf0f6d8c5fa",
   "metadata": {},
   "outputs": [
    {
     "name": "stdout",
     "output_type": "stream",
     "text": [
      "          rank  ensemble_weight         type      cost    duration\n",
      "model_id                                                          \n",
      "663          1             0.32  extra_trees  0.492763  244.025619\n",
      "575          2             0.22  extra_trees  0.495521  597.142307\n",
      "551          3             0.46  extra_trees  0.498173  531.738704\n"
     ]
    }
   ],
   "source": [
    "print(automl_regressor.leaderboard())"
   ]
  },
  {
   "cell_type": "code",
   "execution_count": 7,
   "id": "df396afd-4849-439b-89d2-5c8012e8e823",
   "metadata": {},
   "outputs": [
    {
     "name": "stdout",
     "output_type": "stream",
     "text": [
      "R2:                         0.46597024945984333\n",
      "Mean Squared Error:         2656487008210.888\n",
      "Root Mean Squared Error:    1629873.310478728\n",
      "Mean Absolute Error:        795152.1126189835\n",
      "Explained Variance:         0.46900142075510176\n",
      "Max Error:                  48862843.03125\n",
      "Median Absolute Error       366032.9921875\n"
     ]
    }
   ],
   "source": [
    "import sklearn.metrics as skm\n",
    "\n",
    "\n",
    "y_pred = automl_regressor.predict(X_test)\n",
    "\n",
    "print(f\"R2:                         {skm.r2_score(y_test, y_pred)}\")\n",
    "print(f\"Mean Squared Error:         {skm.mean_squared_error(y_test, y_pred)}\")\n",
    "print(f\"Root Mean Squared Error:    {skm.mean_squared_error(y_test, y_pred, squared=False)}\")\n",
    "print(f\"Mean Absolute Error:        {skm.mean_absolute_error(y_test, y_pred)}\")\n",
    "print(f\"Explained Variance:         {skm.explained_variance_score(y_test, y_pred)}\")\n",
    "print(f\"Max Error:                  {skm.max_error(y_test, y_pred)}\")\n",
    "print(f\"Median Absolute Error       {skm.median_absolute_error(y_test, y_pred)}\")"
   ]
  },
  {
   "cell_type": "code",
   "execution_count": 8,
   "id": "df42ed7b-5ee4-4001-bac3-232b035e4cd1",
   "metadata": {},
   "outputs": [
    {
     "name": "stdout",
     "output_type": "stream",
     "text": [
      "          rank  ensemble_weight         type      cost    duration  config_id  \\\n",
      "model_id                                                                        \n",
      "663          1             0.32  extra_trees  0.492763  244.025619        662   \n",
      "575          2             0.22  extra_trees  0.495521  597.142307        574   \n",
      "551          3             0.46  extra_trees  0.498173  531.738704        550   \n",
      "\n",
      "          train_loss  seed    start_time      end_time  budget  \\\n",
      "model_id                                                         \n",
      "663         0.076552     0  1.724603e+09  1.724603e+09     0.0   \n",
      "575         0.061555     0  1.724599e+09  1.724599e+09     0.0   \n",
      "551         0.081645     0  1.724598e+09  1.724598e+09     0.0   \n",
      "\n",
      "                      status data_preprocessors feature_preprocessors  \\\n",
      "model_id                                                                \n",
      "663       StatusType.SUCCESS                 []          [polynomial]   \n",
      "575       StatusType.SUCCESS                 []          [polynomial]   \n",
      "551       StatusType.SUCCESS                 []          [polynomial]   \n",
      "\n",
      "         balancing_strategy config_origin  \n",
      "model_id                                   \n",
      "663                    None  Local Search  \n",
      "575                    None  Local Search  \n",
      "551                    None  Local Search  \n"
     ]
    },
    {
     "data": {
      "text/html": [
       "<a href='autosklearn_regression_leaderboard_normal.csv' target='_blank'>autosklearn_regression_leaderboard_normal.csv</a><br>"
      ],
      "text/plain": [
       "/opt/nb/autosklearn_regression_leaderboard_normal.csv"
      ]
     },
     "execution_count": 8,
     "metadata": {},
     "output_type": "execute_result"
    }
   ],
   "source": [
    "#leaderboard to df\n",
    "leaderboard_df_normal_reg = automl_regressor.leaderboard(detailed=True)\n",
    "leaderboard_df_normal_reg = pd.DataFrame(leaderboard_df_normal_reg)\n",
    "\n",
    "print(leaderboard_df_normal_reg)\n",
    "\n",
    "# download leaderboard\n",
    "from IPython.display import FileLink\n",
    "leaderboard_df_normal_reg.to_csv('autosklearn_regression_leaderboard_normal.csv', index=False)\n",
    "FileLink('autosklearn_regression_leaderboard_normal.csv')"
   ]
  },
  {
   "cell_type": "code",
   "execution_count": 9,
   "id": "5a7c4068-5195-46f3-b4bd-9f2b03eed81f",
   "metadata": {},
   "outputs": [
    {
     "name": "stdout",
     "output_type": "stream",
     "text": [
      "                    Metric         Value\n",
      "0                       R2  4.659702e-01\n",
      "1       Mean Squared Error  2.656487e+12\n",
      "2  Root Mean Squared Error  1.629873e+06\n",
      "3      Mean Absolute Error  7.951521e+05\n",
      "4       Explained Variance  4.690014e-01\n",
      "5                Max Error  4.886284e+07\n",
      "6    Median Absolute Error  3.660330e+05\n"
     ]
    }
   ],
   "source": [
    "metrics_dict = {\n",
    "    'Metric': [\n",
    "        'R2',\n",
    "        'Mean Squared Error',\n",
    "        'Root Mean Squared Error',\n",
    "        'Mean Absolute Error',\n",
    "        'Explained Variance',\n",
    "        'Max Error',\n",
    "        'Median Absolute Error'\n",
    "    ],\n",
    "    'Value': [\n",
    "        skm.r2_score(y_test, y_pred),\n",
    "        skm.mean_squared_error(y_test, y_pred),\n",
    "        skm.mean_squared_error(y_test, y_pred, squared=False),\n",
    "        skm.mean_absolute_error(y_test, y_pred),\n",
    "        skm.explained_variance_score(y_test, y_pred),\n",
    "        skm.max_error(y_test, y_pred),\n",
    "        skm.median_absolute_error(y_test, y_pred)\n",
    "    ]\n",
    "}\n",
    "\n",
    "#to df\n",
    "metrics_df_normal_reg = pd.DataFrame(metrics_dict)\n",
    "\n",
    "\n",
    "print(metrics_df_normal_reg)\n",
    "\n",
    "metrics_df_normal_reg.to_csv('autosklearn_regression_metrics_normal.csv', index=False)"
   ]
  },
  {
   "cell_type": "code",
   "execution_count": 10,
   "id": "9f8cf64d-6d56-4826-bd2e-8757bf697789",
   "metadata": {},
   "outputs": [
    {
     "data": {
      "text/html": [
       "<a href='autosklearn_regression_metrics_normal.csv' target='_blank'>autosklearn_regression_metrics_normal.csv</a><br>"
      ],
      "text/plain": [
       "/opt/nb/autosklearn_regression_metrics_normal.csv"
      ]
     },
     "execution_count": 10,
     "metadata": {},
     "output_type": "execute_result"
    }
   ],
   "source": [
    "from IPython.display import FileLink\n",
    "FileLink('autosklearn_regression_metrics_normal.csv')"
   ]
  },
  {
   "cell_type": "code",
   "execution_count": null,
   "id": "7ec71074-d7c7-49c7-8c9b-ae854e8404fd",
   "metadata": {},
   "outputs": [],
   "source": []
  }
 ],
 "metadata": {
  "kernelspec": {
   "display_name": "Python 3 (ipykernel)",
   "language": "python",
   "name": "python3"
  },
  "language_info": {
   "codemirror_mode": {
    "name": "ipython",
    "version": 3
   },
   "file_extension": ".py",
   "mimetype": "text/x-python",
   "name": "python",
   "nbconvert_exporter": "python",
   "pygments_lexer": "ipython3",
   "version": "3.8.10"
  }
 },
 "nbformat": 4,
 "nbformat_minor": 5
}
