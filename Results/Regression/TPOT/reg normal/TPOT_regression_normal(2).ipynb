{
 "cells": [
  {
   "cell_type": "code",
   "execution_count": 2,
   "id": "cb8d0b06-e00e-4ae4-9250-2123ee0bc8f0",
   "metadata": {},
   "outputs": [
    {
     "name": "stderr",
     "output_type": "stream",
     "text": [
      "/home/bogdb/src/pdm-tpot/.venv/lib/python3.9/site-packages/tpot/builtins/__init__.py:36: UserWarning: Warning: optional dependency `torch` is not available. - skipping import of NN models.\n",
      "  warnings.warn(\"Warning: optional dependency `torch` is not available. - skipping import of NN models.\")\n"
     ]
    }
   ],
   "source": [
    "import tpot\n"
   ]
  },
  {
   "cell_type": "code",
   "execution_count": 4,
   "id": "d2ad139f-4e6b-4e2c-8bae-e0a771e2a269",
   "metadata": {},
   "outputs": [],
   "source": [
    "import pandas as pd\n",
    "import numpy as np\n",
    "from tpot import TPOTRegressor\n",
    "from sklearn.model_selection import train_test_split\n",
    "from sklearn.preprocessing import OneHotEncoder\n",
    "from sklearn.compose import ColumnTransformer\n",
    "\n",
    "\n",
    "# Load the dataset\n",
    "df = pd.read_csv(\"combined_regression_normal.csv\") ##dataset without scraping_time and ad_time, leads to error\n",
    "\n",
    "df = df.dropna(subset=['Price'])  # Remove rows with missing prices\n",
    "\n",
    "# Separate features and target\n",
    "X = df.drop(['Price'], axis=1)\n",
    "y = df['Price']\n",
    "\n",
    "# One-Hot Encode categorical variables\n",
    "categorical_cols = X.select_dtypes(include=['object']).columns\n",
    "preprocessor = ColumnTransformer(\n",
    "    transformers=[\n",
    "        ('cat', OneHotEncoder(), categorical_cols)],\n",
    "    remainder='passthrough')\n",
    "\n",
    "X = preprocessor.fit_transform(X)\n",
    "\n",
    "# Split the data into training and testing sets\n",
    "X_train, X_test, y_train, y_test = train_test_split(X, y, random_state=1)"
   ]
  },
  {
   "cell_type": "code",
   "execution_count": 14,
   "id": "bb7f240b-0de0-432b-a11b-c128bdb45038",
   "metadata": {},
   "outputs": [],
   "source": [
    "# initializing tpot with parameters\n",
    "#max_time_mins=None (per default) - here max time 4h\n",
    "#config_dic due to one hot encoding\n",
    "tpot = TPOTRegressor(generations=5, population_size=50,\n",
    "                     cv=5, config_dict='TPOT sparse', verbosity=2, n_jobs=16, max_time_mins=240,\n",
    "                     periodic_checkpoint_folder='/content/results')"
   ]
  },
  {
   "cell_type": "code",
   "execution_count": 15,
   "id": "3992cc2d-b28a-4b83-bec2-d623629f1ef8",
   "metadata": {},
   "outputs": [
    {
     "name": "stderr",
     "output_type": "stream",
     "text": [
      "Version 0.12.1 of tpot is outdated. Version 0.12.2 was released Friday February 23, 2024.\n"
     ]
    },
    {
     "data": {
      "application/vnd.jupyter.widget-view+json": {
       "model_id": "",
       "version_major": 2,
       "version_minor": 0
      },
      "text/plain": [
       "Optimization Progress:   0%|          | 0/50 [00:00<?, ?pipeline/s]"
      ]
     },
     "metadata": {},
     "output_type": "display_data"
    },
    {
     "name": "stderr",
     "output_type": "stream",
     "text": [
      "/home/bogdb/src/pdm-tpot/.venv/lib/python3.9/site-packages/tpot/builtins/__init__.py:36: UserWarning: Warning: optional dependency `torch` is not available. - skipping import of NN models.\n",
      "  warnings.warn(\"Warning: optional dependency `torch` is not available. - skipping import of NN models.\")\n",
      "/home/bogdb/src/pdm-tpot/.venv/lib/python3.9/site-packages/tpot/builtins/__init__.py:36: UserWarning: Warning: optional dependency `torch` is not available. - skipping import of NN models.\n",
      "  warnings.warn(\"Warning: optional dependency `torch` is not available. - skipping import of NN models.\")\n",
      "/home/bogdb/src/pdm-tpot/.venv/lib/python3.9/site-packages/tpot/builtins/__init__.py:36: UserWarning: Warning: optional dependency `torch` is not available. - skipping import of NN models.\n",
      "  warnings.warn(\"Warning: optional dependency `torch` is not available. - skipping import of NN models.\")\n",
      "/home/bogdb/src/pdm-tpot/.venv/lib/python3.9/site-packages/tpot/builtins/__init__.py:36: UserWarning: Warning: optional dependency `torch` is not available. - skipping import of NN models.\n",
      "  warnings.warn(\"Warning: optional dependency `torch` is not available. - skipping import of NN models.\")\n",
      "/home/bogdb/src/pdm-tpot/.venv/lib/python3.9/site-packages/tpot/builtins/__init__.py:36: UserWarning: Warning: optional dependency `torch` is not available. - skipping import of NN models.\n",
      "  warnings.warn(\"Warning: optional dependency `torch` is not available. - skipping import of NN models.\")\n",
      "/home/bogdb/src/pdm-tpot/.venv/lib/python3.9/site-packages/tpot/builtins/__init__.py:36: UserWarning: Warning: optional dependency `torch` is not available. - skipping import of NN models.\n",
      "  warnings.warn(\"Warning: optional dependency `torch` is not available. - skipping import of NN models.\")\n",
      "/home/bogdb/src/pdm-tpot/.venv/lib/python3.9/site-packages/tpot/builtins/__init__.py:36: UserWarning: Warning: optional dependency `torch` is not available. - skipping import of NN models.\n",
      "  warnings.warn(\"Warning: optional dependency `torch` is not available. - skipping import of NN models.\")\n",
      "/home/bogdb/src/pdm-tpot/.venv/lib/python3.9/site-packages/tpot/builtins/__init__.py:36: UserWarning: Warning: optional dependency `torch` is not available. - skipping import of NN models.\n",
      "  warnings.warn(\"Warning: optional dependency `torch` is not available. - skipping import of NN models.\")\n",
      "/home/bogdb/src/pdm-tpot/.venv/lib/python3.9/site-packages/tpot/builtins/__init__.py:36: UserWarning: Warning: optional dependency `torch` is not available. - skipping import of NN models.\n",
      "  warnings.warn(\"Warning: optional dependency `torch` is not available. - skipping import of NN models.\")\n",
      "/home/bogdb/src/pdm-tpot/.venv/lib/python3.9/site-packages/tpot/builtins/__init__.py:36: UserWarning: Warning: optional dependency `torch` is not available. - skipping import of NN models.\n",
      "  warnings.warn(\"Warning: optional dependency `torch` is not available. - skipping import of NN models.\")\n",
      "/home/bogdb/src/pdm-tpot/.venv/lib/python3.9/site-packages/tpot/builtins/__init__.py:36: UserWarning: Warning: optional dependency `torch` is not available. - skipping import of NN models.\n",
      "  warnings.warn(\"Warning: optional dependency `torch` is not available. - skipping import of NN models.\")\n",
      "/home/bogdb/src/pdm-tpot/.venv/lib/python3.9/site-packages/tpot/builtins/__init__.py:36: UserWarning: Warning: optional dependency `torch` is not available. - skipping import of NN models.\n",
      "  warnings.warn(\"Warning: optional dependency `torch` is not available. - skipping import of NN models.\")\n",
      "/home/bogdb/src/pdm-tpot/.venv/lib/python3.9/site-packages/tpot/builtins/__init__.py:36: UserWarning: Warning: optional dependency `torch` is not available. - skipping import of NN models.\n",
      "  warnings.warn(\"Warning: optional dependency `torch` is not available. - skipping import of NN models.\")\n",
      "/home/bogdb/src/pdm-tpot/.venv/lib/python3.9/site-packages/tpot/builtins/__init__.py:36: UserWarning: Warning: optional dependency `torch` is not available. - skipping import of NN models.\n",
      "  warnings.warn(\"Warning: optional dependency `torch` is not available. - skipping import of NN models.\")\n",
      "/home/bogdb/src/pdm-tpot/.venv/lib/python3.9/site-packages/tpot/builtins/__init__.py:36: UserWarning: Warning: optional dependency `torch` is not available. - skipping import of NN models.\n",
      "  warnings.warn(\"Warning: optional dependency `torch` is not available. - skipping import of NN models.\")\n",
      "/home/bogdb/src/pdm-tpot/.venv/lib/python3.9/site-packages/tpot/builtins/__init__.py:36: UserWarning: Warning: optional dependency `torch` is not available. - skipping import of NN models.\n",
      "  warnings.warn(\"Warning: optional dependency `torch` is not available. - skipping import of NN models.\")\n"
     ]
    },
    {
     "name": "stdout",
     "output_type": "stream",
     "text": [
      "\n",
      "Generation 1 - Current best internal CV score: -2807169769292.6494\n",
      "\n",
      "Generation 2 - Current best internal CV score: -2737018035638.432\n",
      "\n",
      "Generation 3 - Current best internal CV score: -2737018035638.432\n",
      "\n",
      "Generation 4 - Current best internal CV score: -2714621318969.518\n",
      "\n",
      "Generation 5 - Current best internal CV score: -2667895165963.82\n",
      "\n",
      "Best pipeline: RandomForestRegressor(input_matrix, bootstrap=False, max_features=0.4, min_samples_leaf=2, min_samples_split=12, n_estimators=100)\n"
     ]
    },
    {
     "data": {
      "text/html": [
       "<style>#sk-container-id-2 {color: black;}#sk-container-id-2 pre{padding: 0;}#sk-container-id-2 div.sk-toggleable {background-color: white;}#sk-container-id-2 label.sk-toggleable__label {cursor: pointer;display: block;width: 100%;margin-bottom: 0;padding: 0.3em;box-sizing: border-box;text-align: center;}#sk-container-id-2 label.sk-toggleable__label-arrow:before {content: \"▸\";float: left;margin-right: 0.25em;color: #696969;}#sk-container-id-2 label.sk-toggleable__label-arrow:hover:before {color: black;}#sk-container-id-2 div.sk-estimator:hover label.sk-toggleable__label-arrow:before {color: black;}#sk-container-id-2 div.sk-toggleable__content {max-height: 0;max-width: 0;overflow: hidden;text-align: left;background-color: #f0f8ff;}#sk-container-id-2 div.sk-toggleable__content pre {margin: 0.2em;color: black;border-radius: 0.25em;background-color: #f0f8ff;}#sk-container-id-2 input.sk-toggleable__control:checked~div.sk-toggleable__content {max-height: 200px;max-width: 100%;overflow: auto;}#sk-container-id-2 input.sk-toggleable__control:checked~label.sk-toggleable__label-arrow:before {content: \"▾\";}#sk-container-id-2 div.sk-estimator input.sk-toggleable__control:checked~label.sk-toggleable__label {background-color: #d4ebff;}#sk-container-id-2 div.sk-label input.sk-toggleable__control:checked~label.sk-toggleable__label {background-color: #d4ebff;}#sk-container-id-2 input.sk-hidden--visually {border: 0;clip: rect(1px 1px 1px 1px);clip: rect(1px, 1px, 1px, 1px);height: 1px;margin: -1px;overflow: hidden;padding: 0;position: absolute;width: 1px;}#sk-container-id-2 div.sk-estimator {font-family: monospace;background-color: #f0f8ff;border: 1px dotted black;border-radius: 0.25em;box-sizing: border-box;margin-bottom: 0.5em;}#sk-container-id-2 div.sk-estimator:hover {background-color: #d4ebff;}#sk-container-id-2 div.sk-parallel-item::after {content: \"\";width: 100%;border-bottom: 1px solid gray;flex-grow: 1;}#sk-container-id-2 div.sk-label:hover label.sk-toggleable__label {background-color: #d4ebff;}#sk-container-id-2 div.sk-serial::before {content: \"\";position: absolute;border-left: 1px solid gray;box-sizing: border-box;top: 0;bottom: 0;left: 50%;z-index: 0;}#sk-container-id-2 div.sk-serial {display: flex;flex-direction: column;align-items: center;background-color: white;padding-right: 0.2em;padding-left: 0.2em;position: relative;}#sk-container-id-2 div.sk-item {position: relative;z-index: 1;}#sk-container-id-2 div.sk-parallel {display: flex;align-items: stretch;justify-content: center;background-color: white;position: relative;}#sk-container-id-2 div.sk-item::before, #sk-container-id-2 div.sk-parallel-item::before {content: \"\";position: absolute;border-left: 1px solid gray;box-sizing: border-box;top: 0;bottom: 0;left: 50%;z-index: -1;}#sk-container-id-2 div.sk-parallel-item {display: flex;flex-direction: column;z-index: 1;position: relative;background-color: white;}#sk-container-id-2 div.sk-parallel-item:first-child::after {align-self: flex-end;width: 50%;}#sk-container-id-2 div.sk-parallel-item:last-child::after {align-self: flex-start;width: 50%;}#sk-container-id-2 div.sk-parallel-item:only-child::after {width: 0;}#sk-container-id-2 div.sk-dashed-wrapped {border: 1px dashed gray;margin: 0 0.4em 0.5em 0.4em;box-sizing: border-box;padding-bottom: 0.4em;background-color: white;}#sk-container-id-2 div.sk-label label {font-family: monospace;font-weight: bold;display: inline-block;line-height: 1.2em;}#sk-container-id-2 div.sk-label-container {text-align: center;}#sk-container-id-2 div.sk-container {/* jupyter's `normalize.less` sets `[hidden] { display: none; }` but bootstrap.min.css set `[hidden] { display: none !important; }` so we also need the `!important` here to be able to override the default hidden behavior on the sphinx rendered scikit-learn.org. See: https://github.com/scikit-learn/scikit-learn/issues/21755 */display: inline-block !important;position: relative;}#sk-container-id-2 div.sk-text-repr-fallback {display: none;}</style><div id=\"sk-container-id-2\" class=\"sk-top-container\"><div class=\"sk-text-repr-fallback\"><pre>TPOTRegressor(config_dict=&#x27;TPOT sparse&#x27;, generations=5, max_time_mins=240,\n",
       "              n_jobs=16, periodic_checkpoint_folder=&#x27;/content/results&#x27;,\n",
       "              population_size=50, verbosity=2)</pre><b>In a Jupyter environment, please rerun this cell to show the HTML representation or trust the notebook. <br />On GitHub, the HTML representation is unable to render, please try loading this page with nbviewer.org.</b></div><div class=\"sk-container\" hidden><div class=\"sk-item\"><div class=\"sk-estimator sk-toggleable\"><input class=\"sk-toggleable__control sk-hidden--visually\" id=\"sk-estimator-id-2\" type=\"checkbox\" checked><label for=\"sk-estimator-id-2\" class=\"sk-toggleable__label sk-toggleable__label-arrow\">TPOTRegressor</label><div class=\"sk-toggleable__content\"><pre>TPOTRegressor(config_dict=&#x27;TPOT sparse&#x27;, generations=5, max_time_mins=240,\n",
       "              n_jobs=16, periodic_checkpoint_folder=&#x27;/content/results&#x27;,\n",
       "              population_size=50, verbosity=2)</pre></div></div></div></div></div>"
      ],
      "text/plain": [
       "TPOTRegressor(config_dict='TPOT sparse', generations=5, max_time_mins=240,\n",
       "              n_jobs=16, periodic_checkpoint_folder='/content/results',\n",
       "              population_size=50, verbosity=2)"
      ]
     },
     "execution_count": 15,
     "metadata": {},
     "output_type": "execute_result"
    }
   ],
   "source": [
    "#starting the training\n",
    "tpot.fit(X_train, y_train)"
   ]
  },
  {
   "cell_type": "code",
   "execution_count": 16,
   "id": "8ffbad0e-5acc-464c-9222-41cf73763721",
   "metadata": {},
   "outputs": [
    {
     "name": "stdout",
     "output_type": "stream",
     "text": [
      "RESULTS OF BEST MODEL:\n",
      "\n",
      "R2:                         0.5573229736024927\n",
      "Mean Squared Error:         2421459202196.3364\n",
      "Root Mean Squared Error:    1556103.8532811159\n",
      "Mean Absolute Error:        818699.5089797908\n",
      "Explained Variance:         0.5574480498486267\n",
      "Max Error:                  34354225.47986328\n",
      "Median Absolute Error       420493.29575433116\n"
     ]
    }
   ],
   "source": [
    "import sklearn.metrics as skm\n",
    "\n",
    "y_pred = tpot.predict(X_test)\n",
    "\n",
    "print(\"RESULTS OF BEST MODEL:\\n\")\n",
    "\n",
    "print(f\"R2:                         {skm.r2_score(y_test, y_pred)}\")\n",
    "print(f\"Mean Squared Error:         {skm.mean_squared_error(y_test, y_pred)}\")\n",
    "print(f\"Root Mean Squared Error:    {skm.mean_squared_error(y_test, y_pred, squared=False)}\")\n",
    "print(f\"Mean Absolute Error:        {skm.mean_absolute_error(y_test, y_pred)}\")\n",
    "print(f\"Explained Variance:         {skm.explained_variance_score(y_test, y_pred)}\")\n",
    "print(f\"Max Error:                  {skm.max_error(y_test, y_pred)}\")\n",
    "print(f\"Median Absolute Error       {skm.median_absolute_error(y_test, y_pred)}\")\n"
   ]
  },
  {
   "cell_type": "code",
   "execution_count": 17,
   "id": "52a4bde5-d2ff-4902-9611-173d6b128c21",
   "metadata": {},
   "outputs": [
    {
     "name": "stdout",
     "output_type": "stream",
     "text": [
      "                    Metric         Value\n",
      "0                       R2  5.573230e-01\n",
      "1       Mean Squared Error  2.421459e+12\n",
      "2  Root Mean Squared Error  1.556104e+06\n",
      "3      Mean Absolute Error  8.186995e+05\n",
      "4       Explained Variance  5.574480e-01\n",
      "5                Max Error  3.435423e+07\n",
      "6    Median Absolute Error  4.204933e+05\n"
     ]
    }
   ],
   "source": [
    "#from IPython.display import FileLink\n",
    "#output of values to dictionary\n",
    "metrics_dict = {\n",
    "    'Metric': [\n",
    "        'R2',\n",
    "        'Mean Squared Error',\n",
    "        'Root Mean Squared Error',\n",
    "        'Mean Absolute Error',\n",
    "        'Explained Variance',\n",
    "        'Max Error',\n",
    "        'Median Absolute Error'\n",
    "    ],\n",
    "    'Value': [\n",
    "        skm.r2_score(y_test, y_pred),\n",
    "        skm.mean_squared_error(y_test, y_pred),\n",
    "        skm.mean_squared_error(y_test, y_pred, squared=False),\n",
    "        skm.mean_absolute_error(y_test, y_pred),\n",
    "        skm.explained_variance_score(y_test, y_pred),\n",
    "        skm.max_error(y_test, y_pred),\n",
    "        skm.median_absolute_error(y_test, y_pred)\n",
    "    ]\n",
    "}\n",
    "\n",
    "#to df\n",
    "metrics_df = pd.DataFrame(metrics_dict)\n",
    "\n",
    "\n",
    "print(metrics_df)\n",
    "\n",
    "metrics_df.to_csv('tpot_regression_metrics_normal.csv', index=False)"
   ]
  },
  {
   "cell_type": "code",
   "execution_count": 18,
   "id": "1a9a900a-ad1b-4245-aacd-e17db92e021e",
   "metadata": {},
   "outputs": [
    {
     "data": {
      "text/html": [
       "<a href='tpot_regression_metrics_normal.csv' target='_blank'>tpot_regression_metrics_normal.csv</a><br>"
      ],
      "text/plain": [
       "/home/bogdb/src/pdm-tpot/tpot_regression_metrics_normal.csv"
      ]
     },
     "execution_count": 18,
     "metadata": {},
     "output_type": "execute_result"
    }
   ],
   "source": [
    "from IPython.display import FileLink\n",
    "FileLink('tpot_regression_metrics_normal.csv')"
   ]
  },
  {
   "cell_type": "code",
   "execution_count": 19,
   "id": "1925fdca-0f8f-40db-9fc3-3d5315ba0f15",
   "metadata": {},
   "outputs": [
    {
     "data": {
      "text/html": [
       "<div>\n",
       "<style scoped>\n",
       "    .dataframe tbody tr th:only-of-type {\n",
       "        vertical-align: middle;\n",
       "    }\n",
       "\n",
       "    .dataframe tbody tr th {\n",
       "        vertical-align: top;\n",
       "    }\n",
       "\n",
       "    .dataframe thead th {\n",
       "        text-align: right;\n",
       "    }\n",
       "</style>\n",
       "<table border=\"1\" class=\"dataframe\">\n",
       "  <thead>\n",
       "    <tr style=\"text-align: right;\">\n",
       "      <th></th>\n",
       "      <th>model</th>\n",
       "      <th>cv_score</th>\n",
       "      <th>model_info</th>\n",
       "    </tr>\n",
       "  </thead>\n",
       "  <tbody>\n",
       "    <tr>\n",
       "      <th>267</th>\n",
       "      <td>RandomForestRegressor(input_matrix, RandomFore...</td>\n",
       "      <td>-2.667895e+12</td>\n",
       "      <td>{'generation': 5, 'mutation_count': 2, 'crosso...</td>\n",
       "    </tr>\n",
       "    <tr>\n",
       "      <th>210</th>\n",
       "      <td>RandomForestRegressor(input_matrix, RandomFore...</td>\n",
       "      <td>-2.714621e+12</td>\n",
       "      <td>{'generation': 4, 'mutation_count': 3, 'crosso...</td>\n",
       "    </tr>\n",
       "    <tr>\n",
       "      <th>252</th>\n",
       "      <td>RandomForestRegressor(input_matrix, RandomFore...</td>\n",
       "      <td>-2.723505e+12</td>\n",
       "      <td>{'generation': 5, 'mutation_count': 4, 'crosso...</td>\n",
       "    </tr>\n",
       "    <tr>\n",
       "      <th>241</th>\n",
       "      <td>RandomForestRegressor(input_matrix, RandomFore...</td>\n",
       "      <td>-2.729536e+12</td>\n",
       "      <td>{'generation': 5, 'mutation_count': 2, 'crosso...</td>\n",
       "    </tr>\n",
       "    <tr>\n",
       "      <th>116</th>\n",
       "      <td>RandomForestRegressor(input_matrix, RandomFore...</td>\n",
       "      <td>-2.737018e+12</td>\n",
       "      <td>{'generation': 2, 'mutation_count': 1, 'crosso...</td>\n",
       "    </tr>\n",
       "    <tr>\n",
       "      <th>...</th>\n",
       "      <td>...</td>\n",
       "      <td>...</td>\n",
       "      <td>...</td>\n",
       "    </tr>\n",
       "    <tr>\n",
       "      <th>89</th>\n",
       "      <td>XGBRegressor(input_matrix, XGBRegressor__learn...</td>\n",
       "      <td>-8.395475e+12</td>\n",
       "      <td>{'generation': 1, 'mutation_count': 1, 'crosso...</td>\n",
       "    </tr>\n",
       "    <tr>\n",
       "      <th>30</th>\n",
       "      <td>XGBRegressor(input_matrix, XGBRegressor__learn...</td>\n",
       "      <td>-8.541108e+12</td>\n",
       "      <td>{'generation': 0, 'mutation_count': 0, 'crosso...</td>\n",
       "    </tr>\n",
       "    <tr>\n",
       "      <th>55</th>\n",
       "      <td>RandomForestRegressor(SelectFromModel(input_ma...</td>\n",
       "      <td>-inf</td>\n",
       "      <td>{'generation': 1, 'mutation_count': 1, 'crosso...</td>\n",
       "    </tr>\n",
       "    <tr>\n",
       "      <th>11</th>\n",
       "      <td>RandomForestRegressor(SelectFromModel(input_ma...</td>\n",
       "      <td>-inf</td>\n",
       "      <td>{'generation': 0, 'mutation_count': 0, 'crosso...</td>\n",
       "    </tr>\n",
       "    <tr>\n",
       "      <th>0</th>\n",
       "      <td>XGBRegressor(SelectFromModel(input_matrix, Sel...</td>\n",
       "      <td>-inf</td>\n",
       "      <td>{'generation': 0, 'mutation_count': 0, 'crosso...</td>\n",
       "    </tr>\n",
       "  </tbody>\n",
       "</table>\n",
       "<p>283 rows × 3 columns</p>\n",
       "</div>"
      ],
      "text/plain": [
       "                                                 model      cv_score  \\\n",
       "267  RandomForestRegressor(input_matrix, RandomFore... -2.667895e+12   \n",
       "210  RandomForestRegressor(input_matrix, RandomFore... -2.714621e+12   \n",
       "252  RandomForestRegressor(input_matrix, RandomFore... -2.723505e+12   \n",
       "241  RandomForestRegressor(input_matrix, RandomFore... -2.729536e+12   \n",
       "116  RandomForestRegressor(input_matrix, RandomFore... -2.737018e+12   \n",
       "..                                                 ...           ...   \n",
       "89   XGBRegressor(input_matrix, XGBRegressor__learn... -8.395475e+12   \n",
       "30   XGBRegressor(input_matrix, XGBRegressor__learn... -8.541108e+12   \n",
       "55   RandomForestRegressor(SelectFromModel(input_ma...          -inf   \n",
       "11   RandomForestRegressor(SelectFromModel(input_ma...          -inf   \n",
       "0    XGBRegressor(SelectFromModel(input_matrix, Sel...          -inf   \n",
       "\n",
       "                                            model_info  \n",
       "267  {'generation': 5, 'mutation_count': 2, 'crosso...  \n",
       "210  {'generation': 4, 'mutation_count': 3, 'crosso...  \n",
       "252  {'generation': 5, 'mutation_count': 4, 'crosso...  \n",
       "241  {'generation': 5, 'mutation_count': 2, 'crosso...  \n",
       "116  {'generation': 2, 'mutation_count': 1, 'crosso...  \n",
       "..                                                 ...  \n",
       "89   {'generation': 1, 'mutation_count': 1, 'crosso...  \n",
       "30   {'generation': 0, 'mutation_count': 0, 'crosso...  \n",
       "55   {'generation': 1, 'mutation_count': 1, 'crosso...  \n",
       "11   {'generation': 0, 'mutation_count': 0, 'crosso...  \n",
       "0    {'generation': 0, 'mutation_count': 0, 'crosso...  \n",
       "\n",
       "[283 rows x 3 columns]"
      ]
     },
     "execution_count": 19,
     "metadata": {},
     "output_type": "execute_result"
    }
   ],
   "source": [
    "#showing best models as there is no leaderboard\n",
    "import pandas as pd\n",
    "\n",
    "# Converting all evaluated models to a list of tuples\n",
    "my_dict = list(tpot.evaluated_individuals_.items())\n",
    "\n",
    "# empty list for dictionaries\n",
    "model_list = []\n",
    "\n",
    "for model in my_dict:\n",
    "    model_name = model[0]\n",
    "    model_info = model[1]\n",
    "    cv_score = model_info.get('internal_cv_score')  # Pull out cv_score as a column (i.e., sortable)\n",
    "    \n",
    "    # Append dictionary to the list\n",
    "    model_list.append({\n",
    "        'model': model_name,\n",
    "        'cv_score': cv_score,\n",
    "        'model_info': model_info,\n",
    "    })\n",
    "\n",
    "# Convert list to a DataFrame\n",
    "model_scores = pd.DataFrame(model_list)\n",
    "\n",
    "# Sort the DataFrame by cv_score\n",
    "model_scores = model_scores.sort_values('cv_score', ascending=False)\n",
    "\n",
    "# output\n",
    "model_scores"
   ]
  },
  {
   "cell_type": "code",
   "execution_count": 23,
   "id": "db470262-313f-4b71-ad54-5b854f18f61a",
   "metadata": {},
   "outputs": [],
   "source": [
    "model_scores.to_csv('TPOT_normal_regression_model_score.csv', index=False)"
   ]
  },
  {
   "cell_type": "code",
   "execution_count": 25,
   "id": "5c423a72-3e38-4745-83d8-71d1e30e502a",
   "metadata": {},
   "outputs": [
    {
     "data": {
      "text/html": [
       "<a href='TPOT_normal_regression_model_score.csv' target='_blank'>TPOT_normal_regression_model_score.csv</a><br>"
      ],
      "text/plain": [
       "/home/bogdb/src/pdm-tpot/TPOT_normal_regression_model_score.csv"
      ]
     },
     "execution_count": 25,
     "metadata": {},
     "output_type": "execute_result"
    }
   ],
   "source": [
    "from IPython.display import FileLink\n",
    "FileLink('TPOT_normal_regression_model_score.csv')"
   ]
  },
  {
   "cell_type": "code",
   "execution_count": 22,
   "id": "3112ade5-2fdc-41f0-8f2b-3b0a49dde337",
   "metadata": {},
   "outputs": [],
   "source": [
    "tpot.export('tpot_regression_model_normal')"
   ]
  },
  {
   "cell_type": "code",
   "execution_count": null,
   "id": "6a825c4b-7956-4f2b-b748-cbfa932821de",
   "metadata": {},
   "outputs": [],
   "source": []
  },
  {
   "cell_type": "code",
   "execution_count": null,
   "id": "80d07439-67d5-4292-b79b-2525b1277b31",
   "metadata": {},
   "outputs": [],
   "source": []
  }
 ],
 "metadata": {
  "kernelspec": {
   "display_name": "Python 3 (ipykernel)",
   "language": "python",
   "name": "python3"
  },
  "language_info": {
   "codemirror_mode": {
    "name": "ipython",
    "version": 3
   },
   "file_extension": ".py",
   "mimetype": "text/x-python",
   "name": "python",
   "nbconvert_exporter": "python",
   "pygments_lexer": "ipython3",
   "version": "3.9.19"
  }
 },
 "nbformat": 4,
 "nbformat_minor": 5
}
